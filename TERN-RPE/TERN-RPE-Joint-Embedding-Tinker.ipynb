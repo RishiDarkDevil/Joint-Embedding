{
 "cells": [
  {
   "cell_type": "markdown",
   "id": "d747eb05",
   "metadata": {},
   "source": [
    "## Importing Necessary Libraries"
   ]
  },
  {
   "cell_type": "markdown",
   "id": "d38e98fe",
   "metadata": {},
   "source": [
    "Importing all the necessary libraries required."
   ]
  },
  {
   "cell_type": "code",
   "execution_count": 109,
   "id": "d7ca4bb2",
   "metadata": {},
   "outputs": [],
   "source": [
    "import os\n",
    "import math\n",
    "import time\n",
    "import copy\n",
    "import random\n",
    "import numpy as np\n",
    "from tqdm import tqdm\n",
    "from datetime import datetime\n",
    "# from torchviz import make_dot\n",
    "import matplotlib.pyplot as plt\n",
    "\n",
    "import cv2\n",
    "import albumentations as A\n",
    "from albumentations.pytorch.transforms import ToTensorV2\n",
    "from PIL import Image\n",
    "\n",
    "from pycocotools.coco import COCO\n",
    "import torch.utils.data as data\n",
    "from torch.utils.data import Dataset\n",
    "from torch.utils.data import DataLoader\n",
    "\n",
    "import torch\n",
    "import torch.nn as nn\n",
    "import torch.nn.functional as F\n",
    "\n",
    "from transformers import AutoTokenizer, AutoModel, pipeline\n",
    "\n",
    "from sklearn.metrics.pairwise import euclidean_distances, cosine_distances\n",
    "from pytorch_metric_learning import losses\n",
    "\n",
    "import faiss"
   ]
  },
  {
   "cell_type": "markdown",
   "id": "b8c1b435",
   "metadata": {},
   "source": [
    "## Configure Data and Model"
   ]
  },
  {
   "cell_type": "markdown",
   "id": "1cbad763",
   "metadata": {},
   "source": [
    "In this section set the data paths and other configurations for `trainloader`, `valloader`, `valset1` and `valset2`   (`valset1` contains the BottomsUp features and `valset2` contains the BERT features which are meant for evaluation) as follows:\n",
    "- `root_dir`: Path to directory for images\n",
    "- `ann_path`: Path to .json file containing annotations\n",
    "- `feat_dir`: Path to directory containing BottomsUp image features for each image\n",
    "- `text_dir`: Path to directory containing BERT's textual features for each annotation\n",
    "- `batch_size`: The batch size for train loader\n",
    "\n",
    "I am using the **Flickr30k Dataset**."
   ]
  },
  {
   "cell_type": "code",
   "execution_count": 110,
   "id": "ae3e8b0d",
   "metadata": {},
   "outputs": [],
   "source": [
    "# Train DataLoader Configurations\n",
    "trainloader_args = {\n",
    "  'root_dir': \"/Users/rishideychowdhury/Desktop/Joint-Embedding/Data/flickr30k_images/flickr30k_images/flickr30k_images\",\n",
    "  'ann_path': \"/Users/rishideychowdhury/Desktop/Joint-Embedding/Data/flickr30k_annotations/train.json\",\n",
    "  'feat_dir': \"/Users/rishideychowdhury/Desktop/Joint-Embedding/Data/bottom_up\",\n",
    "  'text_dir': \"/Users/rishideychowdhury/Desktop/Joint-Embedding/Data/bert_features\",\n",
    "  'batch_size': 128,\n",
    "  'num_workers': 0\n",
    "}\n",
    "\n",
    "# Validation DataLoader Configurations\n",
    "valloader_args = {\n",
    "  'root_dir': \"/Users/rishideychowdhury/Desktop/Joint-Embedding/Data/flickr30k_images/flickr30k_images/flickr30k_images\",\n",
    "  'ann_path': \"/Users/rishideychowdhury/Desktop/Joint-Embedding/Data/flickr30k_annotations/val.json\",\n",
    "  'feat_dir': \"/Users/rishideychowdhury/Desktop/Joint-Embedding/Data/bottom_up\",\n",
    "  'text_dir': \"/Users/rishideychowdhury/Desktop/Joint-Embedding/Data/bert_features\",\n",
    "  'batch_size': 128, \n",
    "  'num_workers': 0\n",
    "}\n",
    "\n",
    "# Dataset for Metric Evaluation -Here I use the validation set itself for metric evaluation\n",
    "valset1_args = { # BottomUp Features\n",
    "  'feat_dir': \"/Users/rishideychowdhury/Desktop/Joint-Embedding/Data/bottom_up\",\n",
    "  'ann_path': \"/Users/rishideychowdhury/Desktop/Joint-Embedding/Data/flickr30k_annotations/val.json\"\n",
    "}\n",
    "\n",
    "# Dataset for Metric Evaluation -Here I use the validation set itself for metric evaluation\n",
    "valset2_args = { # BERT Features\n",
    "  'feat_dir': \"/Users/rishideychowdhury/Desktop/Joint-Embedding/Data/bert_features\",\n",
    "  'ann_path': \"/Users/rishideychowdhury/Desktop/Joint-Embedding/Data/flickr30k_annotations/val.json\"\n",
    "}"
   ]
  },
  {
   "cell_type": "code",
   "execution_count": 111,
   "id": "20bd6def",
   "metadata": {},
   "outputs": [],
   "source": [
    "device = torch.device('mps') # Set it to 'cuda' for gpu or 'cpu' for cpu or 'mps' for M1"
   ]
  },
  {
   "cell_type": "markdown",
   "id": "39051edf",
   "metadata": {},
   "source": [
    "## Data Preparation"
   ]
  },
  {
   "cell_type": "markdown",
   "id": "b9f854f6",
   "metadata": {},
   "source": [
    "I define the class that will handle the custom datasets and dataloaders. The format in which the dataset of images and the annotation files are present is according to the COCO guidelines.\n",
    "\n",
    "Make sure to have extracted the image and annotation features for the following class to function properly. The data directory tree is being provided below for reference. Suppose the folder containing all the data is named `data`.\n",
    "```\n",
    "data ───────────────────────────> Contains the Dataset and the relevant pre-computed features\n",
    "├── bert_features ──────────────> Contains the BERT Features for the annotations in the Flickr30k Dataset\n",
    "│   ├── 0.npz\n",
    "│   ├── 1.npz\n",
    "│   ├── 2.npz\n",
    "│   ├── .....\n",
    "│   └── 155069.npz ─────────────> BERT Features for the annotation text with ann_id = 155069\n",
    "├── bottom_up ──────────────────> Contains the Bottom-up Features for all the annotations in the Flickr30k\n",
    "│   ├── data_att\n",
    "│   │   ├── 1000092795.npz\n",
    "│   │   ├── 10002456.npz\n",
    "│   │   ├── ...\n",
    "│   │   └── 998845445.npz ──────> Bottom-Up Features for the image with image_id = 998845445\n",
    "│   └── data_box\n",
    "│       ├── 1000092795.npz\n",
    "│       ├── 10002456.npz\n",
    "│       ├── ...\n",
    "│       └── 998845445.npz ──────> Bounding Box Features for the image with image_id = 998845445\n",
    "├── flickr30k_annotations ──────> Contains the Annotation Files for the Flickr30k Dataset\n",
    "│   ├── flickr30k_all.json ─────> Annotation File for the entire Flickr30k Images\n",
    "│   ├── train.json ─────────────> Annotation File for the train Flickr30k Images \n",
    "│   └── val.json ───────────────> Annotation File for the validation Flickr30k Images \n",
    "└── flickr30k_images ───────────> Contains the Image Files for the Flickr30k Dataset\n",
    "    └── flickr30k_images ───────> Ignore this directory\n",
    "        ├── 1000092795.jpg\n",
    "        ├── 10002456.jpg ───────> Images from the Flickr30k Dataset\n",
    "        ├── ...\n",
    "        └── 998845445.jpg\n",
    "```"
   ]
  },
  {
   "cell_type": "markdown",
   "id": "8d4fab65",
   "metadata": {},
   "source": [
    "Above the name of the `<ann_id>.npz` in `bert_features` file corresponds to the annotation with the `ann_id` as `<ann_id>` and the name of the  `<image_id>.npz` in `bottom_up/data_att` and `bottom_up/data_box` corresponds to the image with the `image_id` as `<image_id>` in the `flickr30k_all.json` file which stores the data as per the `COCO .json` guidelines."
   ]
  },
  {
   "cell_type": "markdown",
   "id": "5645f6bf",
   "metadata": {},
   "source": [
    "### Bottom-Up Features Storage"
   ]
  },
  {
   "cell_type": "markdown",
   "id": "cf31d496",
   "metadata": {},
   "source": [
    "Below we see how the data in the .npz files are organized. `data_box` folder contains the coordinates of the bounding box."
   ]
  },
  {
   "cell_type": "code",
   "execution_count": 112,
   "id": "a9e384c9",
   "metadata": {},
   "outputs": [],
   "source": [
    "data1 = np.load('/Users/rishideychowdhury/Desktop/Joint-Embedding/Data/bottom_up/data_box/36979.npz')"
   ]
  },
  {
   "cell_type": "code",
   "execution_count": 113,
   "id": "010abb84",
   "metadata": {},
   "outputs": [
    {
     "data": {
      "text/plain": [
       "(36, 5)"
      ]
     },
     "execution_count": 113,
     "metadata": {},
     "output_type": "execute_result"
    }
   ],
   "source": [
    "data1['feat'].shape"
   ]
  },
  {
   "cell_type": "code",
   "execution_count": 114,
   "id": "f4091c9d",
   "metadata": {},
   "outputs": [
    {
     "data": {
      "text/plain": [
       "array([[103.83716583,  55.41079712, 144.81468201,  99.13117218,\n",
       "        545.        ],\n",
       "       [110.3965683 , 146.09048462, 361.76617432, 286.25769043,\n",
       "        106.        ],\n",
       "       [135.88619995, 173.63604736, 415.54824829, 335.27069092,\n",
       "        106.        ],\n",
       "       [251.71195984,  40.11985779, 356.18463135, 211.74856567,\n",
       "         50.        ],\n",
       "       [  0.        ,  70.35986328, 101.263237  , 179.20793152,\n",
       "        119.        ]])"
      ]
     },
     "execution_count": 114,
     "metadata": {},
     "output_type": "execute_result"
    }
   ],
   "source": [
    "data1['feat'][:5] # First 5 out of 36 bounding boxes for one of the images"
   ]
  },
  {
   "cell_type": "markdown",
   "id": "ee82df94",
   "metadata": {},
   "source": [
    "`data_att` folder contains the features extracted from these bounding box."
   ]
  },
  {
   "cell_type": "code",
   "execution_count": 115,
   "id": "9c4c5497",
   "metadata": {},
   "outputs": [],
   "source": [
    "data1 = np.load('/Users/rishideychowdhury/Desktop/Joint-Embedding/Data/bottom_up/data_att/36979.npz')"
   ]
  },
  {
   "cell_type": "code",
   "execution_count": 116,
   "id": "f5bae097",
   "metadata": {},
   "outputs": [
    {
     "data": {
      "text/plain": [
       "(36, 2048)"
      ]
     },
     "execution_count": 116,
     "metadata": {},
     "output_type": "execute_result"
    }
   ],
   "source": [
    "data1['feat'].shape"
   ]
  },
  {
   "cell_type": "code",
   "execution_count": 117,
   "id": "aad53a8e",
   "metadata": {},
   "outputs": [
    {
     "data": {
      "text/plain": [
       "array([[0.0000000e+00, 6.2104285e-01, 1.0477988e+00, ..., 0.0000000e+00,\n",
       "        0.0000000e+00, 2.0651214e-01],\n",
       "       [5.0457919e-01, 7.7560830e-01, 0.0000000e+00, ..., 0.0000000e+00,\n",
       "        6.0314050e+00, 5.8209195e+00],\n",
       "       [2.8219435e-01, 1.8445037e-01, 0.0000000e+00, ..., 0.0000000e+00,\n",
       "        9.9888259e-01, 7.9883933e+00],\n",
       "       [0.0000000e+00, 0.0000000e+00, 0.0000000e+00, ..., 6.6663906e-02,\n",
       "        4.0683333e-02, 7.9872423e-01],\n",
       "       [0.0000000e+00, 0.0000000e+00, 2.4023591e-04, ..., 0.0000000e+00,\n",
       "        6.2136441e-01, 1.8564485e-01]], dtype=float32)"
      ]
     },
     "execution_count": 117,
     "metadata": {},
     "output_type": "execute_result"
    }
   ],
   "source": [
    "data1['feat'][:5] # First 5 out of 36 bounding boxes' features for the same image as above"
   ]
  },
  {
   "cell_type": "markdown",
   "id": "99e182f1",
   "metadata": {},
   "source": [
    "### BERT Feature Storage"
   ]
  },
  {
   "cell_type": "markdown",
   "id": "1e0a13cd",
   "metadata": {},
   "source": [
    "`bert_features` folder contains the BERT-based (more specifically `distil-bert uncased`) features extracted from the annotations."
   ]
  },
  {
   "cell_type": "code",
   "execution_count": 118,
   "id": "b4dfc1c4",
   "metadata": {},
   "outputs": [],
   "source": [
    "data1 = np.load('/Users/rishideychowdhury/Desktop/Joint-Embedding/Data/bert_features/0.npz')"
   ]
  },
  {
   "cell_type": "code",
   "execution_count": 119,
   "id": "23d1aec4",
   "metadata": {},
   "outputs": [
    {
     "data": {
      "text/plain": [
       "(19, 768)"
      ]
     },
     "execution_count": 119,
     "metadata": {},
     "output_type": "execute_result"
    }
   ],
   "source": [
    "data1['feat'].shape"
   ]
  },
  {
   "cell_type": "code",
   "execution_count": 120,
   "id": "77d5a041",
   "metadata": {},
   "outputs": [
    {
     "data": {
      "text/plain": [
       "array([[ 0.18091495, -0.17293406, -0.10586261, ..., -0.15721308,\n",
       "         0.6573164 , -0.02420515],\n",
       "       [ 0.31351984,  0.05622987, -0.24647827, ..., -0.13656305,\n",
       "         0.58381605, -0.2248309 ],\n",
       "       [ 0.4589281 ,  0.3011122 , -0.1646451 , ..., -0.35835925,\n",
       "         0.46185836, -0.71534413],\n",
       "       [ 0.44939154,  0.27436888, -0.23062916, ..., -0.31810743,\n",
       "         0.13104717, -0.46463642],\n",
       "       [ 0.46763006,  0.78821033, -0.14429283, ..., -0.06293612,\n",
       "         0.5962199 , -0.41637862]], dtype=float32)"
      ]
     },
     "execution_count": 120,
     "metadata": {},
     "output_type": "execute_result"
    }
   ],
   "source": [
    "data1['feat'][:5] # First 5 out of 19 tokens' features for each annotation"
   ]
  },
  {
   "cell_type": "markdown",
   "id": "a40fcacc",
   "metadata": {},
   "source": [
    "### Image Augmentation"
   ]
  },
  {
   "cell_type": "markdown",
   "id": "37466a22",
   "metadata": {},
   "source": [
    "I use the following image augmentation to the images from the dataset, which is added to the images before passing to the Faster-RCNN for getting region proposals and for the feature extraction."
   ]
  },
  {
   "cell_type": "code",
   "execution_count": 121,
   "id": "c88bac35",
   "metadata": {},
   "outputs": [],
   "source": [
    "MEAN = [0.485, 0.456, 0.406]\n",
    "STD = [0.229, 0.224, 0.225]\n",
    "\n",
    "class Denormalize(object):\n",
    "  \"\"\"\n",
    "  Denormalize image and boxes for visualization\n",
    "  \"\"\"\n",
    "  \n",
    "  def __init__(self, mean = MEAN, std = STD, **kwargs):\n",
    "    self.mean = mean\n",
    "    self.std = std\n",
    "\n",
    "  def __call__(self, img, box = None, label = None, mask = None, **kwargs):\n",
    "    \"\"\"\n",
    "    :param img: (tensor) image to be denormalized\n",
    "    :param box: (list of tensor) bounding boxes to be denormalized, by multiplying them with image's width and heights. Format: (x,y,width,height)\n",
    "    \"\"\"\n",
    "    mean = np.array(self.mean)\n",
    "    std = np.array(self.std)\n",
    "    img_show = img.numpy().squeeze().transpose((1,2,0))\n",
    "    img_show = (img_show * std+mean)\n",
    "    img_show = np.clip(img_show,0,1)\n",
    "    return img_show\n",
    "\n",
    "def get_resize_augmentation(image_size, keep_ratio=False, box_transforms = False):\n",
    "  \"\"\"\n",
    "  Resize an image, support multi-scaling\n",
    "  :param image_size: shape of image to resize\n",
    "  :param keep_ratio: whether to keep image ratio\n",
    "  :param box_transforms: whether to augment boxes\n",
    "  :return: albumentation Compose\n",
    "  \"\"\"\n",
    "\n",
    "  if not keep_ratio:\n",
    "    return  A.Compose([\n",
    "        A.Resize(\n",
    "            height = image_size[1],\n",
    "            width = image_size[0]\n",
    "        )]) \n",
    "  else:\n",
    "    return A.Compose([\n",
    "        A.LongestMaxSize(max_size=max(image_size)), \n",
    "        A.PadIfNeeded(min_height=image_size[1], min_width=image_size[0], p=1.0, border_mode=cv2.BORDER_CONSTANT),\n",
    "        ])\n",
    "        \n",
    "\n",
    "def get_augmentation():\n",
    "  val_transforms = A.Compose([\n",
    "      A.Normalize(mean=MEAN, std=STD, max_pixel_value=1.0, p=1.0),\n",
    "      ToTensorV2(p=1.0)\n",
    "  ])\n",
    "\n",
    "  return val_transforms"
   ]
  },
  {
   "cell_type": "markdown",
   "id": "62a2108c",
   "metadata": {},
   "source": [
    "### Visualization Functions"
   ]
  },
  {
   "cell_type": "markdown",
   "id": "8bd6c919",
   "metadata": {},
   "source": [
    "The following functions are used to visualize the images and the captions from the Dataset as well as retrieval results."
   ]
  },
  {
   "cell_type": "code",
   "execution_count": 122,
   "id": "9730c2ec",
   "metadata": {},
   "outputs": [],
   "source": [
    "def draw_image_caption(image, text, image_name=None, figsize=(10,10)):\n",
    "\n",
    "  plt.close('all')\n",
    "  fig = plt.figure(figsize=figsize)\n",
    "\n",
    "  if isinstance(image, torch.Tensor):\n",
    "    image = image.numpy().squeeze().transpose((1,2,0))\n",
    "\n",
    "  # Display the image\n",
    "  plt.imshow(image)\n",
    "  plt.axis('off')\n",
    "  fig.text(.5, .05, text, ha='center')\n",
    "\n",
    "  if image_name:\n",
    "    plt.savefig(image_name, bbox_inches='tight')\n",
    "\n",
    "  return fig\n",
    "\n",
    "def draw_retrieval_results(query, top_k_relevant, gt_path=None, save_filename=None, figsize=(10,10)):\n",
    "  plt.close('all')\n",
    "  fig=plt.figure(figsize=figsize)\n",
    "\n",
    "  columns = len(top_k_relevant) + 1\n",
    "  for i, (image, score) in enumerate(top_k_relevant):\n",
    "    img = Image.open(image)\n",
    "    fig.add_subplot(1, columns, i+1)\n",
    "    plt.imshow(img)\n",
    "    plt.title(str(score))\n",
    "    plt.tight_layout()\n",
    "    plt.axis('off')\n",
    "\n",
    "\n",
    "  # Plot ground truth\n",
    "  img = Image.open(gt_path)\n",
    "  fig.add_subplot(1, columns, columns)\n",
    "  plt.imshow(img)\n",
    "  plt.title('Ground Truth')\n",
    "  plt.tight_layout()\n",
    "  plt.axis('off')\n",
    "\n",
    "\n",
    "  if save_filename is not None:\n",
    "    plt.savefig(save_filename)\n",
    "\n",
    "  fig.suptitle(query)\n",
    "  return fig"
   ]
  },
  {
   "cell_type": "markdown",
   "id": "b9935edc",
   "metadata": {},
   "source": [
    "### Custom Dataset Classes"
   ]
  },
  {
   "cell_type": "markdown",
   "id": "0ce4133f",
   "metadata": {},
   "source": [
    "Following are the custom Dataset classes to handle our data and will serve has an input to our DataLoader for training the model."
   ]
  },
  {
   "cell_type": "markdown",
   "id": "91bf064e",
   "metadata": {},
   "source": [
    "#### COCO Dataset"
   ]
  },
  {
   "cell_type": "markdown",
   "id": "9cdb1905",
   "metadata": {},
   "source": [
    "The following is the class that handles the dataset in COCO format. It deals with the raw dataset containing images and captions only, but not the extracted features. The `CocoDataset` class can be used to fetch the data in the form of:\n",
    "- `image_ids`: IDs of the images in the .json annotation files\n",
    "- `ann_ids`: IDs for the annotations in the .json annotation files\n",
    "- `image_names`: Image names\n",
    "- `ori_imgs`: Original Images\n",
    "- `imgs`: Transformed Images\n",
    "- `tgt_texts_raw`: Raw caption texts for each image (Since, there are multiple captions for each image, we select a random caption out of the many for each image)\n",
    "- `texts`: Should contain the transformed preprocessed caption text, but as of now it returns `tgt_texts_raw`. **TODO!!!**"
   ]
  },
  {
   "cell_type": "code",
   "execution_count": 123,
   "id": "1d2418f0",
   "metadata": {},
   "outputs": [],
   "source": [
    "class CocoDataset(Dataset):\n",
    "  \n",
    "  def __init__(self, root_dir, ann_path, image_size=224, keep_ratio=False):\n",
    "\n",
    "    self.patch_size = 16\n",
    "    self.root_dir = root_dir\n",
    "    self.ann_path = ann_path\n",
    "    self.image_size = [image_size, image_size]\n",
    "\n",
    "    self.transforms = A.Compose([\n",
    "      get_resize_augmentation(self.image_size, keep_ratio=keep_ratio),\n",
    "      get_augmentation()\n",
    "    ])\n",
    "\n",
    "    self.coco = COCO(ann_path)\n",
    "    self.image_ids = self.coco.getImgIds()\n",
    "\n",
    "  def __len__(self):\n",
    "    return len(self.image_ids)\n",
    "\n",
    "  def load_image(self, image_index):\n",
    "    image_info = self.coco.loadImgs(self.image_ids[image_index])[0]\n",
    "    image_path = os.path.join(self.root_dir, image_info['file_name'])\n",
    "    return image_path\n",
    "\n",
    "  def load_annotations(self, image_index, return_all=False):\n",
    "    ann_id = self.coco.getAnnIds(imgIds=self.image_ids[image_index])\n",
    "\n",
    "    if not return_all:\n",
    "      ann_id = ann_id[0] # A random annotation out of the many annotations is returned\n",
    "      anns = self.coco.loadAnns(ann_id)[0]['caption']\n",
    "    else:\n",
    "      anns = self.coco.loadAnns(ann_id)\n",
    "      anns = [i['caption'] for i in anns]\n",
    "    return anns, ann_id\n",
    "\n",
    "  def __getitem__(self, index):\n",
    "    image_id = self.image_ids[index]\n",
    "    image_path = self.load_image(index)\n",
    "    text, ann_id = self.load_annotations(index)\n",
    "\n",
    "    return {\n",
    "      'image_id': image_id,\n",
    "      'ann_id': ann_id,\n",
    "      'image_path': image_path,\n",
    "      'text': text,\n",
    "  }\n",
    "\n",
    "  def load_augment(self, image_path):\n",
    "    ori_img = cv2.imread(image_path)\n",
    "    ori_img = cv2.cvtColor(ori_img, cv2.COLOR_BGR2RGB)\n",
    "    image = ori_img.astype(np.float32)\n",
    "    image /= 255.0\n",
    "    image = self.transforms(image=image)['image']\n",
    "    return image, ori_img\n",
    "\n",
    "  def collate_fn(self, batch):\n",
    "\n",
    "    image_paths = [s['image_path'] for s in batch]\n",
    "    image_ids = [s['image_id'] for s in batch]\n",
    "    ann_ids = [s['ann_id'] for s in batch]\n",
    "\n",
    "    image_names = []\n",
    "    ori_imgs = []\n",
    "    for image_path in image_paths:\n",
    "      image_names.append(os.path.basename(image_path))\n",
    "\n",
    "    imgs = []\n",
    "    for image_path in image_paths:\n",
    "      image, ori_img = self.load_augment(image_path)\n",
    "      imgs.append(image)\n",
    "      ori_imgs.append(ori_img)\n",
    "    feats = torch.stack(imgs)\n",
    "\n",
    "    texts = [s['text'] for s in batch]\n",
    "\n",
    "    return {\n",
    "      'image_ids': image_ids,\n",
    "      'ann_ids': ann_ids,\n",
    "      'image_names': image_names,\n",
    "      'ori_imgs': ori_imgs,\n",
    "      'imgs': feats,\n",
    "      'tgt_texts_raw': texts,\n",
    "      'texts': texts,\n",
    "    }\n",
    "\n",
    "\n",
    "  def visualize_item(self, index = None, figsize=(15,15)):\n",
    "    \"\"\"\n",
    "    Visualize an image with its captions by index\n",
    "    \"\"\"\n",
    "\n",
    "    if index is None:\n",
    "      index = random.randint(0,len(self.coco.imgs)-1)\n",
    "    image_path = self.load_image(index)\n",
    "    image_name = os.path.basename(image_path)\n",
    "    image, _ = self.load_augment(image_path)\n",
    "\n",
    "    texts, _ = self.load_annotations(index, return_all=True)\n",
    "\n",
    "    normalize = False\n",
    "    if self.transforms is not None:\n",
    "      for x in self.transforms.transforms[1]:\n",
    "        if isinstance(x, A.Normalize):\n",
    "          normalize = True\n",
    "          denormalize = Denormalize(mean=x.mean, std=x.std)\n",
    "\n",
    "    # Denormalize and reverse-tensorize\n",
    "    if normalize:\n",
    "      image = denormalize(img = image)\n",
    "\n",
    "    self.visualize(image, texts, figsize = figsize, img_name= image_name)\n",
    "\n",
    "  def visualize(self, img, texts, figsize=(15,15), img_name=None):\n",
    "    \"\"\"\n",
    "    Visualize an image with its captions\n",
    "    \"\"\"\n",
    "\n",
    "    text = []\n",
    "    for i, t in enumerate(texts):\n",
    "      text.append(f\"{i+1}. {t}\")\n",
    "    text = \"\\n\".join(text)\n",
    "    fig = draw_image_caption(img, text, figsize=figsize)\n",
    "\n",
    "    if img_name is not None:\n",
    "      plt.title(img_name)\n",
    "    plt.show()\n",
    "\n",
    "  def count_dict(self, types = 1):\n",
    "    \"\"\"\n",
    "    Count text length frequencies\n",
    "    \"\"\"\n",
    "    cnt_dict = {}\n",
    "    if types == 1: # Text length Frequencies\n",
    "      for image_id in range(len(self.image_ids)):\n",
    "        texts = self.load_annotations(image_id, return_all=True)\n",
    "        for text in texts:\n",
    "          text_length = len(text)\n",
    "          if text_length not in cnt_dict.keys():\n",
    "            cnt_dict[text_length] = 0\n",
    "          cnt_dict[text_length] += 1\n",
    "\n",
    "    return cnt_dict\n",
    "\n",
    "  def plot(self, figsize = (8,8), types = [\"length\"]):\n",
    "    \"\"\"\n",
    "    Plot distribution\n",
    "    \"\"\"\n",
    "    ax = plt.figure(figsize = figsize)\n",
    "    num_plots = len(types)\n",
    "    plot_idx = 1\n",
    "\n",
    "    if \"length\" in types:\n",
    "      ax.add_subplot(num_plots, 1, plot_idx)\n",
    "      plot_idx +=1\n",
    "      cnt_dict = self.count_dict(types = 1)\n",
    "      plt.title(\"Total texts: \"+ str(sum(list(cnt_dict.values()))))\n",
    "      bar1 = plt.bar(list(cnt_dict.keys()), list(cnt_dict.values()), color=[np.random.rand(3,) for i in range(len(cnt_dict.keys()))])\n",
    "      for rect in bar1:\n",
    "        height = rect.get_height()\n",
    "        plt.text(rect.get_x() + rect.get_width()/2.0, height, '%d' % int(height), ha='center', va='bottom')\n",
    "\n",
    "    plt.show()\n",
    "\n",
    "  def __str__(self): \n",
    "    s1 = \"Number of images: \" + str(len(self.image_ids)) + '\\n'\n",
    "    s2 = \"Number of texts: \" + str(len(self.coco.getAnnIds())) + '\\n'\n",
    "    return s1 + s2"
   ]
  },
  {
   "cell_type": "markdown",
   "id": "bbbf8a37",
   "metadata": {},
   "source": [
    "#### Numpy Features Dataset"
   ]
  },
  {
   "cell_type": "markdown",
   "id": "ff27c34b",
   "metadata": {},
   "source": [
    "Let's understand the structure of the data in detail. For each data point in the dataset, we have extracted two types of features using pretrained model, which are as follows:\n",
    "- Visual Features: Bounding Box Coordinates for Regions Proposed by Faster-RCNN's RPN and the ResNet model was used to extract the features for all these image portions inside the bounding boxes.\n",
    "- Textual Features: Textual features were obtained using BERT for each caption. This is done for all the multiple captions are present for each image.\n",
    "\n",
    "Now, in the `collate_fn` used when generating batch data from the DataLoader, we use padding upto the maximum length of the textual features for all sentences in that batch. This is handled by the `make_feature_batch` function below."
   ]
  },
  {
   "cell_type": "code",
   "execution_count": 124,
   "id": "a7da2140",
   "metadata": {},
   "outputs": [],
   "source": [
    "def make_feature_batch(features,  pad_token=0):\n",
    "  \"\"\"\n",
    "  List of features,\n",
    "  each feature is [K, model_dim] where K is number of objects of each image\n",
    "  This function pad max length to each feature and tensorize, also return the masks\n",
    "  \"\"\"\n",
    "  model_dim = features[0].shape[-1]\n",
    "\n",
    "  # Find maximum length\n",
    "  max_len=0\n",
    "  for feat in features:\n",
    "    feat_len = feat.shape[0]\n",
    "    max_len = max(max_len, feat_len)\n",
    "\n",
    "  # Init batch\n",
    "  batch_size = len(features)\n",
    "  batch = np.ones((batch_size, max_len, model_dim))\n",
    "  batch *= pad_token\n",
    "\n",
    "  # Copy data to batch\n",
    "  for i, feat in enumerate(features):\n",
    "    feat_len = feat.shape[0]\n",
    "    batch[i, :feat_len, :] = feat\n",
    "\n",
    "  batch = torch.from_numpy(batch).type(torch.float32)\n",
    "  return batch "
   ]
  },
  {
   "cell_type": "markdown",
   "id": "4be5e085",
   "metadata": {},
   "source": [
    "The following class handles the dataset for both the precomputed numpy features for images and texts together."
   ]
  },
  {
   "cell_type": "code",
   "execution_count": 125,
   "id": "e9eac9f1",
   "metadata": {},
   "outputs": [],
   "source": [
    "class NumpyFeatureDataset(Dataset):\n",
    "  \n",
    "  def __init__(self, root_dir, ann_path, feat_dir, text_dir):\n",
    "\n",
    "    self.root_dir = root_dir\n",
    "    self.ann_path = ann_path\n",
    "    self.feat_dir = feat_dir\n",
    "    self.text_dir = text_dir\n",
    "    self.coco = COCO(ann_path)\n",
    "    self.image_ids = self.coco.getImgIds()\n",
    "\n",
    "  def __len__(self):\n",
    "    return len(self.image_ids)\n",
    "\n",
    "  def load_image(self, image_index):\n",
    "    image_info = self.coco.loadImgs(self.image_ids[image_index])[0]\n",
    "    image_path = os.path.join(self.root_dir, image_info['file_name'])\n",
    "    return image_path\n",
    "\n",
    "  def load_image_by_id(self, image_id):\n",
    "    image_infos = self.coco.loadImgs(image_id)\n",
    "    image_path = [os.path.join(self.root_dir, i['file_name']) for i in image_infos]\n",
    "    return image_path\n",
    "\n",
    "  def load_annotations_by_id(self, ann_id):\n",
    "    anns = self.coco.loadAnns(ann_id)\n",
    "    anns = [i['caption'] for i in anns]\n",
    "    return anns\n",
    "\n",
    "  def load_numpy(self, image_index):\n",
    "    image_info = self.coco.loadImgs(self.image_ids[image_index])[0]\n",
    "    npy_path = os.path.join(self.feat_dir, 'data_att', image_info['file_name'][:-4]+'.npz')\n",
    "    npy_loc_path = os.path.join(self.feat_dir, 'data_box', image_info['file_name'][:-4]+'.npz')\n",
    "    return npy_path, npy_loc_path\n",
    "\n",
    "  def load_annotations(self, image_index, return_all=False):\n",
    "    ann_id = self.coco.getAnnIds(imgIds=self.image_ids[image_index])\n",
    "\n",
    "    if not return_all:\n",
    "        ann_id = ann_id[0] # returns a random caption out of the multiple captions\n",
    "        anns = self.coco.loadAnns(ann_id)[0]['caption']\n",
    "        language_path = os.path.join(self.text_dir, f\"{ann_id}.npz\")\n",
    "        return anns, language_path, ann_id\n",
    "    else:\n",
    "        anns = self.coco.loadAnns(ann_id)\n",
    "        anns = [i['caption'] for i in anns]\n",
    "        return anns, ann_id\n",
    "\n",
    "  def __getitem__(self, index):\n",
    "    image_id = self.image_ids[index]\n",
    "    image_path = self.load_image(index)\n",
    "    npy_path, npy_loc_path = self.load_numpy(index)\n",
    "    text, language_path, ann_id = self.load_annotations(index)\n",
    "\n",
    "    return {\n",
    "        'image_id': image_id,\n",
    "        'ann_id': ann_id,\n",
    "        'npy_path': npy_path,\n",
    "        'language_path': language_path,\n",
    "        \"npy_loc_path\": npy_loc_path,\n",
    "        'image_path': image_path,\n",
    "        'text': text,\n",
    "    }\n",
    "\n",
    "  def collate_fn(self, batch):\n",
    "\n",
    "    image_paths = [s['image_path'] for s in batch]\n",
    "    npy_paths = [s['npy_path'] for s in batch]\n",
    "    npy_loc_paths = [s['npy_loc_path'] for s in batch]\n",
    "    language_paths = [s['language_path'] for s in batch]\n",
    "    image_ids = [s['image_id'] for s in batch]\n",
    "    ann_ids = [s['ann_id'] for s in batch]\n",
    "    texts = [s['text'] for s in batch]\n",
    "\n",
    "    image_names = []\n",
    "    ori_imgs = []\n",
    "    for image_path in image_paths:\n",
    "        image_names.append(os.path.basename(image_path))\n",
    "\n",
    "    for image_path in image_paths:\n",
    "        ori_img = cv2.imread(image_path)\n",
    "        ori_img = cv2.cvtColor(ori_img, cv2.COLOR_BGR2RGB)\n",
    "        ori_imgs.append(ori_img)\n",
    "\n",
    "    npy_feats = []\n",
    "    npy_loc_feats = []\n",
    "    npy_lang_feats = []\n",
    "    for npy_path, npy_loc_path, language_path in zip(npy_paths, npy_loc_paths, language_paths):\n",
    "        npy_feat = np.load(npy_path, mmap_mode='r')['feat']\n",
    "        npy_loc_feat = np.load(npy_loc_path, mmap_mode='r')['feat']\n",
    "        npy_lang_feat = np.load(language_path, mmap_mode='r')['feat']\n",
    "        npy_feats.append(npy_feat)\n",
    "        npy_loc_feats.append(npy_loc_feat)\n",
    "        npy_lang_feats.append(npy_lang_feat)\n",
    "\n",
    "    npy_feats = np.stack(npy_feats, axis=0)\n",
    "    npy_loc_feats = np.stack(npy_loc_feats, axis=0)\n",
    "\n",
    "    feats = torch.from_numpy(npy_feats).float()\n",
    "    loc_feats = torch.from_numpy(npy_loc_feats).float()\n",
    "\n",
    "    lang_feats = make_feature_batch(npy_lang_feats, pad_token=0)\n",
    "    lang_feats = lang_feats.float()\n",
    "\n",
    "    return {\n",
    "        'image_ids': image_ids,\n",
    "        'ann_ids': ann_ids,\n",
    "        'image_names': image_names,\n",
    "        'ori_imgs': ori_imgs,\n",
    "        'feats': feats,\n",
    "        'loc_feats': loc_feats,\n",
    "        'lang_feats': lang_feats,\n",
    "        'tgt_texts_raw': texts,\n",
    "    }\n",
    "\n",
    "  def __str__(self): \n",
    "    s1 = \"Number of images: \" + str(len(self.image_ids)) + '\\n'\n",
    "    s2 = \"Number of texts: \" + str(len(self.coco.getAnnIds())) + '\\n'\n",
    "    return s1 + s2"
   ]
  },
  {
   "cell_type": "markdown",
   "id": "60aedc56",
   "metadata": {},
   "source": [
    "#### BottomUp Features Dataset"
   ]
  },
  {
   "cell_type": "markdown",
   "id": "acd3b75f",
   "metadata": {},
   "source": [
    "The following class handles the dataset for the precomputed BottomUp numpy features for images."
   ]
  },
  {
   "cell_type": "code",
   "execution_count": 126,
   "id": "0e6c411f",
   "metadata": {},
   "outputs": [],
   "source": [
    "class BottomUpSet(Dataset):\n",
    "  \"\"\"\n",
    "  Numpy bottom up feature dataset\n",
    "  \"\"\"\n",
    "  def __init__(self, ann_path, feat_dir):\n",
    "\n",
    "    self.ann_path = ann_path\n",
    "    self.feat_dir = feat_dir\n",
    "    self.coco = COCO(ann_path)\n",
    "    self.image_ids = self.coco.getImgIds()\n",
    "\n",
    "  def __len__(self):\n",
    "    return len(self.image_ids)\n",
    "\n",
    "  def load_numpy(self, image_index):\n",
    "    image_info = self.coco.loadImgs(self.image_ids[image_index])[0]\n",
    "    npy_path = os.path.join(self.feat_dir, 'data_att', image_info['file_name'][:-4]+'.npz')\n",
    "    npy_loc_path = os.path.join(self.feat_dir, 'data_box', image_info['file_name'][:-4]+'.npz')\n",
    "    return npy_path, npy_loc_path\n",
    "\n",
    "  def load_annotations(self, image_index):\n",
    "    ann_ids = self.coco.getAnnIds(imgIds=image_index)\n",
    "    return ann_ids\n",
    "\n",
    "  def __getitem__(self, index):\n",
    "    image_id = self.image_ids[index]\n",
    "    npy_path, npy_loc_path = self.load_numpy(index)\n",
    "    ann_ids = self.load_annotations(image_id)\n",
    "\n",
    "    return {\n",
    "      'image_id': image_id,\n",
    "      'ann_ids': ann_ids,\n",
    "      'npy_path': npy_path,\n",
    "      \"npy_loc_path\": npy_loc_path,\n",
    "    }\n",
    "\n",
    "  def collate_fn(self, batch):\n",
    "\n",
    "    npy_paths = [s['npy_path'] for s in batch]\n",
    "    npy_loc_paths = [s['npy_loc_path'] for s in batch]\n",
    "    image_ids = [s['image_id'] for s in batch]\n",
    "    ann_ids = [s['ann_ids'] for s in batch]\n",
    "\n",
    "    npy_feats = []\n",
    "    npy_loc_feats = []\n",
    "    for npy_path, npy_loc_path in zip(npy_paths, npy_loc_paths):\n",
    "      npy_feat = np.load(npy_path, mmap_mode='r')['feat']\n",
    "      npy_loc_feat = np.load(npy_loc_path, mmap_mode='r')['feat']\n",
    "      npy_feats.append(npy_feat)\n",
    "      npy_loc_feats.append(npy_loc_feat)\n",
    "\n",
    "    npy_feats = np.stack(npy_feats, axis=0)\n",
    "    npy_loc_feats = np.stack(npy_loc_feats, axis=0)\n",
    "\n",
    "    feats = torch.from_numpy(npy_feats).float()\n",
    "    loc_feats = torch.from_numpy(npy_loc_feats).float()\n",
    "\n",
    "    return {\n",
    "      'ids': image_ids,\n",
    "      'text_ids': ann_ids,\n",
    "      'feats': feats,\n",
    "      'loc_feats': loc_feats,\n",
    "    }"
   ]
  },
  {
   "cell_type": "markdown",
   "id": "68538366",
   "metadata": {},
   "source": [
    "#### BERT Features Dataset"
   ]
  },
  {
   "cell_type": "markdown",
   "id": "098ba33a",
   "metadata": {},
   "source": [
    "The following class handles the dataset for the precomputed BERT numpy features for textual captions."
   ]
  },
  {
   "cell_type": "code",
   "execution_count": 127,
   "id": "d1f2716a",
   "metadata": {},
   "outputs": [],
   "source": [
    "class BertSet(Dataset):\n",
    "  \"\"\"\n",
    "  Numpy bert feature dataset\n",
    "  \"\"\"\n",
    "  def __init__(self, ann_path, feat_dir):\n",
    "\n",
    "    self.ann_path = ann_path\n",
    "    self.feat_dir = feat_dir\n",
    "    self.coco = COCO(ann_path)\n",
    "    self.text_ids = self.coco.getAnnIds()\n",
    "\n",
    "  def __len__(self):\n",
    "    return len(self.text_ids)\n",
    "\n",
    "  def load_numpy(self, ann_index):\n",
    "    # get ground truth annotations\n",
    "    language_path = os.path.join(self.feat_dir, f\"{ann_index}.npz\")\n",
    "    return language_path\n",
    "\n",
    "  def load_image_id(self, ann_index):\n",
    "    ann = self.coco.loadAnns(ann_index)\n",
    "    image_id = ann[0]['image_id']\n",
    "    return image_id\n",
    "\n",
    "  def __getitem__(self, index):\n",
    "    ann_id = self.text_ids[index]\n",
    "    language_path = self.load_numpy(ann_id)\n",
    "    image_id = self.load_image_id(ann_id)\n",
    "\n",
    "    return {\n",
    "      'image_id': image_id,\n",
    "      'ann_id': ann_id,\n",
    "      'language_path': language_path,\n",
    "    }\n",
    "\n",
    "  def collate_fn(self, batch):\n",
    "\n",
    "    language_paths = [s['language_path'] for s in batch]\n",
    "    image_ids = [s['image_id'] for s in batch]\n",
    "    ann_ids = [s['ann_id'] for s in batch]\n",
    "\n",
    "    npy_feats = []\n",
    "    for language_path in language_paths:\n",
    "      npy_feat = np.load(language_path, mmap_mode='r')['feat']\n",
    "      npy_feats.append(npy_feat)\n",
    "\n",
    "    lang_feats = make_feature_batch(npy_feats, pad_token=0)\n",
    "    lang_feats = lang_feats.float()\n",
    "\n",
    "    return {\n",
    "      'ids': ann_ids,\n",
    "      'image_ids': image_ids,\n",
    "      'lang_feats': lang_feats,\n",
    "    }"
   ]
  },
  {
   "cell_type": "markdown",
   "id": "43e4dc39",
   "metadata": {},
   "source": [
    "### DataLoader Class"
   ]
  },
  {
   "cell_type": "markdown",
   "id": "7f43379a",
   "metadata": {},
   "source": [
    "The following is the Numpy Feature Loader class which we use to load the image and text data in batches which can be feeded to the model for training and evaluation."
   ]
  },
  {
   "cell_type": "code",
   "execution_count": 128,
   "id": "6321a598",
   "metadata": {},
   "outputs": [],
   "source": [
    "class NumpyFeatureLoader(DataLoader):\n",
    "  def __init__(self, batch_size, root_dir, ann_path, feat_dir, text_dir, num_workers=0):\n",
    "    self.dataset = NumpyFeatureDataset(root_dir, ann_path,  feat_dir, text_dir)\n",
    "    self.collate_fn = self.dataset.collate_fn\n",
    "    super().__init__(self.dataset, batch_size=batch_size, pin_memory=True, collate_fn=self.collate_fn, num_workers=num_workers)"
   ]
  },
  {
   "cell_type": "markdown",
   "id": "90b7b430",
   "metadata": {},
   "source": [
    "#### DataLoaders"
   ]
  },
  {
   "cell_type": "markdown",
   "id": "b70efc3c",
   "metadata": {},
   "source": [
    "The following are the DataLoaders for the train and validation datasets."
   ]
  },
  {
   "cell_type": "code",
   "execution_count": 129,
   "id": "d6761cc7",
   "metadata": {},
   "outputs": [
    {
     "name": "stdout",
     "output_type": "stream",
     "text": [
      "loading annotations into memory...\n",
      "Done (t=0.08s)\n",
      "creating index...\n",
      "index created!\n",
      "loading annotations into memory...\n",
      "Done (t=0.01s)\n",
      "creating index...\n",
      "index created!\n",
      "loading annotations into memory...\n",
      "Done (t=0.00s)\n",
      "creating index...\n",
      "index created!\n",
      "loading annotations into memory...\n",
      "Done (t=0.00s)\n",
      "creating index...\n",
      "index created!\n"
     ]
    }
   ],
   "source": [
    "trainloader = NumpyFeatureLoader(**trainloader_args) # Training Dataset Loader\n",
    "valloader = NumpyFeatureLoader(**valloader_args) # Validation Dataset Loader\n",
    "\n",
    "valset1 = BottomUpSet(**valset1_args) # Image Features for Metric Evaluation -- I use the Validation Set\n",
    "valset2 = BertSet(**valset2_args) # Text Features for Metric Evaluation -- I use the Validation Set"
   ]
  },
  {
   "cell_type": "markdown",
   "id": "65c83d44",
   "metadata": {},
   "source": [
    "### Data Visualization"
   ]
  },
  {
   "cell_type": "markdown",
   "id": "71101fb1",
   "metadata": {},
   "source": [
    "Before delving into building the model, let's visualize few items from the training data using the Dataset classes I just created."
   ]
  },
  {
   "cell_type": "code",
   "execution_count": 130,
   "id": "dc86297f",
   "metadata": {},
   "outputs": [
    {
     "name": "stdout",
     "output_type": "stream",
     "text": [
      "loading annotations into memory...\n",
      "Done (t=0.00s)\n",
      "creating index...\n",
      "index created!\n"
     ]
    }
   ],
   "source": [
    "dataset = CocoDataset(\n",
    "    root_dir=valloader_args['root_dir'], \n",
    "    ann_path=valloader_args['ann_path'], \n",
    "    image_size=224, \n",
    "    keep_ratio=False)"
   ]
  },
  {
   "cell_type": "code",
   "execution_count": 131,
   "id": "468da3bf",
   "metadata": {},
   "outputs": [
    {
     "data": {
      "image/png": "[encoded data removed]",
      "text/plain": [
       "<Figure size 1500x1500 with 1 Axes>"
      ]
     },
     "metadata": {},
     "output_type": "display_data"
    }
   ],
   "source": [
    "dataset.visualize_item() # Visualize one image at random from the dataset"
   ]
  },
  {
   "cell_type": "markdown",
   "id": "11a40878",
   "metadata": {},
   "source": [
    "## Model"
   ]
  },
  {
   "cell_type": "markdown",
   "id": "bd557db6",
   "metadata": {},
   "source": [
    "Set the model configurations for the TERN transformer model."
   ]
  },
  {
   "cell_type": "code",
   "execution_count": 132,
   "id": "02aadaff",
   "metadata": {},
   "outputs": [],
   "source": [
    "d_embed = 1024                      # output_dim\n",
    "d_model = 768                      # model dim\n",
    "d_ff = 2048                          # feed-forward dim to be used in the transformers\n",
    "aggregation = \"mean\"                # [mean, first]\n",
    "N_v = 4                             # number of Vision Transformer encoder layers\n",
    "N_l = 0                             # number of Text Transformer encoder layers\n",
    "heads = 4                           # number of heads to be used in the visual and textual transformer\n",
    "dropout = 0.1                       # dropout rate to be used in the transformer\n",
    "precomp_bert = True                 # whether to use bert feature extractor\n",
    "num_sw_layers = 0                   # number of shared-weight layers in the TERN architecture\n",
    "max_rel_pos = 5                     # number of inputs to the left and right to be considered in the relative embedding matrix"
   ]
  },
  {
   "cell_type": "markdown",
   "id": "6971d67f",
   "metadata": {},
   "source": [
    "### Architecture"
   ]
  },
  {
   "cell_type": "markdown",
   "id": "8fc0d479",
   "metadata": {},
   "source": [
    "Here I will build the TERN (Transformer Encoder Reasoning Network) Model Architecture, which I will training with the above DataLoader. But there is one key difference compared to the original TERN model architecture:\n",
    "- I have incorporated the Relative Positional Encoding (RPE) instead of Sinusoidal Positional Encoding on both Image and Text side Transformers."
   ]
  },
  {
   "cell_type": "markdown",
   "id": "296ad624",
   "metadata": {},
   "source": [
    "I could have used the already available layers in the `torch.nn` module. But incorporating the RPE requires modifying the way the Attention is calculated in the `MultiHeadAttention` so, I implemented the `MultiHeadAttention` to take into account the RPE."
   ]
  },
  {
   "cell_type": "code",
   "execution_count": 133,
   "id": "69a00a27",
   "metadata": {},
   "outputs": [],
   "source": [
    "class RelativePosition(nn.Module):\n",
    "  \"\"\"\n",
    "  Calculate relative positional matrices\n",
    "  :input:\n",
    "    num_units:               relative positional embedding dimension\n",
    "    max_relative_position:   number of inputs to the left and right of each input to consider for building the Relative Positional Embedding Matrix\n",
    "  :output:\n",
    "    relative positional embedding matrix\n",
    "  \"\"\"\n",
    "  def __init__(self, num_units, max_relative_position):\n",
    "    super().__init__()\n",
    "    self.num_units = num_units # The relative positional embedding dimension\n",
    "    self.max_relative_position = max_relative_position # The maximum number of inputs on either side to consider\n",
    "    self.embeddings_table = nn.Parameter(torch.Tensor(max_relative_position * 2 + 1, num_units)) # The relative positional embedding matrix\n",
    "    nn.init.xavier_uniform_(self.embeddings_table) # For initialization of the embeddings_table\n",
    "\n",
    "  def forward(self, length_q, length_k):\n",
    "    # length_q and length_k are nothing but just sequence length and is same in this case\n",
    "    range_vec_q = torch.arange(length_q)\n",
    "    range_vec_k = torch.arange(length_k)\n",
    "    distance_mat = range_vec_k[None, :] - range_vec_q[:, None]\n",
    "    # Clipped distance matrix where each row corresponds to the current input and it's entries refer to the inputs with which we consider the relative positional relationship -- Clipped as explained in the paper\n",
    "    distance_mat_clipped = torch.clamp(distance_mat, -self.max_relative_position, self.max_relative_position)\n",
    "    final_mat = distance_mat_clipped + self.max_relative_position\n",
    "    final_mat = torch.LongTensor(final_mat).to(device)\n",
    "    embeddings = self.embeddings_table[final_mat].to(device)\n",
    "    \n",
    "    return embeddings\n",
    "\n",
    "class RelMultiHeadAttention(nn.Module):\n",
    "  \"\"\"\n",
    "  Calculate relative multihead attention with num_heads and relative positional encoding\n",
    "  :input:\n",
    "    heads:          number of attention heads\n",
    "    d_model:        embedding dim\n",
    "    dropout:        dropout rate\n",
    "  :output:\n",
    "  \"\"\"\n",
    "  def __init__(self, heads, d_model, max_relative_position, dropout = 0.1):\n",
    "    super().__init__()\n",
    "    self.d_model = d_model\n",
    "    assert d_model % heads == 0\n",
    "    self.d_k = d_model // heads\n",
    "    self.h = heads\n",
    "    self.max_relative_position = max_relative_position # Number of inputs on either side to consider for relative positional embedding\n",
    "    self.relative_position_k = RelativePosition(self.d_k, self.max_relative_position) # Relative Positional Embedding Keys Matrix\n",
    "    self.relative_position_v = RelativePosition(self.d_k, self.max_relative_position) # Relative Positional Embedding Values Matrix\n",
    "    self.q_linear = nn.Linear(d_model, d_model) # Queries Projection Matrix\n",
    "    self.v_linear = nn.Linear(d_model, d_model) # Values Projection Matrix\n",
    "    self.k_linear = nn.Linear(d_model, d_model) # Keys Projection Matrix\n",
    "    self.dropout = nn.Dropout(dropout)\n",
    "    self.out = nn.Linear(d_model, d_model)\n",
    "    self.scale = torch.sqrt(torch.FloatTensor([self.d_k])).to(device) # The scaling factor for the scaled-dot product attention\n",
    "\n",
    "  def forward(self, q, k, v, mask = None):\n",
    "\n",
    "    k = k.to(device) # key = [batch size, key len, hid dim]\n",
    "    q = q.to(device) # query = [batch size, query len, hid dim]\n",
    "    v = v.to(device) # value = [batch size, value len, hid dim]\n",
    "    bs = q.size(0) # batch size\n",
    "    len_k = k.shape[1] # sequence length \n",
    "    len_q = q.shape[1] # sequence length\n",
    "    len_v = v.shape[1] # sequence length\n",
    "    k = self.k_linear(k) # Linearly Projecting the Keys Matrix\n",
    "    q = self.q_linear(q) # Linearly Projecting the Queries Matrix\n",
    "    v = self.v_linear(v) # Linearly Projecting the Values Matrix\n",
    "\n",
    "    # Usual Compatibility Function Calculation\n",
    "    q1 = q.view(bs, -1, self.h, self.d_k).permute(0, 2, 1, 3)\n",
    "    k1 = k.view(bs, -1, self.h, self.d_k).permute(0, 2, 1, 3)\n",
    "    attn1 = torch.matmul(q1, k1.permute(0, 1, 3, 2))\n",
    "\n",
    "    # Relative Positional Encoding Compatibility Function additional term calculate\n",
    "    r_k = self.relative_position_k(len_q, len_k)\n",
    "    r_k = r_k.permute(0, 2, 1)\n",
    "    q2 = q1.permute(2, 0, 1, 3).reshape(len_q, -1, self.d_k)\n",
    "\n",
    "    attn2 = torch.matmul(q2, r_k).view(len_q, bs, self.h, len_q)\n",
    "    attn2 = attn2.permute(1, 2, 0, 3)\n",
    "    attn = (attn1 + attn2) / self.scale # Final Compatibility Function\n",
    "\n",
    "    if mask is not None:\n",
    "      attn = attn.masked_fill(mask == 0, -1e10)\n",
    "\n",
    "    attn = self.dropout(torch.softmax(attn, dim = -1)) # attn = [batch size, n heads, query len, key len]\n",
    "    \n",
    "    v1 = v.view(bs, -1, self.h, self.d_k).permute(0, 2, 1, 3) \n",
    "    weight1 = torch.matmul(attn, v1) # Usual attn-weighted value sum\n",
    "\n",
    "    # Relative Positional Encoding attn-weighted values for additional term calculate\n",
    "    r_v = self.relative_position_v(len_q, len_v)\n",
    "    weight2 = attn.permute(2, 0, 1, 3).contiguous().view(len_q, bs*self.h, len_k)\n",
    "    weight2 = torch.matmul(weight2, r_v)\n",
    "    weight2 = weight2.transpose(0, 1).contiguous().view(bs, self.h, len_q, self.d_k)\n",
    "    \n",
    "    x = weight1 + weight2 # x = [batch size, n heads, query len, head dim]\n",
    "    x = x.permute(0, 2, 1, 3).contiguous() # x = [batch size, query len, n heads, head dim]\n",
    "    x = x.view(bs, -1, self.d_model) # x = [batch size, query len, hid dim]\n",
    "    x = self.out(x) # x = [batch size, query len, hid dim]\n",
    "\n",
    "    return x\n",
    "  \n",
    "def attention(q, k, v, d_k, mask=None, dropout=None):\n",
    "  \"\"\"\n",
    "  Calculate attention\n",
    "  :input:\n",
    "      q:          query\n",
    "      k:          key\n",
    "      v:          value\n",
    "      d_k:        scaled term\n",
    "      mask:       whether to use masking attention\n",
    "      dropout:    dropout rate\n",
    "  :output:\n",
    "  \"\"\"\n",
    "\n",
    "  # Query, Key matrix multiplication\n",
    "  scores = torch.matmul(q, k.transpose(-2, -1)) /  math.sqrt(d_k)\n",
    "\n",
    "  # If mask, use masking attetion\n",
    "  if mask is not None:\n",
    "    mask = mask.unsqueeze(1)\n",
    "    scores = scores.masked_fill(mask == 0, -1e9)\n",
    "\n",
    "  # Softmax for scaling in range [0,1]\n",
    "  scores = F.softmax(scores, dim=-1)\n",
    "\n",
    "  # Dropout\n",
    "  if dropout is not None:\n",
    "    scores = dropout(scores)\n",
    "\n",
    "  # Score, Value matrix multiplication\n",
    "  output = torch.matmul(scores, v)\n",
    "  return output, scores\n",
    "\n",
    "class MultiHeadAttention(nn.Module):\n",
    "  \"\"\"\n",
    "  Calculate multihead attention with num_heads\n",
    "  :input:\n",
    "      heads:          number of attention heads\n",
    "      d_model:        embedding dim\n",
    "      dropout:        dropout rate\n",
    "  :output:\n",
    "  \"\"\"\n",
    "  def __init__(self, heads, d_model, max_relative_position, dropout = 0.1):\n",
    "    super().__init__()\n",
    "\n",
    "    self.d_model = d_model\n",
    "    self.d_k = d_model // heads\n",
    "    self.h = heads\n",
    "\n",
    "    self.q_linear = nn.Linear(d_model, d_model)\n",
    "    self.v_linear = nn.Linear(d_model, d_model)\n",
    "    self.k_linear = nn.Linear(d_model, d_model)\n",
    "\n",
    "    self.dropout = nn.Dropout(dropout)\n",
    "    self.out = nn.Linear(d_model, d_model)\n",
    "\n",
    "    # For visualization\n",
    "    self.attn = None\n",
    "\n",
    "  def forward(self, q, k, v, mask=None):\n",
    "\n",
    "    bs = q.size(0)\n",
    "\n",
    "    # perform linear operation and split into N heads\n",
    "    k = self.k_linear(k).view(bs, -1, self.h, self.d_k)\n",
    "    q = self.q_linear(q).view(bs, -1, self.h, self.d_k)\n",
    "    v = self.v_linear(v).view(bs, -1, self.h, self.d_k)\n",
    "\n",
    "    # transpose to get dimensions bs * N * sl * d_model\n",
    "    k = k.transpose(1,2)\n",
    "    q = q.transpose(1,2)\n",
    "    v = v.transpose(1,2)\n",
    "\n",
    "\n",
    "    # calculate attention \n",
    "    scores, self.attn = attention(q, k, v, self.d_k, mask, self.dropout)\n",
    "    # concatenate heads and put through final linear layer\n",
    "    concat = scores.transpose(1,2).contiguous()\\\n",
    "    .view(bs, -1, self.d_model)\n",
    "    output = self.out(concat)\n",
    "\n",
    "    return output"
   ]
  },
  {
   "cell_type": "markdown",
   "id": "7c2e9ba9",
   "metadata": {},
   "source": [
    "Now, after the RPE-Based `MultiHeadAttention` I will build the usual Transformer Architecture.\n",
    "\n",
    "Following are the `PositionwiseFeedForword` Layer and `LayerNorm` which is used in the `EncoderLayer`s of the Transformer's Encoder."
   ]
  },
  {
   "cell_type": "code",
   "execution_count": 134,
   "id": "8cfb085a",
   "metadata": {},
   "outputs": [],
   "source": [
    "class PositionwiseFeedForward(nn.Module):\n",
    "  \"\"\"\n",
    "  Just a simple 2-layer feed forward, input and output shape are equal\n",
    "  \"\"\"\n",
    "  def __init__(self, model_dim, ff_dim, dropout=0.1):\n",
    "    super().__init__()\n",
    "    self.w_1 = nn.Linear(model_dim, ff_dim)\n",
    "    self.w_2 = nn.Linear(ff_dim, model_dim)\n",
    "    self.dropout = nn.Dropout(dropout)\n",
    "\n",
    "  def forward(self, x):\n",
    "    \"\"\"\n",
    "    Apply RELU and dropout between two layers\n",
    "    \"\"\"\n",
    "    return self.w_2(self.dropout(F.gelu(self.w_1(x))))\n",
    "\n",
    "class LayerNorm(nn.Module):\n",
    "  \"Construct a layernorm module.\"\n",
    "  def __init__(self, model_dim, eps=1e-6):\n",
    "    super().__init__()\n",
    "    self.a_2 = nn.Parameter(torch.ones(model_dim))\n",
    "    self.b_2 = nn.Parameter(torch.zeros(model_dim))\n",
    "    self.eps = eps\n",
    "\n",
    "  def forward(self, x):\n",
    "    mean = x.mean(-1, keepdim=True)\n",
    "    std = x.std(-1, keepdim=True)\n",
    "    return self.a_2 * (x - mean) / (std + self.eps) + self.b_2    \n",
    "  \n",
    "class RelEncoderLayer(nn.Module):\n",
    "  \"\"\"\n",
    "  Single encoder layer consists of Relative Multihead Attention, \n",
    "  2-layer feed forward, Layer Normalization and Dropout\n",
    "  \"\"\"\n",
    "  def __init__(self, d_model, d_ff, heads, max_rel_pos, dropout=0.1):\n",
    "    super().__init__()\n",
    "    self.norm_1 = LayerNorm(d_model)\n",
    "    self.norm_2 = LayerNorm(d_model)\n",
    "    self.attn = RelMultiHeadAttention(heads, d_model, max_rel_pos, dropout=dropout)\n",
    "    self.ff = PositionwiseFeedForward(d_model, d_ff, dropout=dropout)\n",
    "    self.dropout_1 = nn.Dropout(dropout)\n",
    "    self.dropout_2 = nn.Dropout(dropout)\n",
    "\n",
    "  def forward(self, x, mask):\n",
    "    x2 = self.norm_1(x)\n",
    "    x = x + self.dropout_1(self.attn(x2,x2,x2,mask))\n",
    "    x2 = self.norm_2(x)\n",
    "    x = x + self.dropout_2(self.ff(x2))\n",
    "    return x\n",
    "  \n",
    "class EncoderLayer(nn.Module):\n",
    "  \"\"\"\n",
    "  Single encoder layer consists of Multihead Attention, \n",
    "  2-layer feed forward, Layer Normalization and Dropout\n",
    "  \"\"\"\n",
    "  def __init__(self, d_model, d_ff, heads, max_rel_pos, dropout=0.1):\n",
    "    super().__init__()\n",
    "    self.norm_1 = LayerNorm(d_model)\n",
    "    self.norm_2 = LayerNorm(d_model)\n",
    "    self.attn = MultiHeadAttention(heads, d_model, max_rel_pos, dropout=dropout)\n",
    "    self.ff = PositionwiseFeedForward(d_model, d_ff, dropout=dropout)\n",
    "    self.dropout_1 = nn.Dropout(dropout)\n",
    "    self.dropout_2 = nn.Dropout(dropout)\n",
    "\n",
    "  def forward(self, x, mask):\n",
    "    x2 = self.norm_1(x)\n",
    "    x = x + self.dropout_1(self.attn(x2,x2,x2,mask))\n",
    "    x2 = self.norm_2(x)\n",
    "    x = x + self.dropout_2(self.ff(x2))\n",
    "    return x"
   ]
  },
  {
   "cell_type": "markdown",
   "id": "ab4d811d",
   "metadata": {},
   "source": [
    "The following are few utility functions for creating the `TransformerEncoder`, Vision and Text Transformers and deals with intialization, making identical layers and $L_2$-normalizing vectors."
   ]
  },
  {
   "cell_type": "code",
   "execution_count": 135,
   "id": "04741f45",
   "metadata": {},
   "outputs": [],
   "source": [
    "def get_clones(module, N):\n",
    "  \"\"\"\n",
    "  \"Produce N identical layers.\"\n",
    "  \"\"\"\n",
    "  return nn.ModuleList([copy.deepcopy(module) for i in range(N)])\n",
    "\n",
    "def init_xavier(model):\n",
    "  for p in model.parameters():\n",
    "    if p.dim() > 1:\n",
    "      nn.init.xavier_uniform_(p)\n",
    "\n",
    "def l2norm(X):\n",
    "  \"\"\"\n",
    "  L2-normalize columns of X\n",
    "  \"\"\"\n",
    "  norm = torch.pow(X, 2).sum(dim=1, keepdim=True).sqrt()\n",
    "  X = torch.div(X, norm)\n",
    "  return X"
   ]
  },
  {
   "cell_type": "markdown",
   "id": "d7d98239",
   "metadata": {},
   "source": [
    "Stacking multiple `EncoderLayer`s to build the `TransformerEncoder`, which will be used near the end of the `TERN` architecture and will serve as shared weight transformer for visual and textual feature outputs by the respective ViT and Language Transformer.\n",
    "\n",
    "`ModalProjection` projects the output vector of `in_dim` of Vision Transformer and Language Transformer for each modal to `out_dim` after passing it through an `ReLU` activation. This is used as the final step to come up with two vector outputs one for visual side and other for textual side."
   ]
  },
  {
   "cell_type": "code",
   "execution_count": 136,
   "id": "3241c0ff",
   "metadata": {},
   "outputs": [],
   "source": [
    "class TransformerEncoder(nn.Module):\n",
    "  \"\"\"\n",
    "  transformer encoder\n",
    "  \"\"\"\n",
    "  def __init__(self, d_model, d_ff, N, heads, max_rel_pos, dropout, sw = False):\n",
    "    super().__init__()\n",
    "    self.N = N\n",
    "    self.sw = sw\n",
    "  \n",
    "    if self.N >= 1 and (not self.sw):\n",
    "      self.rel_layer = RelEncoderLayer(d_model, d_ff, heads, max_rel_pos, dropout)\n",
    "    if self.N > 1:\n",
    "      self.layers = get_clones(EncoderLayer(d_model, d_ff, heads, max_rel_pos, dropout), N-1)\n",
    "      self.norm = LayerNorm(d_model)  \n",
    "\n",
    "  def forward(self, x):\n",
    "    if self.N >= 1 and (not self.sw):\n",
    "      x = self.rel_layer(x, mask=None)\n",
    "    if self.N > 1:\n",
    "      for i in range(self.N-1):\n",
    "        x = self.layers[i](x, mask=None)\n",
    "      x = self.norm(x)\n",
    "    return x\n",
    "\n",
    "class ModalProjection(nn.Module):\n",
    "  \"\"\"\n",
    "  Project features into same space\n",
    "  \"\"\"\n",
    "  def __init__(self, in_dim, out_dim):\n",
    "    super().__init__()\n",
    "\n",
    "    self.model = nn.Sequential(\n",
    "          nn.Linear(in_dim, in_dim),\n",
    "          nn.ReLU(),\n",
    "          nn.Linear(in_dim, out_dim))\n",
    "\n",
    "  def forward(self, x):\n",
    "    return self.model(x)"
   ]
  },
  {
   "cell_type": "markdown",
   "id": "f3316810",
   "metadata": {},
   "source": [
    "Now, we will build at the Vision Transformer Encoder `EncoderBottomUp`. But for that I will embed the visual features (extracted by ResNet) of each region to be transformed to `embed_dim` from `features_dim`, which is done by `FeatureEmbedding` and `SpatialEncoding` transforms the bounding box coordinates to `embed_dim` to be added to the visual features."
   ]
  },
  {
   "cell_type": "code",
   "execution_count": 137,
   "id": "d806bbe8",
   "metadata": {},
   "outputs": [],
   "source": [
    "class FeatureEmbedding(nn.Module):\n",
    "  \"\"\"\n",
    "  Projects image features into a space of\n",
    "  dimensionality `embed_dim`.\n",
    "  \"\"\"\n",
    "  def __init__(self, features_dim, embed_dim):\n",
    "    super().__init__()\n",
    "    self.linear = nn.Linear(features_dim, embed_dim)\n",
    "\n",
    "  def forward(self, x):\n",
    "    return self.linear(x)\n",
    "\n",
    "\n",
    "class SpatialEncoding(nn.Module):\n",
    "  \"\"\"\n",
    "  Encodes bounding box coordinates and relative sizes\n",
    "  as vector of dimensionality `embed_dim`.\n",
    "  \"\"\"\n",
    "  def __init__(self, embed_dim):\n",
    "    super().__init__()\n",
    "    self.linear = nn.Linear(5, embed_dim)\n",
    "\n",
    "  def forward(self, x):\n",
    "    return self.linear(x)"
   ]
  },
  {
   "cell_type": "markdown",
   "id": "7c6da72e",
   "metadata": {},
   "source": [
    "The following is the `EncoderBottomUp` layer that will add the `cls_token1` before the sequence of region's feature embedding and `cls_token2` before the sequence of region's location feature embedding. After that it will apply the `FeatureEmbedding` and `SpatialEncoding` layer to come with a single sequence of feature instead of two, by adding the location features and the regions extracted features."
   ]
  },
  {
   "cell_type": "code",
   "execution_count": 138,
   "id": "29e63db5",
   "metadata": {},
   "outputs": [],
   "source": [
    "class EncoderBottomUp(nn.Module):\n",
    "  \"\"\"\n",
    "  Encoder for Bottom-Up-Attention features\n",
    "  :input:\n",
    "      feat_dim:       feature dim\n",
    "      d_model:        embeddings dim\n",
    "  :output:\n",
    "      encoded embeddings shape [batch * input length * model_dim]\n",
    "  \"\"\"\n",
    "  def __init__(self, feat_dim, d_model):\n",
    "    super().__init__()\n",
    "    self.cls_token1 = nn.Parameter(torch.zeros(1, 1, d_model)) # Add CLS token \n",
    "    self.cls_token2 = nn.Parameter(torch.zeros(1, 1, d_model)) # Add CLS token \n",
    "\n",
    "    self.feat_embed = FeatureEmbedding(feat_dim, d_model)\n",
    "    self.loc_embed = SpatialEncoding(d_model)\n",
    "\n",
    "  def forward(self, src, spatial_src):\n",
    "    x = self.feat_embed(src)\n",
    "    cls_token1 = self.cls_token1.expand(x.shape[0], -1, -1)\n",
    "    x = torch.cat((cls_token1, x), dim=1)\n",
    "\n",
    "    spatial_x = self.loc_embed(spatial_src)\n",
    "    cls_token2 = self.cls_token2.expand(spatial_x.shape[0], -1, -1)\n",
    "    spatial_x = torch.cat((cls_token2, spatial_x), dim=1)\n",
    "\n",
    "    x += spatial_x\n",
    "\n",
    "    return x"
   ]
  },
  {
   "cell_type": "markdown",
   "id": "f38d0b83",
   "metadata": {},
   "source": [
    "Now, I will construct the `EncoderBERT` layer that applies the `distilbert-base-uncased` pretrained model to convert the input to extracted features. But, since I have precomputed the features on the captions, the `precomp` argument is set to `True` and `EncoderBERT` won't compute these features for the captions again and simply pass the `x` tensor when it is called with it, when `precomp = True`."
   ]
  },
  {
   "cell_type": "code",
   "execution_count": 139,
   "id": "833c27f7",
   "metadata": {},
   "outputs": [],
   "source": [
    "class EncoderBERT(nn.Module):\n",
    "  \"\"\"\n",
    "  Pretrained BERT model\n",
    "  :input:\n",
    "      version:       bert version\n",
    "      precomp:       True, if precomputed features is to be used\n",
    "  :output:\n",
    "      encoded embeddings shape [batch * input length * model_dim]\n",
    "  \"\"\"\n",
    "\n",
    "  def __init__(self, feat_dim, d_model, version='distilbert-base-uncased', precomp=True, device=None):\n",
    "    super().__init__()\n",
    "  \n",
    "    self.feat_dim = feat_dim\n",
    "    self.d_model = d_model\n",
    "    self.feat_embed = FeatureEmbedding(feat_dim, d_model)\n",
    "    \n",
    "    self.precomp = precomp\n",
    "\n",
    "    if not self.precomp:\n",
    "      model = AutoModel.from_pretrained(version)\n",
    "\n",
    "      tokenizer = AutoTokenizer.from_pretrained(version, add_special_tokens = 'true', padding = 'longest')\n",
    "\n",
    "      self.pipeline = pipeline(\n",
    "        'feature-extraction', \n",
    "        model=model, \n",
    "        tokenizer=tokenizer, \n",
    "        device = 0 if device is not None else -1)\n",
    "\n",
    "  def forward(self, x):\n",
    "    if not self.precomp:\n",
    "      with torch.no_grad():\n",
    "        x = self.pipeline(x)\n",
    "      x = np.squeeze(x)\n",
    "      if len(x.shape) == 2:\n",
    "        x = np.expand_dims(x, axis=0)\n",
    "      x = make_feature_batch(x, pad_token=0)\n",
    "      x = x.to(device)\n",
    "    x = self.feat_embed(x)\n",
    "\n",
    "    return x"
   ]
  },
  {
   "cell_type": "markdown",
   "id": "e2462371",
   "metadata": {},
   "source": [
    "Finally, we put it all together into the `TERN` Model."
   ]
  },
  {
   "cell_type": "code",
   "execution_count": 140,
   "id": "a2271ab7",
   "metadata": {},
   "outputs": [],
   "source": [
    "class TERN(nn.Module):\n",
    "  \"\"\"\n",
    "  Architecture idea based on Transformer Encoder Reasoning Network\n",
    "  :input:\n",
    "    d_model: Embedding Dimension for the Visual and Textual Encoder\n",
    "    d_ff: FeedForward Network Hidden Unit in Visual and Textual Encoder\n",
    "    N_v: Number of Encoder Layers in Visual Encoder\n",
    "    N_l: Number of Encoder Layers in Language Encoder\n",
    "    heads: Number of heads in Visual and Textual Encoder\n",
    "    max_rel_pos: Number of inputs on either side of an input to be considered for Relative Position Encoding\n",
    "    dropout: Dropout Rate\n",
    "    aggregation: After Visual and Textual Encoder, how to collapse the temporal dimension of the output\n",
    "    precomp_bert: True/False depending on if you have pre-computed features\n",
    "    num_sw_layers: Number of shared transformer encoder layers\n",
    "  :output:\n",
    "    visual output feature vector, language output feature vector\n",
    "  \"\"\"\n",
    "  def __init__(self, d_model, d_embed, d_ff, N_v, N_l, heads, max_rel_pos, dropout, aggregation, precomp_bert, num_sw_layers, **kwargs):\n",
    "    super(TERN, self).__init__()\n",
    "    self.name = \"TERN\" # Name of the model\n",
    "    self.aggregation = aggregation # ['mean' | 'first'] How to collapse the Transformer Sequence output into a single feature vector\n",
    "    self.precomp_bert = precomp_bert # If the BERT features need to be computed?\n",
    "\n",
    "    self.encoder_v = EncoderBottomUp(feat_dim=2048, d_model=d_model) # Visual Embedding Layer [Considering the combined output of Faster-RCNN and Resnet extracted features to be the embedding for the visual transformer model]\n",
    "    self.encoder_l = EncoderBERT(feat_dim=768, d_model=d_model, precomp=precomp_bert) # Textual Embedding Layer [Considering the output of BERT to be the embedding for the textual transformer model]\n",
    "\n",
    "    self.reasoning_v = TransformerEncoder(d_model=d_model, d_ff=d_ff, N=N_v, heads=heads, max_rel_pos=max_rel_pos, dropout=dropout) # ViT\n",
    "    self.reasoning_l = TransformerEncoder(d_model=d_model, d_ff=d_ff, N=N_l, heads=heads, max_rel_pos=max_rel_pos, dropout=dropout) # LangT\n",
    "  \n",
    "    if num_sw_layers > 0: # Shared weight encoders\n",
    "      self.sw_layer = TransformerEncoder(d_model=d_model, d_ff=d_ff, N=num_sw_layers, heads=heads, max_rel_pos=max_rel_pos, dropout=dropout, sw=True)\n",
    "    else:\n",
    "      self.sw_layer = None\n",
    "    \n",
    "    self.img_proj = ModalProjection(in_dim=d_model, out_dim=d_embed) # Final projection of in_dim vector to out_dim vector for visual side\n",
    "    self.cap_proj = ModalProjection(in_dim=d_model, out_dim=d_embed) # Final projection of in_dim vector to out_dim vector for textual side\n",
    "\n",
    "    init_xavier(self)\n",
    "\n",
    "  def forward(self, batch):\n",
    "    outputs_v = self.visual_forward(batch)\n",
    "    outputs_l = self.lang_forward(batch)\n",
    "    return outputs_l, outputs_v\n",
    "\n",
    "\n",
    "  def visual_forward(self, batch):\n",
    "    visual_inputs = batch['feats'].to(device)\n",
    "    spatial_inputs = batch['loc_feats'].to(device)\n",
    "\n",
    "    outputs_v = self.encoder_v(visual_inputs, spatial_inputs) \n",
    "    outputs_v = self.reasoning_v(outputs_v)                   \n",
    "\n",
    "    if self.sw_layer is not None:\n",
    "      outputs_v = self.sw_layer(outputs_v)\n",
    "\n",
    "    if self.aggregation == 'mean':\n",
    "      feats_v = self.img_proj(outputs_v).mean(dim=1)\n",
    "    if self.aggregation == 'first':\n",
    "      feats_v = self.img_proj(outputs_v)[:, 0]\n",
    "\n",
    "    feats_v = l2norm(feats_v)\n",
    "    return feats_v\n",
    "\n",
    "  def lang_forward(self, batch):\n",
    "    if self.precomp_bert:\n",
    "      lang_inputs = batch['lang_feats'].to(device)\n",
    "      outputs_l = self.encoder_l(lang_inputs) \n",
    "    else:\n",
    "      outputs_l = self.encoder_l(batch['texts'])\n",
    "      outputs_l = outputs_l.to(device)\n",
    "\n",
    "    outputs_l = self.reasoning_l(outputs_l)\n",
    "\n",
    "    if self.sw_layer is not None:\n",
    "      outputs_l = self.sw_layer(outputs_l)\n",
    "\n",
    "    if self.aggregation == 'mean':\n",
    "      feats_l = self.cap_proj(outputs_l).mean(dim=1)\n",
    "\n",
    "    if self.aggregation == 'first':\n",
    "      feats_l = self.cap_proj(outputs_l)[:, 0]\n",
    "\n",
    "    feats_l = l2norm(feats_l)\n",
    "    return feats_l"
   ]
  },
  {
   "cell_type": "code",
   "execution_count": 141,
   "id": "658111de",
   "metadata": {},
   "outputs": [],
   "source": [
    "tern = TERN(\n",
    "  d_model=d_model,\n",
    "  d_embed=d_embed,\n",
    "  d_ff=d_ff,\n",
    "  N_v=N_v,\n",
    "  N_l=N_l,\n",
    "  heads=heads,\n",
    "  max_rel_pos=max_rel_pos,\n",
    "  dropout=dropout,\n",
    "  aggregation='mean',\n",
    "  precomp_bert=True,\n",
    "  num_sw_layers=num_sw_layers\n",
    ").to(device)"
   ]
  },
  {
   "cell_type": "code",
   "execution_count": 142,
   "id": "2c7b2189",
   "metadata": {},
   "outputs": [
    {
     "data": {
      "text/plain": [
       "<bound method Module.parameters of TERN(\n",
       "  (encoder_v): EncoderBottomUp(\n",
       "    (feat_embed): FeatureEmbedding(\n",
       "      (linear): Linear(in_features=2048, out_features=768, bias=True)\n",
       "    )\n",
       "    (loc_embed): SpatialEncoding(\n",
       "      (linear): Linear(in_features=5, out_features=768, bias=True)\n",
       "    )\n",
       "  )\n",
       "  (encoder_l): EncoderBERT(\n",
       "    (feat_embed): FeatureEmbedding(\n",
       "      (linear): Linear(in_features=768, out_features=768, bias=True)\n",
       "    )\n",
       "  )\n",
       "  (reasoning_v): TransformerEncoder(\n",
       "    (rel_layer): RelEncoderLayer(\n",
       "      (norm_1): LayerNorm()\n",
       "      (norm_2): LayerNorm()\n",
       "      (attn): RelMultiHeadAttention(\n",
       "        (relative_position_k): RelativePosition()\n",
       "        (relative_position_v): RelativePosition()\n",
       "        (q_linear): Linear(in_features=768, out_features=768, bias=True)\n",
       "        (v_linear): Linear(in_features=768, out_features=768, bias=True)\n",
       "        (k_linear): Linear(in_features=768, out_features=768, bias=True)\n",
       "        (dropout): Dropout(p=0.1, inplace=False)\n",
       "        (out): Linear(in_features=768, out_features=768, bias=True)\n",
       "      )\n",
       "      (ff): PositionwiseFeedForward(\n",
       "        (w_1): Linear(in_features=768, out_features=2048, bias=True)\n",
       "        (w_2): Linear(in_features=2048, out_features=768, bias=True)\n",
       "        (dropout): Dropout(p=0.1, inplace=False)\n",
       "      )\n",
       "      (dropout_1): Dropout(p=0.1, inplace=False)\n",
       "      (dropout_2): Dropout(p=0.1, inplace=False)\n",
       "    )\n",
       "    (layers): ModuleList(\n",
       "      (0): EncoderLayer(\n",
       "        (norm_1): LayerNorm()\n",
       "        (norm_2): LayerNorm()\n",
       "        (attn): MultiHeadAttention(\n",
       "          (q_linear): Linear(in_features=768, out_features=768, bias=True)\n",
       "          (v_linear): Linear(in_features=768, out_features=768, bias=True)\n",
       "          (k_linear): Linear(in_features=768, out_features=768, bias=True)\n",
       "          (dropout): Dropout(p=0.1, inplace=False)\n",
       "          (out): Linear(in_features=768, out_features=768, bias=True)\n",
       "        )\n",
       "        (ff): PositionwiseFeedForward(\n",
       "          (w_1): Linear(in_features=768, out_features=2048, bias=True)\n",
       "          (w_2): Linear(in_features=2048, out_features=768, bias=True)\n",
       "          (dropout): Dropout(p=0.1, inplace=False)\n",
       "        )\n",
       "        (dropout_1): Dropout(p=0.1, inplace=False)\n",
       "        (dropout_2): Dropout(p=0.1, inplace=False)\n",
       "      )\n",
       "      (1): EncoderLayer(\n",
       "        (norm_1): LayerNorm()\n",
       "        (norm_2): LayerNorm()\n",
       "        (attn): MultiHeadAttention(\n",
       "          (q_linear): Linear(in_features=768, out_features=768, bias=True)\n",
       "          (v_linear): Linear(in_features=768, out_features=768, bias=True)\n",
       "          (k_linear): Linear(in_features=768, out_features=768, bias=True)\n",
       "          (dropout): Dropout(p=0.1, inplace=False)\n",
       "          (out): Linear(in_features=768, out_features=768, bias=True)\n",
       "        )\n",
       "        (ff): PositionwiseFeedForward(\n",
       "          (w_1): Linear(in_features=768, out_features=2048, bias=True)\n",
       "          (w_2): Linear(in_features=2048, out_features=768, bias=True)\n",
       "          (dropout): Dropout(p=0.1, inplace=False)\n",
       "        )\n",
       "        (dropout_1): Dropout(p=0.1, inplace=False)\n",
       "        (dropout_2): Dropout(p=0.1, inplace=False)\n",
       "      )\n",
       "      (2): EncoderLayer(\n",
       "        (norm_1): LayerNorm()\n",
       "        (norm_2): LayerNorm()\n",
       "        (attn): MultiHeadAttention(\n",
       "          (q_linear): Linear(in_features=768, out_features=768, bias=True)\n",
       "          (v_linear): Linear(in_features=768, out_features=768, bias=True)\n",
       "          (k_linear): Linear(in_features=768, out_features=768, bias=True)\n",
       "          (dropout): Dropout(p=0.1, inplace=False)\n",
       "          (out): Linear(in_features=768, out_features=768, bias=True)\n",
       "        )\n",
       "        (ff): PositionwiseFeedForward(\n",
       "          (w_1): Linear(in_features=768, out_features=2048, bias=True)\n",
       "          (w_2): Linear(in_features=2048, out_features=768, bias=True)\n",
       "          (dropout): Dropout(p=0.1, inplace=False)\n",
       "        )\n",
       "        (dropout_1): Dropout(p=0.1, inplace=False)\n",
       "        (dropout_2): Dropout(p=0.1, inplace=False)\n",
       "      )\n",
       "    )\n",
       "    (norm): LayerNorm()\n",
       "  )\n",
       "  (reasoning_l): TransformerEncoder()\n",
       "  (img_proj): ModalProjection(\n",
       "    (model): Sequential(\n",
       "      (0): Linear(in_features=768, out_features=768, bias=True)\n",
       "      (1): ReLU()\n",
       "      (2): Linear(in_features=768, out_features=1024, bias=True)\n",
       "    )\n",
       "  )\n",
       "  (cap_proj): ModalProjection(\n",
       "    (model): Sequential(\n",
       "      (0): Linear(in_features=768, out_features=768, bias=True)\n",
       "      (1): ReLU()\n",
       "      (2): Linear(in_features=768, out_features=1024, bias=True)\n",
       "    )\n",
       "  )\n",
       ")>"
      ]
     },
     "execution_count": 142,
     "metadata": {},
     "output_type": "execute_result"
    }
   ],
   "source": [
    "tern.parameters"
   ]
  },
  {
   "cell_type": "markdown",
   "id": "410f076f",
   "metadata": {},
   "source": [
    "### Loss Function"
   ]
  },
  {
   "cell_type": "markdown",
   "id": "b99dd6c7",
   "metadata": {},
   "source": [
    "Since, the objective is to learn good vector representation of the textual and image features in the joint-embedding space. The task is to maximize the similarity between the vector representation of the caption and the vector representation of the corresponding image.\n",
    "\n",
    "This idea is similar to that of Siamese Network, where we train triplet loss function to maximize the similarity between the same input images but increases the dissimilarity between the different input images. Here, the difference is instead of having pairs of images we have pairs of image and texts.\n",
    "\n",
    "Thus, `ContrastiveLoss` is chosen as the loss function."
   ]
  },
  {
   "cell_type": "code",
   "execution_count": 143,
   "id": "dc95d88b",
   "metadata": {},
   "outputs": [],
   "source": [
    "class ContrastiveLoss(nn.Module):\n",
    "    def __init__(self, **kwargs) -> None:\n",
    "        super().__init__(**kwargs)\n",
    "        self.loss_fn = losses.ContrastiveLoss(**kwargs)\n",
    "\n",
    "    def forward(self, feats1, feats2):\n",
    "        labels = torch.arange(feats1.size(0))\n",
    "        embeddings = torch.cat([feats1, feats2], dim=0)\n",
    "        labels = torch.cat([labels, labels], dim=0)\n",
    "\n",
    "        loss = self.loss_fn(embeddings, labels)\n",
    "        return {'T': loss}"
   ]
  },
  {
   "cell_type": "code",
   "execution_count": 144,
   "id": "c3238461",
   "metadata": {},
   "outputs": [],
   "source": [
    "criterion = ContrastiveLoss()"
   ]
  },
  {
   "cell_type": "markdown",
   "id": "80556a86",
   "metadata": {},
   "source": [
    "### Evalutation Metric"
   ]
  },
  {
   "cell_type": "markdown",
   "id": "e89088ea",
   "metadata": {},
   "source": [
    "The reason why I am creating the evaluation metric before training is while training, there will be a evaluation step on the validation dataset. Thus, to carry out that step to get an idea about validation loss. I create the evaluation metrics before training.\n",
    "\n",
    "I will be using the following metrics for evaluation:\n",
    "- F1\n",
    "- MAP (Mean Average Precision)\n",
    "- NN (Nearest Neighbor)\n",
    "- Recall\n",
    "- First Tier\n",
    "- Second Tier"
   ]
  },
  {
   "cell_type": "code",
   "execution_count": 145,
   "id": "b86f536f",
   "metadata": {},
   "outputs": [],
   "source": [
    "class F1Metric:\n",
    "  \"\"\"\n",
    "  F1 score at K\n",
    "  \"\"\"\n",
    "  def __init__(self, k, decimals = 4):\n",
    "    self.k = k\n",
    "    self.decimals = decimals\n",
    "    self.scores = []\n",
    "\n",
    "  def compute(self):\n",
    "    mean_score = np.mean(self.scores)\n",
    "    mean_score = np.round(float(mean_score), decimals=self.decimals)\n",
    "    return mean_score\n",
    "\n",
    "  def update(self, output, target):\n",
    "    output = output[:self.k]\n",
    "    n = len(np.intersect1d(target,output)) # Number of corrects\n",
    "    score = 2*n / (len(target)+len(output))\n",
    "    self.scores.append(score)\n",
    "\n",
    "  def reset(self):\n",
    "    self.scores = []\n",
    "\n",
    "  def value(self):\n",
    "    score = self.compute()\n",
    "    return {f\"F1@{self.k}\" : score}\n",
    "\n",
    "  def __str__(self):\n",
    "    return f'{self.value()}'\n",
    "\n",
    "  def __len__(self):\n",
    "    return len(self.scores)"
   ]
  },
  {
   "cell_type": "code",
   "execution_count": 146,
   "id": "5bf618e9",
   "metadata": {},
   "outputs": [],
   "source": [
    "class MAPMetric:\n",
    "  \"\"\"\n",
    "  Mean average precision at K\n",
    "  \"\"\"\n",
    "  def __init__(self, k, decimals = 4):\n",
    "    self.k = k\n",
    "    self.decimals = decimals\n",
    "    self.scores = []\n",
    "\n",
    "  def compute(self):\n",
    "    mean_score = np.mean(self.scores)\n",
    "    mean_score = np.round(float(mean_score), decimals=self.decimals)\n",
    "    return mean_score\n",
    "\n",
    "  def update(self, output, target):\n",
    "    output = output[:self.k]\n",
    "    score = 0.0\n",
    "    num_hits = 0.0\n",
    "\n",
    "    for i, p in enumerate(output):\n",
    "      if p in target and p not in output[:i]:\n",
    "        num_hits += 1.0\n",
    "        score += num_hits / (i+1.0)\n",
    "    self.scores.append(score)\n",
    "\n",
    "  def reset(self):\n",
    "    self.scores = []\n",
    "\n",
    "  def value(self):\n",
    "    score = self.compute()\n",
    "    return {f\"MAP@{self.k}\" : score}\n",
    "\n",
    "  def __str__(self):\n",
    "    return f'{self.value()}'\n",
    "\n",
    "  def __len__(self):\n",
    "    return len(self.scores)"
   ]
  },
  {
   "cell_type": "code",
   "execution_count": 147,
   "id": "d7a1acde",
   "metadata": {},
   "outputs": [],
   "source": [
    "class NearestNeighborMetric:\n",
    "  \"\"\"\n",
    "  Nearest neighbor\n",
    "  \"\"\"\n",
    "  def __init__(self, decimals = 4):\n",
    "    self.decimals = decimals\n",
    "    self.scores = []\n",
    "\n",
    "  def compute(self):\n",
    "    mean_score = np.mean(self.scores)\n",
    "    mean_score = np.round(float(mean_score), decimals=self.decimals)\n",
    "    return mean_score\n",
    "\n",
    "  def update(self, output, target):\n",
    "    score = int(output[0] in target)\n",
    "    self.scores.append(score)\n",
    "\n",
    "  def reset(self):\n",
    "    self.scores = []\n",
    "\n",
    "  def value(self):\n",
    "    score = self.compute()\n",
    "    return {\"NN\" : score}\n",
    "\n",
    "  def __str__(self):\n",
    "    return f'{self.value()}'\n",
    "\n",
    "  def __len__(self):\n",
    "    return len(self.scores)"
   ]
  },
  {
   "cell_type": "code",
   "execution_count": 148,
   "id": "d91bd0a3",
   "metadata": {},
   "outputs": [],
   "source": [
    "class RecallMetric:\n",
    "  \"\"\"\n",
    "  Nearest neighbor\n",
    "  \"\"\"\n",
    "  def __init__(self, k, decimals = 4):\n",
    "    self.k = k\n",
    "    self.decimals = decimals\n",
    "    self.scores = []\n",
    "\n",
    "  def compute(self):\n",
    "    mean_score = np.mean(self.scores)\n",
    "    mean_score = np.round(float(mean_score), decimals=self.decimals)\n",
    "    return mean_score\n",
    "\n",
    "  def update(self, output, target):\n",
    "    retrieved_labels = output[:self.k]\n",
    "    n_targets = len(target)                                        # Number of targets\n",
    "    n_relevant_objs = len(np.intersect1d(target,retrieved_labels)) # Number of corrects\n",
    "    score = n_relevant_objs*1.0 / n_targets\n",
    "    self.scores.append(score)\n",
    "\n",
    "  def reset(self):\n",
    "    self.scores = []\n",
    "\n",
    "  def value(self):\n",
    "    score = self.compute()\n",
    "    return {f\"R@{self.k}\" : score}\n",
    "\n",
    "  def __str__(self):\n",
    "    return f'{self.value()}'\n",
    "\n",
    "  def __len__(self):\n",
    "    return len(self.scores)"
   ]
  },
  {
   "cell_type": "code",
   "execution_count": 149,
   "id": "75da9c6a",
   "metadata": {},
   "outputs": [],
   "source": [
    "class FirstTierMetric:\n",
    "  \"\"\"\n",
    "  First Tier\n",
    "  \"\"\"\n",
    "  def __init__(self, decimals = 4):\n",
    "    self.decimals = decimals\n",
    "    self.scores = []\n",
    "\n",
    "  def compute(self):\n",
    "    mean_score = np.mean(self.scores)\n",
    "    mean_score = np.round(float(mean_score), decimals=self.decimals)\n",
    "    return mean_score\n",
    "\n",
    "  def update(self, output, target):\n",
    "    n_relevant_objs = sum([1 if i in target else 0 for i in output])\n",
    "    retrieved_1st_tier = output[:n_relevant_objs+1]\n",
    "    score = np.mean([1 if i in target else 0 for i in retrieved_1st_tier])\n",
    "    self.scores.append(score)\n",
    "\n",
    "  def reset(self):\n",
    "    self.scores = []\n",
    "\n",
    "  def value(self):\n",
    "    score = self.compute()\n",
    "    return {\"FT\" : score}\n",
    "\n",
    "  def __str__(self):\n",
    "    return f'{self.value()}'\n",
    "\n",
    "  def __len__(self):\n",
    "    return len(self.scores)"
   ]
  },
  {
   "cell_type": "code",
   "execution_count": 150,
   "id": "77999f52",
   "metadata": {},
   "outputs": [],
   "source": [
    "class SecondTierMetric:\n",
    "  \"\"\"\n",
    "  Second Tier\n",
    "  \"\"\"\n",
    "  def __init__(self, decimals = 4):\n",
    "    self.decimals = decimals\n",
    "    self.scores = []\n",
    "\n",
    "  def compute(self):\n",
    "    mean_score = np.mean(self.scores)\n",
    "    mean_score = np.round(float(mean_score), decimals=self.decimals)\n",
    "    return mean_score\n",
    "\n",
    "  def update(self, output, target):\n",
    "    n_relevant_objs = sum([1 if i in target else 0 for i in output])\n",
    "    retrieved_2nd_tier = output[:2*n_relevant_objs+1]\n",
    "    score = np.mean([1 if i in target else 0 for i in retrieved_2nd_tier])\n",
    "    self.scores.append(score)\n",
    "\n",
    "  def reset(self):\n",
    "    self.scores = []\n",
    "\n",
    "  def value(self):\n",
    "    score = self.compute()\n",
    "    return {\"ST\" : score}\n",
    "\n",
    "  def __str__(self):\n",
    "    return f'{self.value()}'\n",
    "\n",
    "  def __len__(self):\n",
    "    return len(self.scores)"
   ]
  },
  {
   "cell_type": "markdown",
   "id": "3681ff9f",
   "metadata": {},
   "source": [
    "Based on all the above metrics, I define a single `RetrievalScore` class that will load the evaluation dataloaders on instantiation and will help us readily evaluate the model"
   ]
  },
  {
   "cell_type": "code",
   "execution_count": 151,
   "id": "a04fcf6c",
   "metadata": {},
   "outputs": [],
   "source": [
    "# Some utility functions\n",
    "def get_dist_func(name):\n",
    "  if name == 'cosine':\n",
    "    return cosine_distances # 1 - similarity\n",
    "  elif name == 'euclide':\n",
    "    return euclidean_distances\n",
    "  else:\n",
    "    raise NotImplementedError\n",
    "\n",
    "def save_results(query_results, outname):\n",
    "  if not os.path.exists('./results/'):\n",
    "    os.mkdir('./results/')\n",
    "  np.save(f'./results/{outname}.npy', query_results, allow_pickle=True)\n",
    "\n",
    "def get_top_k(object_dist_score, top_k=5, max_distance=2.0):\n",
    "  \"\"\"\n",
    "  Input: Array of distance of each item in the gallery to the query\n",
    "  Return: top k objects's indexes and scores\n",
    "  \"\"\"\n",
    "  top_k_indexes = object_dist_score.argsort()[:top_k] # Sort item by distance and get top-k\n",
    "  top_k_scores = object_dist_score[top_k_indexes]\n",
    "\n",
    "  if max_distance is not None: # Keep only item with near distance\n",
    "    keep_indexes = top_k_scores <= max_distance\n",
    "    top_k_indexes = top_k_indexes[keep_indexes]\n",
    "    top_k_scores = top_k_scores[keep_indexes]\n",
    "\n",
    "  return top_k_indexes, top_k_scores\n",
    "\n",
    "metrics_mapping = { # All the metrics to keep track of during evaluation\n",
    "  'FT': FirstTierMetric(),\n",
    "  'ST': SecondTierMetric(),\n",
    "  'NN': NearestNeighborMetric(),\n",
    "  'MAP@10': MAPMetric(k=10),\n",
    "  'F1@10': F1Metric(k=10),\n",
    "  'R@1': RecallMetric(k=1),\n",
    "  'R@5': RecallMetric(k=5),\n",
    "  'R@10': RecallMetric(k=10),\n",
    "}"
   ]
  },
  {
   "cell_type": "markdown",
   "id": "575da358",
   "metadata": {},
   "source": [
    "The `RetrievalScore` calculates the value of each of the above metric when called.\n",
    "It saves the prediction for each batch:\n",
    "- `./results/i2t_results.npy` for image-to-text retrieval\n",
    "- `./results/t2i_results.npy` for text-to-image retrieval.\n",
    "\n",
    "Set `eval_batch_size` for the evaluation batch size."
   ]
  },
  {
   "cell_type": "code",
   "execution_count": 152,
   "id": "a433cefb",
   "metadata": {},
   "outputs": [],
   "source": [
    "eval_batch_size = 128 # Set the evaluation batch size\n",
    "eval_num_workers = 0"
   ]
  },
  {
   "cell_type": "code",
   "execution_count": 153,
   "id": "8a6b366b",
   "metadata": {},
   "outputs": [],
   "source": [
    "class RetrievalScore:    \n",
    "  def __init__(self, \n",
    "        image_set, \n",
    "        text_set, \n",
    "        dimension=1024,\n",
    "        metric_names=['FT', \"ST\", \"MAP@10\", \"NN\", \"F1@10\", \"R@10\"],\n",
    "        max_distance = None,\n",
    "        top_k=10,\n",
    "        save_results=True):\n",
    "\n",
    "    self.metric_names = metric_names\n",
    "    self.image_loader = data.DataLoader(\n",
    "      image_set,\n",
    "      batch_size=eval_batch_size,\n",
    "      shuffle = False, \n",
    "      collate_fn=image_set.collate_fn, \n",
    "      num_workers= eval_num_workers,\n",
    "      pin_memory=True\n",
    "    )\n",
    "\n",
    "    self.text_loader = data.DataLoader(\n",
    "      text_set,\n",
    "      batch_size=eval_batch_size,\n",
    "      shuffle = False, \n",
    "      collate_fn=text_set.collate_fn, \n",
    "      num_workers= eval_num_workers,\n",
    "      pin_memory=True\n",
    "    )\n",
    "\n",
    "    self.top_k = top_k                  # Query top k candidates\n",
    "    self.max_distance = max_distance    # Query candidates with distances lower than threshold\n",
    "    self.save_results = save_results    # Save for vizualization\n",
    "\n",
    "    self.image_embedding = [] \n",
    "    self.text_embedding = []\n",
    "\n",
    "    # For image-to-text retrieval\n",
    "    self.image_ids = []\n",
    "    self.text_target_ids = []\n",
    "\n",
    "    # For text-to-image retrieval\n",
    "    self.text_ids = []\n",
    "    self.image_target_ids = []\n",
    "\n",
    "    if self.save_results:\n",
    "      self.results_dict = {}\n",
    "\n",
    "    self.dist_func = get_dist_func('cosine') # Distance function\n",
    "\n",
    "  def reset(self):\n",
    "    self.image_embedding = [] \n",
    "    self.text_embedding = []\n",
    "\n",
    "    # For image-to-text retrieval\n",
    "    self.image_ids = []\n",
    "    self.text_target_ids = []\n",
    "\n",
    "    # For text-to-image retrieval\n",
    "    self.text_ids = []\n",
    "    self.image_target_ids = []\n",
    "\n",
    "    if self.save_results:\n",
    "      self.results_dict = {}\n",
    "\n",
    "    for metric_name in self.metric_names:\n",
    "      metric_fn = metrics_mapping[metric_name]\n",
    "      metric_fn.reset()        \n",
    "\n",
    "  def update(self, model):\n",
    "    self.model = model\n",
    "    self.model.model.eval()\n",
    "\n",
    "  def compute_images(self):\n",
    "    for idx, batch in enumerate(tqdm(self.image_loader)):\n",
    "      image_ids = batch['ids']\n",
    "      text_target_ids = batch['text_ids']\n",
    "      feats = self.model.get_visual_embeddings(batch)\n",
    "\n",
    "      # Get embedding of each item in batch\n",
    "      batch_size = feats.shape[0]\n",
    "      for i in range(batch_size):\n",
    "        feat = feats[i]\n",
    "        self.image_embedding.append(feat)\n",
    "        self.image_ids.append(image_ids[i])\n",
    "        self.text_target_ids.append(text_target_ids[i])\n",
    "\n",
    "    self.image_embedding = np.array(self.image_embedding)\n",
    "    self.text_target_ids = np.array(self.text_target_ids)\n",
    "    self.image_ids = np.array(self.image_ids)\n",
    "\n",
    "  def compute_texts(self):\n",
    "    for idx, batch in enumerate(tqdm(self.text_loader)):\n",
    "      text_ids = batch['ids']\n",
    "      image_target_ids = batch['image_ids']\n",
    "      feats = self.model.get_lang_embeddings(batch)\n",
    "\n",
    "      # Get embedding of each item in batch\n",
    "      batch_size = feats.shape[0]\n",
    "      for i in range(batch_size):\n",
    "        feat = feats[i]\n",
    "        self.text_embedding.append(feat)\n",
    "        self.text_ids.append(text_ids[i])\n",
    "        self.image_target_ids.append(image_target_ids[i])\n",
    "\n",
    "    self.text_embedding = np.array(self.text_embedding)\n",
    "    self.image_target_ids = np.array(self.image_target_ids)\n",
    "    self.text_ids = np.array(self.text_ids)\n",
    "\n",
    "  def compute_default(self, queries_embedding, gallery_embedding, queries_ids, targets_ids, gallery_ids):\n",
    "    \"\"\"\n",
    "    Compute score for each metric and return \n",
    "    \"\"\"\n",
    "\n",
    "    # Compute distance matrice for queries and gallery\n",
    "    print(\"Calculating distance matrice...\")\n",
    "    dist_mat = self.dist_func(queries_embedding, gallery_embedding)\n",
    "\n",
    "    # np.savetxt(\"./results/dist_mat.txt\",dist_mat)\n",
    "    for idx, row in enumerate(dist_mat):\n",
    "      object_dist_score = dist_mat[idx]\n",
    "      top_k_indexes, top_k_scores = get_top_k(\n",
    "        object_dist_score,\n",
    "        top_k=self.top_k,\n",
    "        max_distance=self.max_distance\n",
    "      )\n",
    "\n",
    "      current_id = queries_ids[idx] # query id\n",
    "      target_ids = targets_ids[idx] if not isinstance(targets_ids[idx], np.int64) else np.array([targets_ids[idx]]) # target id \n",
    "\n",
    "      pred_ids = gallery_ids[top_k_indexes] # gallery id\n",
    "      pred_ids = pred_ids.tolist() if not isinstance(pred_ids.tolist(), int) else [pred_ids.tolist()]\n",
    "\n",
    "      if self.save_results:\n",
    "          self.results_dict[current_id] = {\n",
    "            'pred_ids': pred_ids,\n",
    "            'target_ids': target_ids,\n",
    "            'scores': top_k_scores \n",
    "          }\n",
    "\n",
    "      for metric_name in self.metric_names:\n",
    "        metric_fn = metrics_mapping[metric_name]\n",
    "        metric_fn.update(pred_ids, target_ids)\n",
    "\n",
    "  def _compute_score(\n",
    "    self, \n",
    "    queries_embedding, \n",
    "    gallery_embedding, \n",
    "    queries_ids, \n",
    "    targets_ids, \n",
    "    gallery_ids,\n",
    "    outname):\n",
    "\n",
    "    self.results_dict = {}\n",
    "\n",
    "    self.compute_default(\n",
    "      queries_embedding, \n",
    "      gallery_embedding, \n",
    "      queries_ids, \n",
    "      targets_ids, \n",
    "      gallery_ids)\n",
    "\n",
    "    # Save results for visualization later\n",
    "    if self.save_results:\n",
    "      print(\"Saving retrieval results...\")\n",
    "      save_results(self.results_dict, outname)\n",
    "\n",
    "    result_dict = {}\n",
    "    for metric_name in self.metric_names:\n",
    "      metric_fn = metrics_mapping[metric_name]\n",
    "      result_dict.update(metric_fn.value())\n",
    "\n",
    "    return result_dict\n",
    "\n",
    "  def compute(self):\n",
    "    print(\"Extracting features...\")\n",
    "    self.reset()\n",
    "    with torch.no_grad():\n",
    "      self.compute_images()\n",
    "      self.compute_texts()\n",
    "\n",
    "    i2t_dict = self._compute_score(\n",
    "      self.image_embedding, self.text_embedding, \n",
    "      self.image_ids, self.text_target_ids, self.text_ids, outname='i2t_results')\n",
    "\n",
    "    t2i_dict = self._compute_score(\n",
    "      self.text_embedding, self.image_embedding, \n",
    "      self.text_ids , self.image_target_ids, self.image_ids, outname='t2i_results')\n",
    "\n",
    "    result_dict = {\"i2t/\" + k : v for k,v in i2t_dict.items()}\n",
    "    result_dict.update({\"t2i/\" + k : v for k,v in t2i_dict.items()})\n",
    "\n",
    "    return result_dict\n",
    "\n",
    "  def value(self):\n",
    "    result_dict = self.compute()\n",
    "    return result_dict\n",
    "\n",
    "  def __str__(self):\n",
    "    return str(self.value())"
   ]
  },
  {
   "cell_type": "code",
   "execution_count": 154,
   "id": "5ff6cc92",
   "metadata": {},
   "outputs": [],
   "source": [
    "top_k = 10 # How many top k elements to select when computing distance/similary based metrics above?\n",
    "max_distance = 2.0 # Within how much distance should I consider the top_k elements?\n",
    "metric_names = [\"R@1\", \"R@5\", \"R@10\"] # Metrics to compute select from FT, ST, NN, MAP@10, F1@10, R@1, R@5, R@10"
   ]
  },
  {
   "cell_type": "code",
   "execution_count": 155,
   "id": "80c40d05",
   "metadata": {},
   "outputs": [],
   "source": [
    "metric = RetrievalScore( # Instantiation metric class\n",
    "          valset1, valset2, \n",
    "          max_distance = max_distance,\n",
    "          top_k=top_k,\n",
    "          metric_names=metric_names,\n",
    "          dimension=d_embed,\n",
    "          save_results=True)"
   ]
  },
  {
   "cell_type": "markdown",
   "id": "707cf783",
   "metadata": {},
   "source": [
    "### Optimizer"
   ]
  },
  {
   "cell_type": "markdown",
   "id": "8cff1a4a",
   "metadata": {},
   "source": [
    "I choose to go with the `AdamW` optimizer. The optimizer parameters can be set by changing the following values."
   ]
  },
  {
   "cell_type": "code",
   "execution_count": 156,
   "id": "982f6fce",
   "metadata": {},
   "outputs": [],
   "source": [
    "lr = 1e-5 # Learning Rate\n",
    "betas = (0.937, 0.98) # Momentum Term\n",
    "eps = 1e-9 # Epsilon\n",
    "weight_decay = 0.0005 # Weight Decay"
   ]
  },
  {
   "cell_type": "code",
   "execution_count": 157,
   "id": "062ac98b",
   "metadata": {},
   "outputs": [],
   "source": [
    "optimizer = torch.optim.AdamW(tern.parameters(), lr=lr, betas=betas, eps=eps, weight_decay=weight_decay)"
   ]
  },
  {
   "cell_type": "markdown",
   "id": "16a2e27f",
   "metadata": {},
   "source": [
    "The `CosineAnnealingWithRestarts` is used as the learning rate annealing function."
   ]
  },
  {
   "cell_type": "code",
   "execution_count": 158,
   "id": "0d2a9217",
   "metadata": {},
   "outputs": [],
   "source": [
    "# scheduler = torch.optim.lr_scheduler.CosineAnnealingWarmRestarts(optimizer, 5)"
   ]
  },
  {
   "cell_type": "markdown",
   "id": "10a53456",
   "metadata": {},
   "source": [
    "### Training"
   ]
  },
  {
   "cell_type": "markdown",
   "id": "23a2cfa8",
   "metadata": {},
   "source": [
    "I define a model class `Retriver` that will make handling of the `tern` model easier in terms:\n",
    "- evaluation (`evaluate_step`)\n",
    "- training (`training_step`)\n",
    "- inference (`inference_step`)\n",
    "- extracting feature (`get_visual_embeddings`, `get_lang_embeddings`)"
   ]
  },
  {
   "cell_type": "code",
   "execution_count": 159,
   "id": "e1a25076",
   "metadata": {},
   "outputs": [],
   "source": [
    "class Retriever:\n",
    "  def __init__(self, model, optimizer, criterion, metrics, freeze=False): # scheduler,\n",
    "    super().__init__()\n",
    "    self.model = model\n",
    "    self.model_name = self.model.name\n",
    "    self.optimizer = optimizer\n",
    "    # self.scheduler = scheduler\n",
    "    self.criterion = criterion\n",
    "    self.freeze = freeze\n",
    "    self.metrics = metrics # Metrics to evaluate the model on\n",
    "    if not isinstance(metrics, list):\n",
    "      self.metrics = [metrics,]\n",
    "    if self.freeze: # Freezing the model parameters\n",
    "      for params in self.model.parameters():\n",
    "          params.requires_grad = False\n",
    "\n",
    "  def forward(self, x):\n",
    "    return self.model(x)\n",
    "\n",
    "  def training_step(self, batch):\n",
    "    outputs_1, outputs_2 = self.model(batch)\n",
    "    loss = self.criterion(outputs_1, outputs_2)\n",
    "    return loss\n",
    "\n",
    "  def inference_step(self, batch):\n",
    "    outputs_1, outputs_2 = self.model(batch)\n",
    "    return outputs_1.cpu().detach().numpy(), outputs_2.cpu().detach().numpy()\n",
    "\n",
    "  def evaluate_step(self, batch):\n",
    "    outputs_1, outputs_2 = self.model(batch)\n",
    "    loss = self.criterion(outputs_1, outputs_2)\n",
    "    self.update_metrics(model=self)\n",
    "    return loss\n",
    "\n",
    "  def get_visual_embeddings(self, batch): # Get Visual features for a batch\n",
    "    outputs_v = self.model.visual_forward(batch)\n",
    "    return outputs_v.cpu().detach().numpy().astype(np.float32)\n",
    "\n",
    "  def get_lang_embeddings(self, batch): # Get Language features for a batch\n",
    "    outputs_l = self.model.lang_forward(batch)\n",
    "    return outputs_l.cpu().detach().numpy().astype(np.float32)\n",
    "  \n",
    "  def trainable_parameters(self):\n",
    "    return sum(p.numel() for p in self.model.parameters() if p.requires_grad)\n",
    "\n",
    "  def unfreeze(self):\n",
    "    for params in self.parameters():\n",
    "      params.requires_grad = True\n",
    "\n",
    "  def update_metrics(self, **kwargs):\n",
    "    for metric in self.metrics:\n",
    "      metric.update(**kwargs)\n",
    "\n",
    "  def get_metric_values(self):\n",
    "    metric_dict = {}\n",
    "    for metric in self.metrics:\n",
    "      metric_dict.update(metric.value())\n",
    "    return metric_dict\n",
    "\n",
    "  def reset_metrics(self):\n",
    "    for metric in self.metrics:\n",
    "      metric.reset()"
   ]
  },
  {
   "cell_type": "code",
   "execution_count": 160,
   "id": "4579ce8a",
   "metadata": {},
   "outputs": [],
   "source": [
    "model = Retriever( # Instantiating the model\n",
    "  model=tern,\n",
    "  optimizer=optimizer,\n",
    "  criterion=criterion,\n",
    "  metrics=metric\n",
    ")\n",
    "# scheduler=scheduler,"
   ]
  },
  {
   "cell_type": "markdown",
   "id": "a376b15a",
   "metadata": {},
   "source": [
    "#### Checkpoint"
   ]
  },
  {
   "cell_type": "markdown",
   "id": "7079f024",
   "metadata": {},
   "source": [
    "The following `Checkpoint` class helps in saving the following things while training:\n",
    "- `model`: model weights\n",
    "- `optimizer`: optimizer state\n",
    "- `epoch`: number of epochs trained for\n",
    "- `iters`: number of iterations trained for"
   ]
  },
  {
   "cell_type": "code",
   "execution_count": 161,
   "id": "fa510357",
   "metadata": {},
   "outputs": [],
   "source": [
    "class Checkpoint():\n",
    "  \"\"\"\n",
    "  Checkpoint for saving model state\n",
    "  :param save_per_epoch: (int)\n",
    "  :param path: (string)\n",
    "  \"\"\"\n",
    "  def __init__(self, save_per_epoch = 2, path = None):\n",
    "    self.path = path\n",
    "    self.save_per_epoch = save_per_epoch\n",
    "    # Create folder\n",
    "    if self.path is None:\n",
    "      self.path = os.path.join('weights',datetime.now().strftime('%Y-%m-%d_%H-%M-%S'))\n",
    "\n",
    "  def save(self, model, epoch, iters, save_mode='last'):\n",
    "    \"\"\"\n",
    "    Save model and optimizer weights\n",
    "    :param model: Pytorch model with state dict\n",
    "    \"\"\"\n",
    "    if not os.path.exists(self.path):\n",
    "        os.makedirs(self.path)\n",
    "\n",
    "    model_path = \"_\".join([model.model_name,save_mode])\n",
    "\n",
    "    epoch = epoch\n",
    "    iters = iters\n",
    "\n",
    "    weights = {\n",
    "      'model': model.model.state_dict(),\n",
    "      'optimizer': model.optimizer.state_dict(),\n",
    "      'epoch': epoch,\n",
    "      'iters': iters,\n",
    "    }\n",
    "\n",
    "    torch.save(weights, os.path.join(self.path,model_path)+\".pth\")"
   ]
  },
  {
   "cell_type": "markdown",
   "id": "3915a323",
   "metadata": {},
   "source": [
    "Loading the model's and optimizer's `state_dict` for the `tern` model can be done using the following `load_checkpoint`."
   ]
  },
  {
   "cell_type": "code",
   "execution_count": 162,
   "id": "67606d0e",
   "metadata": {},
   "outputs": [],
   "source": [
    "def load_checkpoint(model, path):\n",
    "  \"\"\"\n",
    "  Load trained model checkpoint\n",
    "  :param model: (nn.Module)\n",
    "  :param path: (string) checkpoint path\n",
    "  \"\"\"\n",
    "  state = torch.load(path, map_location=device)\n",
    "  model.load_state_dict(state[\"model\"])\n",
    "  if optimizer is not None:\n",
    "    optimizer.load_state_dict(state[\"optimizer\"])\n",
    "  else:\n",
    "    print('Failed to load optimizer state')\n",
    "  print(\"Loaded Successfully!\")\n",
    "  print('Epochs Trained:', state[\"epoch\"])\n",
    "  print('Iterations Trained:', state[\"iters\"])"
   ]
  },
  {
   "cell_type": "markdown",
   "id": "e83f838a",
   "metadata": {},
   "source": [
    "#### Training"
   ]
  },
  {
   "cell_type": "markdown",
   "id": "26fa9061",
   "metadata": {},
   "source": [
    "Now, set the training configurations:\n",
    "- `num_epochs`: Number of epochs to train the model.\n",
    "- `checkpoint`: An object of the `Checkpoint` class with appropriate `save_per_iter` value which is after how many iterations, the model will be saved\n",
    "- `evaluate_per_epoch`: After how many epochs the model will be evaluated\n",
    "- `save_per_epoch`: After how many epochs the model will be checkpointed"
   ]
  },
  {
   "cell_type": "code",
   "execution_count": 163,
   "id": "34295e4e",
   "metadata": {},
   "outputs": [],
   "source": [
    "num_epochs = 100 # set number of epochs to train the model for\n",
    "save_per_iter = 1000 # set the number of iterations after which the model will be saved while training\n",
    "evaluate_per_epoch = 2 # set the number of epochs after which the model will be evaluated\n",
    "save_per_epoch = 1 # set the number of epochs after which the model will be saved"
   ]
  },
  {
   "cell_type": "code",
   "execution_count": 164,
   "id": "307f8a12",
   "metadata": {},
   "outputs": [],
   "source": [
    "num_iters = (num_epochs+1) * len(trainloader)\n",
    "checkpoint = Checkpoint(save_per_epoch= save_per_epoch)\n",
    "loss_list_train = [] # A list of training loss\n",
    "loss_list_eval = [] # A list of evaluation loss\n",
    "best_value = 0\n",
    "iters = 0"
   ]
  },
  {
   "cell_type": "markdown",
   "id": "9b9e85b8",
   "metadata": {},
   "source": [
    "I use a hack, I download a pretrained model without RPE and copy it's weight to start off at a better position."
   ]
  },
  {
   "cell_type": "code",
   "execution_count": 165,
   "id": "940efe97",
   "metadata": {},
   "outputs": [],
   "source": [
    "# UNNECESSARY\n",
    "# pretrained_model_path = '/Users/rishideychowdhury/Desktop/Joint-Embedding/Models/TERN_best.pth'\n",
    "# pretrained_model = torch.load(pretrained_model_path, map_location=device)['model']"
   ]
  },
  {
   "cell_type": "code",
   "execution_count": 167,
   "id": "223f5abd",
   "metadata": {},
   "outputs": [],
   "source": [
    "# with torch.no_grad():\n",
    "#   model_dict = model.model.state_dict()\n",
    "#   pretrained_dict = {k: v for k, v in pretrained_model.items() if k in model_dict}\n",
    "#   for key in model.model.state_dict():\n",
    "#     if key not in pretrained_dict:\n",
    "#       pretrained_dict[key] = model.model.state_dict()[key]\n",
    "#   model.model.load_state_dict(pretrained_dict)"
   ]
  },
  {
   "cell_type": "markdown",
   "id": "937b6d5a",
   "metadata": {},
   "source": [
    "`training_epoch` decides what will be done in every epoch of training."
   ]
  },
  {
   "cell_type": "code",
   "execution_count": 168,
   "id": "4ac6006b",
   "metadata": {},
   "outputs": [],
   "source": [
    "def training_epoch(epoch):\n",
    "  running_loss = 0 # calculates the loss for overall one training epoch\n",
    "  model.model.train() # set the model in training mode\n",
    "\n",
    "  model.optimizer.zero_grad() # zeroes out the grad for the optimizer\n",
    "\n",
    "  start_time = time.time() # tracks the time taken to complete one batch procesing\n",
    "  \n",
    "  for idx, batch in enumerate(tqdm(trainloader)):\n",
    "    train_loss = model.training_step(batch)['T'] # makes one forward pass through the model\n",
    "    train_loss.backward() # compute the gradients\n",
    "    model.optimizer.step() # update model parameters\n",
    "    # model.scheduler.step(epoch + idx / len(trainloader)) # update optimizer parameters\n",
    "    running_loss += train_loss.item() # Adds the batch loss to the running loss\n",
    "    # loss_list_train.append(train_loss.item()) # appends the loss to the list maintaining training loss\n",
    "  \n",
    "  with torch.no_grad():\n",
    "    end_time = time.time()\n",
    "    running_time = end_time - start_time # Time taken for one epoch\n",
    "    running_loss /= (len(trainloader)*trainloader_args['batch_size'])\n",
    "    iters = len(trainloader)*(epoch+1) # Number of iters covered in one epoch\n",
    "    print(\"Epochs: [{}|{}] || Iterations: [{}|{}] || Loss: {} || Time: {:10.4f}s\".format(epoch, num_epochs, iters, num_iters, running_loss, running_time))\n",
    "\n",
    "    if (epoch % checkpoint.save_per_epoch == 0 or epoch == num_epochs - 1):\n",
    "      print(f'Save model at [{epoch}|{num_epochs}] to last.pth')\n",
    "      checkpoint.save(model, epoch = epoch, iters = iters)"
   ]
  },
  {
   "cell_type": "code",
   "execution_count": 169,
   "id": "85f24fb9",
   "metadata": {},
   "outputs": [],
   "source": [
    "def evaluate_epoch(epoch, best_value):\n",
    "  model.model.eval() # setting model to evaluate mode\n",
    "  with torch.no_grad():\n",
    "    running_loss = 0\n",
    "    metric_dict = {} # stores the values of the metric\n",
    "    print('=============================EVALUATION===================================')\n",
    "    start_time = time.time()\n",
    "    for batch in tqdm(valloader):\n",
    "      eval_loss = model.evaluate_step(batch)['T'] # does one forward pass through the model\n",
    "      running_loss += eval_loss.item()\n",
    "      # loss_list_eval.append(eval_loss) # appends the evaluation loss to the list of evaluation loss\n",
    "\n",
    "    end_time = time.time()\n",
    "    running_time = end_time - start_time\n",
    "    running_loss /= (len(valloader)*valloader_args['batch_size'])\n",
    "    metric_dict = model.get_metric_values() # gets the metric values based on updated model parameters\n",
    "    model.reset_metrics() # resets the metric values\n",
    "\n",
    "    print()\n",
    "    print(\"Epochs: [{}|{}] || Loss: {} || Time: {:10.4f} s\".format(epoch, num_epochs, running_loss, running_time))\n",
    "\n",
    "    for metric, score in metric_dict.items():\n",
    "      print(metric +': ' + str(score), end = ' | ')\n",
    "    print()\n",
    "    print('==========================================================================')\n",
    "\n",
    "  # Save model gives best average R@10 score\n",
    "  if metric_dict['t2i/R@10'] > best_value:\n",
    "    best_value = metric_dict['t2i/R@10']\n",
    "    checkpoint.save(model, save_mode = 'best', epoch = epoch, iters = iters)\n",
    "    return best_value\n",
    "  return best_value\n"
   ]
  },
  {
   "cell_type": "markdown",
   "id": "909ed0ca",
   "metadata": {},
   "source": [
    "Since, we are loading a pretrained model, we expect a good retrieval performance right out of the box. Let's validate that below."
   ]
  },
  {
   "cell_type": "code",
   "execution_count": 170,
   "id": "72c91137",
   "metadata": {},
   "outputs": [
    {
     "name": "stdout",
     "output_type": "stream",
     "text": [
      "=============================EVALUATION===================================\n"
     ]
    },
    {
     "name": "stderr",
     "output_type": "stream",
     "text": [
      "  0%|                                                     | 0/8 [00:00<?, ?it/s]/Users/rishideychowdhury/Desktop/Joint-Embedding/env/lib/python3.8/site-packages/pytorch_metric_learning/utils/loss_and_miner_utils.py:50: UserWarning: The operator 'aten::nonzero' is not currently supported on the MPS backend and will fall back to run on the CPU. This may have performance implications. (Triggered internally at /Users/runner/work/_temp/anaconda/conda-bld/pytorch_1665731529781/work/aten/src/ATen/mps/MPSFallback.mm:11.)\n",
      "  a1_idx, p_idx = torch.where(matches)\n",
      "100%|█████████████████████████████████████████████| 8/8 [00:07<00:00,  1.08it/s]\n"
     ]
    },
    {
     "name": "stdout",
     "output_type": "stream",
     "text": [
      "Extracting features...\n"
     ]
    },
    {
     "name": "stderr",
     "output_type": "stream",
     "text": [
      "100%|█████████████████████████████████████████████| 8/8 [00:02<00:00,  3.58it/s]\n",
      "100%|███████████████████████████████████████████| 40/40 [00:03<00:00, 10.54it/s]\n"
     ]
    },
    {
     "name": "stdout",
     "output_type": "stream",
     "text": [
      "Calculating distance matrice...\n",
      "Saving retrieval results...\n",
      "Calculating distance matrice...\n",
      "Saving retrieval results...\n",
      "\n",
      "Epochs: [0|100] || Loss: 0.008824946940876544 || Time:     7.4528 s\n",
      "i2t/R@1: 0.0002 | i2t/R@5: 0.0008 | i2t/R@10: 0.002 | t2i/R@1: 0.0012 | t2i/R@5: 0.0049 | t2i/R@10: 0.0094 | \n",
      "==========================================================================\n"
     ]
    },
    {
     "data": {
      "text/plain": [
       "0.0094"
      ]
     },
     "execution_count": 170,
     "metadata": {},
     "output_type": "execute_result"
    }
   ],
   "source": [
    "# For original TERN model it was interesting for RPE infused TERN it is not needed\n",
    "# evaluate_epoch(0, 0)"
   ]
  },
  {
   "cell_type": "markdown",
   "id": "b89f7f11",
   "metadata": {},
   "source": [
    "Start Training"
   ]
  },
  {
   "cell_type": "code",
   "execution_count": 171,
   "id": "681ecf52",
   "metadata": {},
   "outputs": [
    {
     "name": "stdout",
     "output_type": "stream",
     "text": [
      "##########   MODEL INFO   ##########\n",
      "Model name: TERN\n",
      "Number of trainable parameters:  26988160\n",
      "Training iterations per epoch: 227\n",
      "Validating iterations per epoch: 8\n"
     ]
    }
   ],
   "source": [
    "s0 =  \"##########   MODEL INFO   ##########\"\n",
    "s1 = \"Model name: \" + model.model_name\n",
    "s2 = f\"Number of trainable parameters:  {model.trainable_parameters()}\"\n",
    "s5 = \"Training iterations per epoch: \" + str(len(trainloader))\n",
    "s6 = \"Validating iterations per epoch: \" + str(len(valloader))\n",
    "print(\"\\n\".join([s0,s1,s2,s5,s6]))"
   ]
  },
  {
   "cell_type": "code",
   "execution_count": null,
   "id": "a3b045ab",
   "metadata": {},
   "outputs": [
    {
     "name": "stdout",
     "output_type": "stream",
     "text": [
      "===========================START TRAINING=================================\n"
     ]
    },
    {
     "name": "stderr",
     "output_type": "stream",
     "text": [
      "100%|█████████████████████████████████████████| 227/227 [04:05<00:00,  1.08s/it]\n"
     ]
    },
    {
     "name": "stdout",
     "output_type": "stream",
     "text": [
      "Epochs: [0|100] || Iterations: [227|22927] || Loss: 0.008545303450577323 || Time:   245.6294s\n",
      "Save model at [0|100] to last.pth\n"
     ]
    },
    {
     "name": "stderr",
     "output_type": "stream",
     "text": [
      "100%|█████████████████████████████████████████| 227/227 [04:06<00:00,  1.09s/it]\n"
     ]
    },
    {
     "name": "stdout",
     "output_type": "stream",
     "text": [
      "Epochs: [1|100] || Iterations: [454|22927] || Loss: 0.0071815456538604746 || Time:   246.4145s\n",
      "Save model at [1|100] to last.pth\n"
     ]
    },
    {
     "name": "stderr",
     "output_type": "stream",
     "text": [
      "100%|█████████████████████████████████████████| 227/227 [04:05<00:00,  1.08s/it]\n"
     ]
    },
    {
     "name": "stdout",
     "output_type": "stream",
     "text": [
      "Epochs: [2|100] || Iterations: [681|22927] || Loss: 0.007345579587136465 || Time:   245.7583s\n",
      "Save model at [2|100] to last.pth\n",
      "=============================EVALUATION===================================\n"
     ]
    },
    {
     "name": "stderr",
     "output_type": "stream",
     "text": [
      "100%|█████████████████████████████████████████████| 8/8 [00:07<00:00,  1.14it/s]\n"
     ]
    },
    {
     "name": "stdout",
     "output_type": "stream",
     "text": [
      "Extracting features...\n"
     ]
    },
    {
     "name": "stderr",
     "output_type": "stream",
     "text": [
      "100%|█████████████████████████████████████████████| 8/8 [00:02<00:00,  3.46it/s]\n",
      "100%|███████████████████████████████████████████| 40/40 [00:03<00:00, 10.62it/s]\n"
     ]
    },
    {
     "name": "stdout",
     "output_type": "stream",
     "text": [
      "Calculating distance matrice...\n",
      "Saving retrieval results...\n",
      "Calculating distance matrice...\n",
      "Saving retrieval results...\n",
      "\n",
      "Epochs: [2|100] || Loss: 0.0073488387279212475 || Time:     7.0121 s\n",
      "i2t/R@1: 0.0014 | i2t/R@5: 0.0069 | i2t/R@10: 0.0148 | t2i/R@1: 0.0057 | t2i/R@5: 0.026 | t2i/R@10: 0.0519 | \n",
      "==========================================================================\n"
     ]
    },
    {
     "name": "stderr",
     "output_type": "stream",
     "text": [
      "100%|█████████████████████████████████████████| 227/227 [04:04<00:00,  1.08s/it]\n"
     ]
    },
    {
     "name": "stdout",
     "output_type": "stream",
     "text": [
      "Epochs: [3|100] || Iterations: [908|22927] || Loss: 0.006798981375056873 || Time:   244.2464s\n",
      "Save model at [3|100] to last.pth\n"
     ]
    },
    {
     "name": "stderr",
     "output_type": "stream",
     "text": [
      "100%|█████████████████████████████████████████| 227/227 [04:02<00:00,  1.07s/it]\n"
     ]
    },
    {
     "name": "stdout",
     "output_type": "stream",
     "text": [
      "Epochs: [4|100] || Iterations: [1135|22927] || Loss: 0.006703495827507605 || Time:   242.3094s\n",
      "Save model at [4|100] to last.pth\n",
      "=============================EVALUATION===================================\n"
     ]
    },
    {
     "name": "stderr",
     "output_type": "stream",
     "text": [
      "100%|█████████████████████████████████████████████| 8/8 [00:06<00:00,  1.16it/s]\n"
     ]
    },
    {
     "name": "stdout",
     "output_type": "stream",
     "text": [
      "Extracting features...\n"
     ]
    },
    {
     "name": "stderr",
     "output_type": "stream",
     "text": [
      "100%|█████████████████████████████████████████████| 8/8 [00:02<00:00,  3.44it/s]\n",
      "100%|███████████████████████████████████████████| 40/40 [00:03<00:00, 10.62it/s]\n"
     ]
    },
    {
     "name": "stdout",
     "output_type": "stream",
     "text": [
      "Calculating distance matrice...\n",
      "Saving retrieval results...\n",
      "Calculating distance matrice...\n",
      "Saving retrieval results...\n",
      "\n",
      "Epochs: [4|100] || Loss: 0.0066223982139490545 || Time:     6.9219 s\n",
      "i2t/R@1: 0.0037 | i2t/R@5: 0.0221 | i2t/R@10: 0.042 | t2i/R@1: 0.0133 | t2i/R@5: 0.0591 | t2i/R@10: 0.1092 | \n",
      "==========================================================================\n"
     ]
    },
    {
     "name": "stderr",
     "output_type": "stream",
     "text": [
      "100%|█████████████████████████████████████████| 227/227 [04:02<00:00,  1.07s/it]\n"
     ]
    },
    {
     "name": "stdout",
     "output_type": "stream",
     "text": [
      "Epochs: [5|100] || Iterations: [1362|22927] || Loss: 0.006427649902959358 || Time:   242.6995s\n",
      "Save model at [5|100] to last.pth\n"
     ]
    },
    {
     "name": "stderr",
     "output_type": "stream",
     "text": [
      "100%|█████████████████████████████████████████| 227/227 [04:00<00:00,  1.06s/it]\n"
     ]
    },
    {
     "name": "stdout",
     "output_type": "stream",
     "text": [
      "Epochs: [6|100] || Iterations: [1589|22927] || Loss: 0.006283469748424801 || Time:   240.7193s\n",
      "Save model at [6|100] to last.pth\n",
      "=============================EVALUATION===================================\n"
     ]
    },
    {
     "name": "stderr",
     "output_type": "stream",
     "text": [
      "100%|█████████████████████████████████████████████| 8/8 [00:06<00:00,  1.16it/s]\n"
     ]
    },
    {
     "name": "stdout",
     "output_type": "stream",
     "text": [
      "Extracting features...\n"
     ]
    },
    {
     "name": "stderr",
     "output_type": "stream",
     "text": [
      "100%|█████████████████████████████████████████████| 8/8 [00:02<00:00,  3.38it/s]\n",
      "100%|███████████████████████████████████████████| 40/40 [00:03<00:00, 10.35it/s]\n"
     ]
    },
    {
     "name": "stdout",
     "output_type": "stream",
     "text": [
      "Calculating distance matrice...\n",
      "Saving retrieval results...\n",
      "Calculating distance matrice...\n",
      "Saving retrieval results...\n",
      "\n",
      "Epochs: [6|100] || Loss: 0.0062750582583248615 || Time:     6.9063 s\n",
      "i2t/R@1: 0.0091 | i2t/R@5: 0.041 | i2t/R@10: 0.0771 | t2i/R@1: 0.0244 | t2i/R@5: 0.1 | t2i/R@10: 0.1647 | \n",
      "==========================================================================\n"
     ]
    },
    {
     "name": "stderr",
     "output_type": "stream",
     "text": [
      "100%|█████████████████████████████████████████| 227/227 [03:58<00:00,  1.05s/it]\n"
     ]
    },
    {
     "name": "stdout",
     "output_type": "stream",
     "text": [
      "Epochs: [7|100] || Iterations: [1816|22927] || Loss: 0.006022990164285452 || Time:   238.1123s\n",
      "Save model at [7|100] to last.pth\n"
     ]
    },
    {
     "name": "stderr",
     "output_type": "stream",
     "text": [
      "100%|█████████████████████████████████████████| 227/227 [03:58<00:00,  1.05s/it]\n"
     ]
    },
    {
     "name": "stdout",
     "output_type": "stream",
     "text": [
      "Epochs: [8|100] || Iterations: [2043|22927] || Loss: 0.005964310419241106 || Time:   238.4451s\n",
      "Save model at [8|100] to last.pth\n",
      "=============================EVALUATION===================================\n"
     ]
    },
    {
     "name": "stderr",
     "output_type": "stream",
     "text": [
      "100%|█████████████████████████████████████████████| 8/8 [00:06<00:00,  1.19it/s]\n"
     ]
    },
    {
     "name": "stdout",
     "output_type": "stream",
     "text": [
      "Extracting features...\n"
     ]
    },
    {
     "name": "stderr",
     "output_type": "stream",
     "text": [
      "100%|█████████████████████████████████████████████| 8/8 [00:02<00:00,  3.37it/s]\n",
      "100%|███████████████████████████████████████████| 40/40 [00:03<00:00, 10.62it/s]\n"
     ]
    },
    {
     "name": "stdout",
     "output_type": "stream",
     "text": [
      "Calculating distance matrice...\n",
      "Saving retrieval results...\n",
      "Calculating distance matrice...\n",
      "Saving retrieval results...\n",
      "\n",
      "Epochs: [8|100] || Loss: 0.00589147926075384 || Time:     6.7189 s\n",
      "i2t/R@1: 0.0221 | i2t/R@5: 0.0821 | i2t/R@10: 0.1321 | t2i/R@1: 0.0551 | t2i/R@5: 0.1807 | t2i/R@10: 0.2719 | \n",
      "==========================================================================\n"
     ]
    },
    {
     "name": "stderr",
     "output_type": "stream",
     "text": [
      "100%|█████████████████████████████████████████| 227/227 [03:57<00:00,  1.05s/it]\n"
     ]
    },
    {
     "name": "stdout",
     "output_type": "stream",
     "text": [
      "Epochs: [9|100] || Iterations: [2270|22927] || Loss: 0.005828573551061789 || Time:   237.3546s\n",
      "Save model at [9|100] to last.pth\n"
     ]
    },
    {
     "name": "stderr",
     "output_type": "stream",
     "text": [
      "100%|█████████████████████████████████████████| 227/227 [03:56<00:00,  1.04s/it]\n"
     ]
    },
    {
     "name": "stdout",
     "output_type": "stream",
     "text": [
      "Epochs: [10|100] || Iterations: [2497|22927] || Loss: 0.005778756288048454 || Time:   236.9402s\n",
      "Save model at [10|100] to last.pth\n",
      "=============================EVALUATION===================================\n"
     ]
    },
    {
     "name": "stderr",
     "output_type": "stream",
     "text": [
      "100%|█████████████████████████████████████████████| 8/8 [00:06<00:00,  1.15it/s]\n"
     ]
    },
    {
     "name": "stdout",
     "output_type": "stream",
     "text": [
      "Extracting features...\n"
     ]
    },
    {
     "name": "stderr",
     "output_type": "stream",
     "text": [
      "100%|█████████████████████████████████████████████| 8/8 [00:02<00:00,  3.36it/s]\n",
      "100%|███████████████████████████████████████████| 40/40 [00:03<00:00, 10.31it/s]\n"
     ]
    },
    {
     "name": "stdout",
     "output_type": "stream",
     "text": [
      "Calculating distance matrice...\n",
      "Saving retrieval results...\n",
      "Calculating distance matrice...\n",
      "Saving retrieval results...\n",
      "\n",
      "Epochs: [10|100] || Loss: 0.005859061260707676 || Time:     6.9491 s\n",
      "i2t/R@1: 0.0221 | i2t/R@5: 0.0976 | i2t/R@10: 0.1507 | t2i/R@1: 0.0679 | t2i/R@5: 0.2083 | t2i/R@10: 0.3108 | \n",
      "==========================================================================\n"
     ]
    },
    {
     "name": "stderr",
     "output_type": "stream",
     "text": [
      "100%|█████████████████████████████████████████| 227/227 [03:55<00:00,  1.04s/it]\n"
     ]
    },
    {
     "name": "stdout",
     "output_type": "stream",
     "text": [
      "Epochs: [11|100] || Iterations: [2724|22927] || Loss: 0.005666881418142812 || Time:   235.5989s\n",
      "Save model at [11|100] to last.pth\n"
     ]
    },
    {
     "name": "stderr",
     "output_type": "stream",
     "text": [
      "100%|█████████████████████████████████████████| 227/227 [03:53<00:00,  1.03s/it]\n"
     ]
    },
    {
     "name": "stdout",
     "output_type": "stream",
     "text": [
      "Epochs: [12|100] || Iterations: [2951|22927] || Loss: 0.005556908665873143 || Time:   233.1695s\n",
      "Save model at [12|100] to last.pth\n",
      "=============================EVALUATION===================================\n"
     ]
    },
    {
     "name": "stderr",
     "output_type": "stream",
     "text": [
      "100%|█████████████████████████████████████████████| 8/8 [00:07<00:00,  1.11it/s]\n"
     ]
    },
    {
     "name": "stdout",
     "output_type": "stream",
     "text": [
      "Extracting features...\n"
     ]
    },
    {
     "name": "stderr",
     "output_type": "stream",
     "text": [
      "100%|█████████████████████████████████████████████| 8/8 [00:02<00:00,  3.40it/s]\n",
      "100%|███████████████████████████████████████████| 40/40 [00:03<00:00, 10.12it/s]\n"
     ]
    },
    {
     "name": "stdout",
     "output_type": "stream",
     "text": [
      "Calculating distance matrice...\n",
      "Saving retrieval results...\n",
      "Calculating distance matrice...\n",
      "Saving retrieval results...\n",
      "\n",
      "Epochs: [12|100] || Loss: 0.005734289588872343 || Time:     7.1856 s\n",
      "i2t/R@1: 0.032 | i2t/R@5: 0.1205 | i2t/R@10: 0.1968 | t2i/R@1: 0.0959 | t2i/R@5: 0.2637 | t2i/R@10: 0.3668 | \n",
      "==========================================================================\n"
     ]
    },
    {
     "name": "stderr",
     "output_type": "stream",
     "text": [
      "100%|█████████████████████████████████████████| 227/227 [03:51<00:00,  1.02s/it]\n"
     ]
    },
    {
     "name": "stdout",
     "output_type": "stream",
     "text": [
      "Epochs: [13|100] || Iterations: [3178|22927] || Loss: 0.005370083804517196 || Time:   231.7230s\n",
      "Save model at [13|100] to last.pth\n"
     ]
    },
    {
     "name": "stderr",
     "output_type": "stream",
     "text": [
      "100%|█████████████████████████████████████████| 227/227 [03:53<00:00,  1.03s/it]\n"
     ]
    },
    {
     "name": "stdout",
     "output_type": "stream",
     "text": [
      "Epochs: [14|100] || Iterations: [3405|22927] || Loss: 0.005367717459502461 || Time:   233.8511s\n",
      "Save model at [14|100] to last.pth\n",
      "=============================EVALUATION===================================\n"
     ]
    },
    {
     "name": "stderr",
     "output_type": "stream",
     "text": [
      "100%|█████████████████████████████████████████████| 8/8 [00:07<00:00,  1.11it/s]\n"
     ]
    },
    {
     "name": "stdout",
     "output_type": "stream",
     "text": [
      "Extracting features...\n"
     ]
    },
    {
     "name": "stderr",
     "output_type": "stream",
     "text": [
      "100%|█████████████████████████████████████████████| 8/8 [00:02<00:00,  3.34it/s]\n",
      "100%|███████████████████████████████████████████| 40/40 [00:03<00:00, 10.22it/s]\n"
     ]
    },
    {
     "name": "stdout",
     "output_type": "stream",
     "text": [
      "Calculating distance matrice...\n",
      "Saving retrieval results...\n",
      "Calculating distance matrice...\n",
      "Saving retrieval results...\n",
      "\n",
      "Epochs: [14|100] || Loss: 0.00547248829388991 || Time:     7.2226 s\n",
      "i2t/R@1: 0.0393 | i2t/R@5: 0.1475 | i2t/R@10: 0.228 | t2i/R@1: 0.1185 | t2i/R@5: 0.3204 | t2i/R@10: 0.434 | \n",
      "==========================================================================\n"
     ]
    },
    {
     "name": "stderr",
     "output_type": "stream",
     "text": [
      "100%|█████████████████████████████████████████| 227/227 [03:54<00:00,  1.03s/it]\n"
     ]
    },
    {
     "name": "stdout",
     "output_type": "stream",
     "text": [
      "Epochs: [15|100] || Iterations: [3632|22927] || Loss: 0.005273329543302631 || Time:   234.3009s\n",
      "Save model at [15|100] to last.pth\n"
     ]
    },
    {
     "name": "stderr",
     "output_type": "stream",
     "text": [
      "100%|█████████████████████████████████████████| 227/227 [03:51<00:00,  1.02s/it]\n"
     ]
    },
    {
     "name": "stdout",
     "output_type": "stream",
     "text": [
      "Epochs: [16|100] || Iterations: [3859|22927] || Loss: 0.005317122125710947 || Time:   231.8635s\n",
      "Save model at [16|100] to last.pth\n",
      "=============================EVALUATION===================================\n"
     ]
    },
    {
     "name": "stderr",
     "output_type": "stream",
     "text": [
      "100%|█████████████████████████████████████████████| 8/8 [00:07<00:00,  1.13it/s]\n"
     ]
    },
    {
     "name": "stdout",
     "output_type": "stream",
     "text": [
      "Extracting features...\n"
     ]
    },
    {
     "name": "stderr",
     "output_type": "stream",
     "text": [
      "100%|█████████████████████████████████████████████| 8/8 [00:02<00:00,  3.39it/s]\n",
      "100%|███████████████████████████████████████████| 40/40 [00:03<00:00, 10.25it/s]\n"
     ]
    },
    {
     "name": "stdout",
     "output_type": "stream",
     "text": [
      "Calculating distance matrice...\n",
      "Saving retrieval results...\n",
      "Calculating distance matrice...\n",
      "Saving retrieval results...\n",
      "\n",
      "Epochs: [16|100] || Loss: 0.005410884623415768 || Time:     7.0626 s\n",
      "i2t/R@1: 0.0495 | i2t/R@5: 0.1744 | i2t/R@10: 0.2708 | t2i/R@1: 0.1419 | t2i/R@5: 0.3654 | t2i/R@10: 0.4789 | \n",
      "==========================================================================\n"
     ]
    },
    {
     "name": "stderr",
     "output_type": "stream",
     "text": [
      "100%|█████████████████████████████████████████| 227/227 [03:50<00:00,  1.01s/it]\n"
     ]
    },
    {
     "name": "stdout",
     "output_type": "stream",
     "text": [
      "Epochs: [17|100] || Iterations: [4086|22927] || Loss: 0.005167610305340936 || Time:   230.3118s\n",
      "Save model at [17|100] to last.pth\n"
     ]
    },
    {
     "name": "stderr",
     "output_type": "stream",
     "text": [
      "100%|█████████████████████████████████████████| 227/227 [03:48<00:00,  1.01s/it]\n"
     ]
    },
    {
     "name": "stdout",
     "output_type": "stream",
     "text": [
      "Epochs: [18|100] || Iterations: [4313|22927] || Loss: 0.005162250658800817 || Time:   228.7104s\n",
      "Save model at [18|100] to last.pth\n",
      "=============================EVALUATION===================================\n"
     ]
    },
    {
     "name": "stderr",
     "output_type": "stream",
     "text": [
      "100%|█████████████████████████████████████████████| 8/8 [00:06<00:00,  1.22it/s]\n"
     ]
    },
    {
     "name": "stdout",
     "output_type": "stream",
     "text": [
      "Extracting features...\n"
     ]
    },
    {
     "name": "stderr",
     "output_type": "stream",
     "text": [
      "100%|█████████████████████████████████████████████| 8/8 [00:02<00:00,  3.38it/s]\n",
      "100%|███████████████████████████████████████████| 40/40 [00:03<00:00, 10.47it/s]\n"
     ]
    },
    {
     "name": "stdout",
     "output_type": "stream",
     "text": [
      "Calculating distance matrice...\n",
      "Saving retrieval results...\n",
      "Calculating distance matrice...\n",
      "Saving retrieval results...\n",
      "\n",
      "Epochs: [18|100] || Loss: 0.005494833341799676 || Time:     6.5592 s\n",
      "i2t/R@1: 0.0452 | i2t/R@5: 0.17 | i2t/R@10: 0.2698 | t2i/R@1: 0.1425 | t2i/R@5: 0.3577 | t2i/R@10: 0.4866 | \n",
      "==========================================================================\n"
     ]
    },
    {
     "name": "stderr",
     "output_type": "stream",
     "text": [
      "100%|█████████████████████████████████████████| 227/227 [03:48<00:00,  1.01s/it]\n"
     ]
    },
    {
     "name": "stdout",
     "output_type": "stream",
     "text": [
      "Epochs: [19|100] || Iterations: [4540|22927] || Loss: 0.005192117127569368 || Time:   228.6507s\n",
      "Save model at [19|100] to last.pth\n"
     ]
    },
    {
     "name": "stderr",
     "output_type": "stream",
     "text": [
      "100%|█████████████████████████████████████████| 227/227 [03:49<00:00,  1.01s/it]\n"
     ]
    },
    {
     "name": "stdout",
     "output_type": "stream",
     "text": [
      "Epochs: [20|100] || Iterations: [4767|22927] || Loss: 0.005072780655048755 || Time:   229.6085s\n",
      "Save model at [20|100] to last.pth\n",
      "=============================EVALUATION===================================\n"
     ]
    },
    {
     "name": "stderr",
     "output_type": "stream",
     "text": [
      "100%|█████████████████████████████████████████████| 8/8 [00:06<00:00,  1.24it/s]\n"
     ]
    },
    {
     "name": "stdout",
     "output_type": "stream",
     "text": [
      "Extracting features...\n"
     ]
    },
    {
     "name": "stderr",
     "output_type": "stream",
     "text": [
      "100%|█████████████████████████████████████████████| 8/8 [00:02<00:00,  3.44it/s]\n",
      "100%|███████████████████████████████████████████| 40/40 [00:03<00:00, 10.70it/s]\n"
     ]
    },
    {
     "name": "stdout",
     "output_type": "stream",
     "text": [
      "Calculating distance matrice...\n",
      "Saving retrieval results...\n",
      "Calculating distance matrice...\n",
      "Saving retrieval results...\n",
      "\n",
      "Epochs: [20|100] || Loss: 0.00531741016311571 || Time:     6.4546 s\n",
      "i2t/R@1: 0.0596 | i2t/R@5: 0.2043 | i2t/R@10: 0.3079 | t2i/R@1: 0.1712 | t2i/R@5: 0.4072 | t2i/R@10: 0.5227 | \n",
      "==========================================================================\n"
     ]
    },
    {
     "name": "stderr",
     "output_type": "stream",
     "text": [
      "100%|█████████████████████████████████████████| 227/227 [03:48<00:00,  1.00s/it]\n"
     ]
    },
    {
     "name": "stdout",
     "output_type": "stream",
     "text": [
      "Epochs: [21|100] || Iterations: [4994|22927] || Loss: 0.005017422748901902 || Time:   228.1348s\n",
      "Save model at [21|100] to last.pth\n"
     ]
    },
    {
     "name": "stderr",
     "output_type": "stream",
     "text": [
      "100%|█████████████████████████████████████████| 227/227 [03:48<00:00,  1.01s/it]\n"
     ]
    },
    {
     "name": "stdout",
     "output_type": "stream",
     "text": [
      "Epochs: [22|100] || Iterations: [5221|22927] || Loss: 0.005036566548033039 || Time:   228.6738s\n",
      "Save model at [22|100] to last.pth\n",
      "=============================EVALUATION===================================\n"
     ]
    },
    {
     "name": "stderr",
     "output_type": "stream",
     "text": [
      "100%|█████████████████████████████████████████████| 8/8 [00:06<00:00,  1.15it/s]\n"
     ]
    },
    {
     "name": "stdout",
     "output_type": "stream",
     "text": [
      "Extracting features...\n"
     ]
    },
    {
     "name": "stderr",
     "output_type": "stream",
     "text": [
      "100%|█████████████████████████████████████████████| 8/8 [00:02<00:00,  3.45it/s]\n",
      "100%|███████████████████████████████████████████| 40/40 [00:03<00:00, 10.34it/s]\n"
     ]
    },
    {
     "name": "stdout",
     "output_type": "stream",
     "text": [
      "Calculating distance matrice...\n",
      "Saving retrieval results...\n",
      "Calculating distance matrice...\n",
      "Saving retrieval results...\n",
      "\n",
      "Epochs: [22|100] || Loss: 0.00528099958319217 || Time:     6.9577 s\n",
      "i2t/R@1: 0.0631 | i2t/R@5: 0.2231 | i2t/R@10: 0.327 | t2i/R@1: 0.1864 | t2i/R@5: 0.4244 | t2i/R@10: 0.5461 | \n",
      "==========================================================================\n"
     ]
    },
    {
     "name": "stderr",
     "output_type": "stream",
     "text": [
      "100%|█████████████████████████████████████████| 227/227 [03:53<00:00,  1.03s/it]\n"
     ]
    },
    {
     "name": "stdout",
     "output_type": "stream",
     "text": [
      "Epochs: [23|100] || Iterations: [5448|22927] || Loss: 0.00494692252235003 || Time:   233.3238s\n",
      "Save model at [23|100] to last.pth\n"
     ]
    },
    {
     "name": "stderr",
     "output_type": "stream",
     "text": [
      "100%|█████████████████████████████████████████| 227/227 [03:50<00:00,  1.02s/it]\n"
     ]
    },
    {
     "name": "stdout",
     "output_type": "stream",
     "text": [
      "Epochs: [24|100] || Iterations: [5675|22927] || Loss: 0.004984391166003922 || Time:   230.8927s\n",
      "Save model at [24|100] to last.pth\n",
      "=============================EVALUATION===================================\n"
     ]
    },
    {
     "name": "stderr",
     "output_type": "stream",
     "text": [
      "100%|█████████████████████████████████████████████| 8/8 [00:06<00:00,  1.21it/s]\n"
     ]
    },
    {
     "name": "stdout",
     "output_type": "stream",
     "text": [
      "Extracting features...\n"
     ]
    },
    {
     "name": "stderr",
     "output_type": "stream",
     "text": [
      "100%|█████████████████████████████████████████████| 8/8 [00:02<00:00,  3.45it/s]\n",
      "100%|███████████████████████████████████████████| 40/40 [00:03<00:00, 10.52it/s]\n"
     ]
    },
    {
     "name": "stdout",
     "output_type": "stream",
     "text": [
      "Calculating distance matrice...\n",
      "Saving retrieval results...\n",
      "Calculating distance matrice...\n",
      "Saving retrieval results...\n",
      "\n",
      "Epochs: [24|100] || Loss: 0.0053866616217419505 || Time:     6.6182 s\n",
      "i2t/R@1: 0.059 | i2t/R@5: 0.2221 | i2t/R@10: 0.3314 | t2i/R@1: 0.1911 | t2i/R@5: 0.4333 | t2i/R@10: 0.5587 | \n",
      "==========================================================================\n"
     ]
    },
    {
     "name": "stderr",
     "output_type": "stream",
     "text": [
      "100%|█████████████████████████████████████████| 227/227 [03:49<00:00,  1.01s/it]\n"
     ]
    },
    {
     "name": "stdout",
     "output_type": "stream",
     "text": [
      "Epochs: [25|100] || Iterations: [5902|22927] || Loss: 0.005027520706228879 || Time:   229.7381s\n",
      "Save model at [25|100] to last.pth\n"
     ]
    },
    {
     "name": "stderr",
     "output_type": "stream",
     "text": [
      "100%|█████████████████████████████████████████| 227/227 [03:52<00:00,  1.02s/it]\n"
     ]
    },
    {
     "name": "stdout",
     "output_type": "stream",
     "text": [
      "Epochs: [26|100] || Iterations: [6129|22927] || Loss: 0.004969981827235695 || Time:   232.2472s\n",
      "Save model at [26|100] to last.pth\n",
      "=============================EVALUATION===================================\n"
     ]
    },
    {
     "name": "stderr",
     "output_type": "stream",
     "text": [
      "100%|█████████████████████████████████████████████| 8/8 [00:06<00:00,  1.20it/s]\n"
     ]
    },
    {
     "name": "stdout",
     "output_type": "stream",
     "text": [
      "Extracting features...\n"
     ]
    },
    {
     "name": "stderr",
     "output_type": "stream",
     "text": [
      "100%|█████████████████████████████████████████████| 8/8 [00:02<00:00,  3.23it/s]\n",
      "100%|███████████████████████████████████████████| 40/40 [00:03<00:00, 10.27it/s]\n"
     ]
    },
    {
     "name": "stdout",
     "output_type": "stream",
     "text": [
      "Calculating distance matrice...\n",
      "Saving retrieval results...\n",
      "Calculating distance matrice...\n",
      "Saving retrieval results...\n",
      "\n",
      "Epochs: [26|100] || Loss: 0.005167762632481754 || Time:     6.6517 s\n",
      "i2t/R@1: 0.0637 | i2t/R@5: 0.2292 | i2t/R@10: 0.3483 | t2i/R@1: 0.2171 | t2i/R@5: 0.4669 | t2i/R@10: 0.5858 | \n",
      "==========================================================================\n"
     ]
    },
    {
     "name": "stderr",
     "output_type": "stream",
     "text": [
      "100%|█████████████████████████████████████████| 227/227 [03:55<00:00,  1.04s/it]\n"
     ]
    },
    {
     "name": "stdout",
     "output_type": "stream",
     "text": [
      "Epochs: [27|100] || Iterations: [6356|22927] || Loss: 0.0049177387540560984 || Time:   235.9434s\n",
      "Save model at [27|100] to last.pth\n"
     ]
    },
    {
     "name": "stderr",
     "output_type": "stream",
     "text": [
      "100%|█████████████████████████████████████████| 227/227 [03:54<00:00,  1.03s/it]\n"
     ]
    },
    {
     "name": "stdout",
     "output_type": "stream",
     "text": [
      "Epochs: [28|100] || Iterations: [6583|22927] || Loss: 0.0049010740966425334 || Time:   234.7072s\n",
      "Save model at [28|100] to last.pth\n",
      "=============================EVALUATION===================================\n"
     ]
    },
    {
     "name": "stderr",
     "output_type": "stream",
     "text": [
      "100%|█████████████████████████████████████████████| 8/8 [00:06<00:00,  1.20it/s]\n"
     ]
    },
    {
     "name": "stdout",
     "output_type": "stream",
     "text": [
      "Extracting features...\n"
     ]
    },
    {
     "name": "stderr",
     "output_type": "stream",
     "text": [
      "100%|█████████████████████████████████████████████| 8/8 [00:02<00:00,  3.38it/s]\n",
      "100%|███████████████████████████████████████████| 40/40 [00:03<00:00, 10.61it/s]\n"
     ]
    },
    {
     "name": "stdout",
     "output_type": "stream",
     "text": [
      "Calculating distance matrice...\n",
      "Saving retrieval results...\n",
      "Calculating distance matrice...\n",
      "Saving retrieval results...\n",
      "\n",
      "Epochs: [28|100] || Loss: 0.00520968675846234 || Time:     6.6443 s\n",
      "i2t/R@1: 0.0688 | i2t/R@5: 0.2416 | i2t/R@10: 0.3462 | t2i/R@1: 0.2148 | t2i/R@5: 0.463 | t2i/R@10: 0.5769 | \n",
      "==========================================================================\n"
     ]
    },
    {
     "name": "stderr",
     "output_type": "stream",
     "text": [
      "100%|█████████████████████████████████████████| 227/227 [03:47<00:00,  1.00s/it]\n"
     ]
    },
    {
     "name": "stdout",
     "output_type": "stream",
     "text": [
      "Epochs: [29|100] || Iterations: [6810|22927] || Loss: 0.004887607617361168 || Time:   227.9449s\n",
      "Save model at [29|100] to last.pth\n"
     ]
    },
    {
     "name": "stderr",
     "output_type": "stream",
     "text": [
      "100%|█████████████████████████████████████████| 227/227 [03:49<00:00,  1.01s/it]\n"
     ]
    },
    {
     "name": "stdout",
     "output_type": "stream",
     "text": [
      "Epochs: [30|100] || Iterations: [7037|22927] || Loss: 0.004842377897548912 || Time:   229.0772s\n",
      "Save model at [30|100] to last.pth\n",
      "=============================EVALUATION===================================\n"
     ]
    },
    {
     "name": "stderr",
     "output_type": "stream",
     "text": [
      "100%|█████████████████████████████████████████████| 8/8 [00:06<00:00,  1.18it/s]\n"
     ]
    },
    {
     "name": "stdout",
     "output_type": "stream",
     "text": [
      "Extracting features...\n"
     ]
    },
    {
     "name": "stderr",
     "output_type": "stream",
     "text": [
      "100%|█████████████████████████████████████████████| 8/8 [00:02<00:00,  3.29it/s]\n",
      "100%|███████████████████████████████████████████| 40/40 [00:03<00:00, 10.32it/s]\n"
     ]
    },
    {
     "name": "stdout",
     "output_type": "stream",
     "text": [
      "Calculating distance matrice...\n",
      "Saving retrieval results...\n",
      "Calculating distance matrice...\n",
      "Saving retrieval results...\n",
      "\n",
      "Epochs: [30|100] || Loss: 0.005180253065191209 || Time:     6.7676 s\n",
      "i2t/R@1: 0.0694 | i2t/R@5: 0.2416 | i2t/R@10: 0.3594 | t2i/R@1: 0.2164 | t2i/R@5: 0.4712 | t2i/R@10: 0.5862 | \n",
      "==========================================================================\n"
     ]
    },
    {
     "name": "stderr",
     "output_type": "stream",
     "text": [
      "100%|█████████████████████████████████████████| 227/227 [03:55<00:00,  1.04s/it]\n"
     ]
    },
    {
     "name": "stdout",
     "output_type": "stream",
     "text": [
      "Epochs: [31|100] || Iterations: [7264|22927] || Loss: 0.0048296525787217505 || Time:   235.7898s\n",
      "Save model at [31|100] to last.pth\n"
     ]
    },
    {
     "name": "stderr",
     "output_type": "stream",
     "text": [
      "100%|█████████████████████████████████████████| 227/227 [03:52<00:00,  1.02s/it]\n"
     ]
    },
    {
     "name": "stdout",
     "output_type": "stream",
     "text": [
      "Epochs: [32|100] || Iterations: [7491|22927] || Loss: 0.004845767698377896 || Time:   232.6460s\n",
      "Save model at [32|100] to last.pth\n",
      "=============================EVALUATION===================================\n"
     ]
    },
    {
     "name": "stderr",
     "output_type": "stream",
     "text": [
      "100%|█████████████████████████████████████████████| 8/8 [00:06<00:00,  1.21it/s]\n"
     ]
    },
    {
     "name": "stdout",
     "output_type": "stream",
     "text": [
      "Extracting features...\n"
     ]
    },
    {
     "name": "stderr",
     "output_type": "stream",
     "text": [
      "100%|█████████████████████████████████████████████| 8/8 [00:02<00:00,  3.36it/s]\n",
      "100%|███████████████████████████████████████████| 40/40 [00:03<00:00, 10.46it/s]\n"
     ]
    },
    {
     "name": "stdout",
     "output_type": "stream",
     "text": [
      "Calculating distance matrice...\n",
      "Saving retrieval results...\n",
      "Calculating distance matrice...\n",
      "Saving retrieval results...\n",
      "\n",
      "Epochs: [32|100] || Loss: 0.005258885910734534 || Time:     6.6127 s\n",
      "i2t/R@1: 0.0655 | i2t/R@5: 0.2357 | i2t/R@10: 0.3507 | t2i/R@1: 0.2182 | t2i/R@5: 0.4707 | t2i/R@10: 0.5917 | \n",
      "==========================================================================\n"
     ]
    },
    {
     "name": "stderr",
     "output_type": "stream",
     "text": [
      "100%|█████████████████████████████████████████| 227/227 [03:58<00:00,  1.05s/it]\n"
     ]
    },
    {
     "name": "stdout",
     "output_type": "stream",
     "text": [
      "Epochs: [33|100] || Iterations: [7718|22927] || Loss: 0.00480537549777178 || Time:   238.3732s\n",
      "Save model at [33|100] to last.pth\n"
     ]
    },
    {
     "name": "stderr",
     "output_type": "stream",
     "text": [
      " 35%|██████████████▊                           | 80/227 [01:22<02:26,  1.00it/s]AGX: exceeded compiled variants footprint limit\n",
      "100%|█████████████████████████████████████████| 227/227 [03:54<00:00,  1.03s/it]\n"
     ]
    },
    {
     "name": "stdout",
     "output_type": "stream",
     "text": [
      "Epochs: [34|100] || Iterations: [7945|22927] || Loss: 0.0048575167942152145 || Time:   234.3362s\n",
      "Save model at [34|100] to last.pth\n",
      "=============================EVALUATION===================================\n"
     ]
    },
    {
     "name": "stderr",
     "output_type": "stream",
     "text": [
      "100%|█████████████████████████████████████████████| 8/8 [00:06<00:00,  1.17it/s]\n"
     ]
    },
    {
     "name": "stdout",
     "output_type": "stream",
     "text": [
      "Extracting features...\n"
     ]
    },
    {
     "name": "stderr",
     "output_type": "stream",
     "text": [
      "100%|█████████████████████████████████████████████| 8/8 [00:02<00:00,  3.41it/s]\n",
      "100%|███████████████████████████████████████████| 40/40 [00:03<00:00, 10.47it/s]\n"
     ]
    },
    {
     "name": "stdout",
     "output_type": "stream",
     "text": [
      "Calculating distance matrice...\n",
      "Saving retrieval results...\n",
      "Calculating distance matrice...\n",
      "Saving retrieval results...\n",
      "\n",
      "Epochs: [34|100] || Loss: 0.005366931902244687 || Time:     6.8617 s\n",
      "i2t/R@1: 0.0673 | i2t/R@5: 0.2487 | i2t/R@10: 0.354 | t2i/R@1: 0.2167 | t2i/R@5: 0.4724 | t2i/R@10: 0.5837 | \n",
      "==========================================================================\n"
     ]
    },
    {
     "name": "stderr",
     "output_type": "stream",
     "text": [
      " 93%|█████████████████████████████████████▉   | 210/227 [03:36<00:17,  1.02s/it]"
     ]
    }
   ],
   "source": [
    "print(f'===========================START TRAINING=================================')\n",
    "for epoch in range(num_epochs):\n",
    "  try:\n",
    "    training_epoch(epoch) # training epoch\n",
    "\n",
    "    if evaluate_per_epoch != 0: # evaluation epoch\n",
    "      if epoch % evaluate_per_epoch == 0 and epoch+1 >= evaluate_per_epoch:\n",
    "        best_value = evaluate_epoch(epoch, best_value)\n",
    "\n",
    "  except KeyboardInterrupt:   \n",
    "    checkpoint.save(model, epoch = epoch, iters = iters)\n",
    "    print(\"Stop training, checkpoint saved...\")\n",
    "    break\n",
    "\n",
    "print(\"Training Completed!\")"
   ]
  },
  {
   "cell_type": "markdown",
   "id": "12284781",
   "metadata": {},
   "source": [
    "### Inference"
   ]
  },
  {
   "cell_type": "markdown",
   "id": "44c47b9f",
   "metadata": {},
   "source": [
    "Intantiating the `TERN` model, with `precomp_bert=False`"
   ]
  },
  {
   "cell_type": "code",
   "execution_count": null,
   "id": "d9fcb199",
   "metadata": {},
   "outputs": [],
   "source": [
    "tern = TERN(\n",
    "  d_model=d_model,\n",
    "  d_embed=d_embed,\n",
    "  d_ff=d_ff,\n",
    "  N_v=N_v,\n",
    "  N_l=N_l,\n",
    "  heads=heads,\n",
    "  max_rel_pos=max_rel_pos,\n",
    "  dropout=dropout,\n",
    "  aggregation='mean',\n",
    "  precomp_bert=False,\n",
    "  num_sw_layers=num_sw_layers\n",
    ").to(device)"
   ]
  },
  {
   "cell_type": "markdown",
   "id": "d7ed9c3d",
   "metadata": {},
   "source": [
    "Loading the trained model"
   ]
  },
  {
   "cell_type": "code",
   "execution_count": null,
   "id": "cb791e78",
   "metadata": {},
   "outputs": [],
   "source": [
    "# model_path = '/Users/rishideychowdhury/Desktop/Joint-Embedding/TERN-RPE/weights/2022-11-03_14-37-43/TERN_last.pth'\n",
    "# load_checkpoint(tern, model_path)\n",
    "load_checkpoint(tern, pretrained_model_path)"
   ]
  },
  {
   "cell_type": "markdown",
   "id": "1baba167",
   "metadata": {},
   "source": [
    "The following are few helper function to visualize retrieval results for text to image retrieval."
   ]
  },
  {
   "cell_type": "code",
   "execution_count": null,
   "id": "9a2f0360",
   "metadata": {},
   "outputs": [],
   "source": [
    "def make_gallery_embeddings(ann_path, feat_dir, model, device):\n",
    "\n",
    "  coco = COCO(ann_path)\n",
    "  imgIds = coco.getImgIds()\n",
    "  img_infos = coco.loadImgs(imgIds)\n",
    "\n",
    "  gallery_embeddings = []\n",
    "  npy_paths = []\n",
    "  npy_loc_paths = []\n",
    "\n",
    "  for info in img_infos:\n",
    "    image_name = info['file_name']\n",
    "    npy_name = image_name[:-4]+'.npz'\n",
    "\n",
    "    npy_path = os.path.join(feat_dir, 'data_att', npy_name)\n",
    "    npy_loc_path = os.path.join(feat_dir, 'data_box', npy_name)\n",
    "\n",
    "    npy_loc_paths.append(npy_loc_path)\n",
    "    npy_paths.append(npy_path)\n",
    "\n",
    "  batch_feats = []\n",
    "  batch_loc_feats = []\n",
    "  for idx, (npy_path, npy_loc_path) in enumerate(tqdm(zip(npy_paths, npy_loc_paths))):\n",
    "    npy_feat = np.load(npy_path, mmap_mode='r')['feat']\n",
    "    npy_loc_feat = np.load(npy_loc_path, mmap_mode='r')['feat']\n",
    "\n",
    "    feats = torch.from_numpy(npy_feat).float()\n",
    "    loc_feats = torch.from_numpy(npy_loc_feat).float()\n",
    "\n",
    "    batch_feats.append(feats)\n",
    "    batch_loc_feats.append(loc_feats)\n",
    "\n",
    "    if len(batch_feats) == 32 or idx == len(npy_paths) - 1:\n",
    "\n",
    "      feats = torch.stack(batch_feats).to(device)\n",
    "      loc_feats = torch.stack(batch_loc_feats).to(device)\n",
    "\n",
    "      with torch.no_grad():\n",
    "        embedding = model.visual_forward({\n",
    "          \"feats\": feats, \n",
    "          \"loc_feats\": loc_feats})\n",
    "      embedding = embedding.cpu().detach().numpy()\n",
    "      gallery_embeddings.append(embedding)\n",
    "\n",
    "      batch_feats = []\n",
    "      batch_loc_feats = []\n",
    "\n",
    "  gallery_embeddings = np.concatenate(gallery_embeddings, axis=0)\n",
    "  return img_infos, gallery_embeddings\n",
    "\n",
    "def make_query_embeddings(text, model, device):\n",
    "  with torch.no_grad():\n",
    "    feat = model.lang_forward({\n",
    "        'texts': text\n",
    "    })\n",
    "\n",
    "  feat = feat.cpu().numpy()\n",
    "  return feat\n",
    "\n",
    "def faiss_search(faiss_pool, query_embedding, gallery_embedding, top_k=10):\n",
    "  faiss_pool.reset()\n",
    "  faiss_pool.add(gallery_embedding)\n",
    "  top_k_scores, top_k_indexes = faiss_pool.search(query_embedding, k=top_k)\n",
    "  return top_k_indexes, top_k_scores\n",
    "\n",
    "def show_retrieval(image_dir, infos, top_k_indexes, top_k_scores):\n",
    "  fig = plt.figure(figsize=(30,10))\n",
    "  for i, (index, score) in enumerate(zip(top_k_indexes[0], top_k_scores[0])):\n",
    "    image_info = infos[index]\n",
    "    image_path = os.path.join(image_dir, image_info['file_name'])\n",
    "    image = cv2.imread(image_path)\n",
    "    image = cv2.cvtColor(image, cv2.COLOR_BGR2RGB)\n",
    "\n",
    "    fig.add_subplot(2, 5, i+1)\n",
    "    plt.imshow(image)\n",
    "    plt.title(score)\n",
    "    plt.axis('off')\n",
    "\n",
    "  plt.show()"
   ]
  },
  {
   "cell_type": "code",
   "execution_count": null,
   "id": "facc66b1",
   "metadata": {},
   "outputs": [],
   "source": [
    "faiss_pool = faiss.IndexFlatIP(d_embed)"
   ]
  },
  {
   "cell_type": "markdown",
   "id": "0b5b8642",
   "metadata": {},
   "source": [
    "Set the `ann_path` below to the location from where the images are to be drawn and `feat_dir` containing the bottom_up features of these images "
   ]
  },
  {
   "cell_type": "code",
   "execution_count": null,
   "id": "59d375d3",
   "metadata": {},
   "outputs": [],
   "source": [
    "img_infos, gallery_embeddings = make_gallery_embeddings(\n",
    "    ann_path = \"/Users/rishideychowdhury/Desktop/Joint-Embedding/Data/flickr30k_annotations/val.json\", \n",
    "    feat_dir = \"/Users/rishideychowdhury/Desktop/Joint-Embedding/Data/bottom_up\",\n",
    "    model = tern, device = device)"
   ]
  },
  {
   "cell_type": "markdown",
   "id": "9907369a",
   "metadata": {},
   "source": [
    "The following `retrieve` function takes in the text query and gives the output for the retrieved images."
   ]
  },
  {
   "cell_type": "code",
   "execution_count": null,
   "id": "c76d712f",
   "metadata": {},
   "outputs": [],
   "source": [
    "def retrieve(query_text):\n",
    "  query_embeddings = make_query_embeddings(query_text, tern, device)\n",
    "  top_k_indexes, top_k_scores = faiss_search(faiss_pool, query_embeddings, gallery_embeddings, top_k=10)\n",
    "  show_retrieval(\n",
    "    \"/Users/rishideychowdhury/Desktop/Joint-Embedding/Data/flickr30k_images/flickr30k_images/flickr30k_images\", \n",
    "    img_infos, top_k_indexes, top_k_scores)"
   ]
  },
  {
   "cell_type": "code",
   "execution_count": null,
   "id": "9a391a29",
   "metadata": {},
   "outputs": [],
   "source": [
    "retrieve('Football.')"
   ]
  },
  {
   "cell_type": "markdown",
   "id": "7c53862c",
   "metadata": {},
   "source": [
    "Train on a very small dataset"
   ]
  },
  {
   "cell_type": "code",
   "execution_count": null,
   "id": "ec6c9f13",
   "metadata": {},
   "outputs": [],
   "source": [
    "data = next(iter(trainloader))"
   ]
  },
  {
   "cell_type": "code",
   "execution_count": null,
   "id": "ca836b8f",
   "metadata": {},
   "outputs": [],
   "source": [
    "data = list()\n",
    "k = 0\n",
    "for batch in trainloader:\n",
    "  if k == 30:\n",
    "    break\n",
    "  data.append(batch)\n",
    "  k += 1"
   ]
  },
  {
   "cell_type": "code",
   "execution_count": null,
   "id": "8589b11a",
   "metadata": {},
   "outputs": [],
   "source": [
    "for epoch in range(5000):\n",
    "  running_loss = 0 # calculates the loss for overall one training epoch\n",
    "  model.model.train() # set the model in training mode\n",
    "\n",
    "  model.optimizer.zero_grad() # zeroes out the grad for the optimizer\n",
    "\n",
    "  start_time = time.time() # tracks the time taken to complete one batch procesing\n",
    "  \n",
    "  for i, batch in enumerate(data):\n",
    "    train_loss = model.training_step(batch)['T'] # makes one forward pass through the model\n",
    "    train_loss.backward() # compute the gradients\n",
    "    model.optimizer.step() # update model parameters\n",
    "    model.scheduler.step(epoch + i / len(data)) # update optimizer parameters\n",
    "    running_loss += train_loss.item() # Adds the batch loss to the running loss\n",
    "    # loss_list_train.append(train_loss.item()) # appends the loss to the list maintaining training loss\n",
    "  \n",
    "  with torch.no_grad():\n",
    "    end_time = time.time()\n",
    "    running_time = end_time - start_time # Time taken for one epoch\n",
    "    running_loss /= (len(trainloader)*trainloader_args['batch_size'])\n",
    "    iters = len(trainloader)*(epoch+1) # Number of iters covered in one epoch\n",
    "    print(\"Epochs: [{}|{}] || Iterations: [{}|{}] || Loss: {} || Time: {:10.4f}s\".format(epoch, 5000, iters, num_iters, running_loss, running_time))"
   ]
  },
  {
   "cell_type": "code",
   "execution_count": null,
   "id": "f4ab9171",
   "metadata": {},
   "outputs": [],
   "source": [
    "evaluate_epoch(0,0)"
   ]
  },
  {
   "cell_type": "code",
   "execution_count": null,
   "id": "0734982c",
   "metadata": {},
   "outputs": [],
   "source": [
    "data = list()\n",
    "k = 0\n",
    "for batch in trainloader:\n",
    "  if k == 2:\n",
    "    break\n",
    "  data.append(batch)\n",
    "  k += 1"
   ]
  },
  {
   "cell_type": "code",
   "execution_count": null,
   "id": "da282cc9",
   "metadata": {},
   "outputs": [],
   "source": [
    "for epoch in range(5000):\n",
    "  running_loss = 0 # calculates the loss for overall one training epoch\n",
    "  model.model.train() # set the model in training mode\n",
    "\n",
    "  model.optimizer.zero_grad() # zeroes out the grad for the optimizer\n",
    "\n",
    "  start_time = time.time() # tracks the time taken to complete one batch procesing\n",
    "  \n",
    "  for i, batch in enumerate(data):\n",
    "    train_loss = model.training_step(batch)['T'] # makes one forward pass through the model\n",
    "    train_loss.backward() # compute the gradients\n",
    "    model.optimizer.step() # update model parameters\n",
    "    model.scheduler.step(epoch + i / len(data)) # update optimizer parameters\n",
    "    running_loss += train_loss.item() # Adds the batch loss to the running loss\n",
    "    # loss_list_train.append(train_loss.item()) # appends the loss to the list maintaining training loss\n",
    "  \n",
    "  with torch.no_grad():\n",
    "    end_time = time.time()\n",
    "    running_time = end_time - start_time # Time taken for one epoch\n",
    "    running_loss /= (len(trainloader)*trainloader_args['batch_size'])\n",
    "    iters = len(trainloader)*(epoch+1) # Number of iters covered in one epoch\n",
    "    print(\"Epochs: [{}|{}] || Iterations: [{}|{}] || Loss: {:10.4f} || Time: {:10.4f}s\".format(epoch, 5000, iters, num_iters, running_loss, running_time))"
   ]
  },
  {
   "cell_type": "code",
   "execution_count": null,
   "id": "e50e7fcf",
   "metadata": {},
   "outputs": [],
   "source": [
    "data = list()\n",
    "k = 0\n",
    "for batch in trainloader:\n",
    "  if k == 10:\n",
    "    break\n",
    "  data.append(batch)\n",
    "  k += 1"
   ]
  },
  {
   "cell_type": "code",
   "execution_count": null,
   "id": "1732c403",
   "metadata": {},
   "outputs": [],
   "source": [
    "for epoch in range(5000):\n",
    "  running_loss = 0 # calculates the loss for overall one training epoch\n",
    "  model.model.train() # set the model in training mode\n",
    "\n",
    "  model.optimizer.zero_grad() # zeroes out the grad for the optimizer\n",
    "\n",
    "  start_time = time.time() # tracks the time taken to complete one batch procesing\n",
    "  \n",
    "  for i, batch in enumerate(data):\n",
    "    train_loss = model.training_step(batch) # makes one forward pass through the model\n",
    "    train_loss.backward() # compute the gradients\n",
    "    model.optimizer.step() # update model parameters\n",
    "    model.scheduler.step(epoch + i / len(data)) # update optimizer parameters\n",
    "    running_loss += train_loss.item() # Adds the batch loss to the running loss\n",
    "    # loss_list_train.append(train_loss.item()) # appends the loss to the list maintaining training loss\n",
    "  \n",
    "  with torch.no_grad():\n",
    "    end_time = time.time()\n",
    "    running_time = end_time - start_time # Time taken for one epoch\n",
    "    running_loss /= (k*trainloader_args['batch_size'])\n",
    "    iters = len(trainloader)*(epoch+1) # Number of iters covered in one epoch\n",
    "    print(\"Epochs: [{}|{}] || Iterations: [{}|{}] || Loss: {:10.4f} || Time: {:10.4f}s\".format(epoch, 5000, iters, num_iters, running_loss, running_time))"
   ]
  },
  {
   "cell_type": "markdown",
   "id": "312e6be7",
   "metadata": {},
   "source": [
    "**COMPLEX MODEL FITS BAD TO ABOVE SMALL DATASET**"
   ]
  },
  {
   "cell_type": "code",
   "execution_count": null,
   "id": "a357954c",
   "metadata": {},
   "outputs": [],
   "source": [
    "for epoch in range(500):\n",
    "  running_loss = 0 # calculates the loss for overall one training epoch\n",
    "  model.model.train() # set the model in training mode\n",
    "\n",
    "  model.optimizer.zero_grad() # zeroes out the grad for the optimizer\n",
    "\n",
    "  start_time = time.time() # tracks the time taken to complete one batch procesing\n",
    "  \n",
    "  for batch in data:\n",
    "    train_loss = model.training_step(batch) # makes one forward pass through the model\n",
    "    train_loss.backward() # compute the gradients\n",
    "    model.optimizer.step() # update model parameters\n",
    "    model.scheduler.step() # update optimizer parameters\n",
    "    running_loss += train_loss.item() # Adds the batch loss to the running loss\n",
    "    # loss_list_train.append(train_loss.item()) # appends the loss to the list maintaining training loss\n",
    "  \n",
    "  with torch.no_grad():\n",
    "    end_time = time.time()\n",
    "    running_time = end_time - start_time # Time taken for one epoch\n",
    "    running_loss /= (len(trainloader)*trainloader_args['batch_size'])\n",
    "    iters = len(trainloader)*(epoch+1) # Number of iters covered in one epoch\n",
    "    print(\"Epochs: [{}|{}] || Iterations: [{}|{}] || Loss: {:10.4f} || Time: {:10.4f}s\".format(epoch, 500, iters, num_iters, running_loss, running_time))"
   ]
  },
  {
   "cell_type": "markdown",
   "id": "59204b08",
   "metadata": {},
   "source": [
    "**EMBED_DIM DECREAED**"
   ]
  },
  {
   "cell_type": "code",
   "execution_count": null,
   "id": "982eb3e9",
   "metadata": {},
   "outputs": [],
   "source": [
    "data = list()\n",
    "k = 0\n",
    "for batch in trainloader:\n",
    "  if k == 10:\n",
    "    break\n",
    "  data.append(batch)\n",
    "  k += 1"
   ]
  },
  {
   "cell_type": "code",
   "execution_count": null,
   "id": "34c6801d",
   "metadata": {},
   "outputs": [],
   "source": [
    "for epoch in range(5000):\n",
    "  running_loss = 0 # calculates the loss for overall one training epoch\n",
    "  model.model.train() # set the model in training mode\n",
    "\n",
    "  model.optimizer.zero_grad() # zeroes out the grad for the optimizer\n",
    "\n",
    "  start_time = time.time() # tracks the time taken to complete one batch procesing\n",
    "  \n",
    "  for i, batch in enumerate(data):\n",
    "    train_loss = model.training_step(batch) # makes one forward pass through the model\n",
    "    train_loss.backward() # compute the gradients\n",
    "    model.optimizer.step() # update model parameters\n",
    "    model.scheduler.step(epoch + i / len(data)) # update optimizer parameters\n",
    "    running_loss += train_loss.item() # Adds the batch loss to the running loss\n",
    "    # loss_list_train.append(train_loss.item()) # appends the loss to the list maintaining training loss\n",
    "  \n",
    "  with torch.no_grad():\n",
    "    end_time = time.time()\n",
    "    running_time = end_time - start_time # Time taken for one epoch\n",
    "    running_loss /= (k*trainloader_args['batch_size'])\n",
    "    iters = len(trainloader)*(epoch+1) # Number of iters covered in one epoch\n",
    "    print(\"Epochs: [{}|{}] || Iterations: [{}|{}] || Loss: {:10.4f} || Time: {:10.4f}s\".format(epoch, 5000, iters, num_iters, running_loss, running_time))"
   ]
  },
  {
   "cell_type": "code",
   "execution_count": null,
   "id": "c6c940dd",
   "metadata": {},
   "outputs": [],
   "source": [
    "data = list()\n",
    "k = 0\n",
    "for batch in trainloader:\n",
    "  if k == 20:\n",
    "    break\n",
    "  data.append(batch)\n",
    "  k += 1"
   ]
  },
  {
   "cell_type": "code",
   "execution_count": null,
   "id": "d0432ed1",
   "metadata": {},
   "outputs": [],
   "source": [
    "for epoch in range(5000):\n",
    "  running_loss = 0 # calculates the loss for overall one training epoch\n",
    "  model.model.train() # set the model in training mode\n",
    "\n",
    "  model.optimizer.zero_grad() # zeroes out the grad for the optimizer\n",
    "\n",
    "  start_time = time.time() # tracks the time taken to complete one batch procesing\n",
    "  \n",
    "  for i, batch in enumerate(data):\n",
    "    train_loss = model.training_step(batch) # makes one forward pass through the model\n",
    "    train_loss.backward() # compute the gradients\n",
    "    model.optimizer.step() # update model parameters\n",
    "    model.scheduler.step(epoch + i / len(data)) # update optimizer parameters\n",
    "    running_loss += train_loss.item() # Adds the batch loss to the running loss\n",
    "    # loss_list_train.append(train_loss.item()) # appends the loss to the list maintaining training loss\n",
    "  \n",
    "  with torch.no_grad():\n",
    "    end_time = time.time()\n",
    "    running_time = end_time - start_time # Time taken for one epoch\n",
    "    running_loss /= (k*trainloader_args['batch_size'])\n",
    "    iters = len(trainloader)*(epoch+1) # Number of iters covered in one epoch\n",
    "    print(\"Epochs: [{}|{}] || Iterations: [{}|{}] || Loss: {:10.4f} || Time: {:10.4f}s\".format(epoch, 5000, iters, num_iters, running_loss, running_time))"
   ]
  },
  {
   "cell_type": "markdown",
   "id": "20f95658",
   "metadata": {},
   "source": [
    "**CHANGED REL POS ENC TO BE ADDED ONLY TO THE FIRST LAYER LIKE SINE ENCODING**"
   ]
  },
  {
   "cell_type": "code",
   "execution_count": null,
   "id": "044babc4",
   "metadata": {},
   "outputs": [],
   "source": [
    "data = list()\n",
    "k = 0\n",
    "for batch in trainloader:\n",
    "  if k == 20:\n",
    "    break\n",
    "  data.append(batch)\n",
    "  k += 1"
   ]
  },
  {
   "cell_type": "code",
   "execution_count": null,
   "id": "2798ad1a",
   "metadata": {},
   "outputs": [],
   "source": [
    "for epoch in range(5000):\n",
    "  running_loss = 0 # calculates the loss for overall one training epoch\n",
    "  model.model.train() # set the model in training mode\n",
    "\n",
    "  model.optimizer.zero_grad() # zeroes out the grad for the optimizer\n",
    "\n",
    "  start_time = time.time() # tracks the time taken to complete one batch procesing\n",
    "  \n",
    "  for i, batch in enumerate(data):\n",
    "    train_loss = model.training_step(batch) # makes one forward pass through the model\n",
    "    train_loss.backward() # compute the gradients\n",
    "    model.optimizer.step() # update model parameters\n",
    "    model.scheduler.step(epoch + i / len(data)) # update optimizer parameters\n",
    "    running_loss += train_loss.item() # Adds the batch loss to the running loss\n",
    "    # loss_list_train.append(train_loss.item()) # appends the loss to the list maintaining training loss\n",
    "  \n",
    "  with torch.no_grad():\n",
    "    end_time = time.time()\n",
    "    running_time = end_time - start_time # Time taken for one epoch\n",
    "    running_loss /= (k*trainloader_args['batch_size'])\n",
    "    iters = len(trainloader)*(epoch+1) # Number of iters covered in one epoch\n",
    "    print(\"Epochs: [{}|{}] || Iterations: [{}|{}] || Loss: {:10.4f} || Time: {:10.4f}s\".format(epoch, 5000, iters, num_iters, running_loss, running_time))"
   ]
  },
  {
   "cell_type": "code",
   "execution_count": null,
   "id": "05a5097a",
   "metadata": {},
   "outputs": [],
   "source": [
    "print(f'===========================START TRAINING=================================')\n",
    "for epoch in range(num_epochs):\n",
    "  try:\n",
    "    training_epoch(epoch) # training epoch\n",
    "\n",
    "    if evaluate_per_epoch != 0: # evaluation epoch\n",
    "      if epoch % evaluate_per_epoch == 0 and epoch+1 >= evaluate_per_epoch:\n",
    "        best_value = evaluate_epoch(epoch, best_value)\n",
    "\n",
    "  except KeyboardInterrupt:   \n",
    "    checkpoint.save(model, epoch = epoch, iters = iters)\n",
    "    print(\"Stop training, checkpoint saved...\")\n",
    "    break\n",
    "\n",
    "print(\"Training Completed!\")"
   ]
  },
  {
   "cell_type": "code",
   "execution_count": null,
   "id": "1b07798e",
   "metadata": {},
   "outputs": [],
   "source": [
    "evaluate_epoch(1, 0)"
   ]
  },
  {
   "cell_type": "code",
   "execution_count": null,
   "id": "e02b9ecb",
   "metadata": {},
   "outputs": [],
   "source": [
    "from tern.tools.configs import Config\n",
    "from tern.modules.models.encoder.modal import TERN as TERNORI"
   ]
  },
  {
   "cell_type": "code",
   "execution_count": null,
   "id": "e809cf16",
   "metadata": {},
   "outputs": [],
   "source": [
    "device = torch.device('mps')\n",
    "config = Config('/Users/rishideychowdhury/Desktop/Joint-Embedding/TERN-RPE/tern/tools/configs/yaml/tern.yaml')\n",
    "config.model['args'].update({'precomp_bert': False})\n",
    "model1 = TERNORI(**config.model['args'])\n",
    "model1.load_state_dict(torch.load('/Users/rishideychowdhury/Desktop/Joint-Embedding/Models/TERN_best.pth', map_location=device)['model'])\n",
    "model1 = model1.to(device)\n",
    "model1.eval()"
   ]
  },
  {
   "cell_type": "code",
   "execution_count": null,
   "id": "77c3bfb3",
   "metadata": {},
   "outputs": [],
   "source": [
    "model.model"
   ]
  },
  {
   "cell_type": "code",
   "execution_count": null,
   "id": "c2a2251c",
   "metadata": {},
   "outputs": [],
   "source": [
    "model1.state_dict()"
   ]
  },
  {
   "cell_type": "code",
   "execution_count": null,
   "id": "991bfbcc",
   "metadata": {},
   "outputs": [],
   "source": [
    "model.model.state_dict()"
   ]
  },
  {
   "cell_type": "code",
   "execution_count": null,
   "id": "978437d1",
   "metadata": {},
   "outputs": [],
   "source": [
    "def make_gallery_embeddings(ann_path, feat_dir, model, device):\n",
    "\n",
    "  coco = COCO(ann_path)\n",
    "  imgIds = coco.getImgIds()\n",
    "  img_infos = coco.loadImgs(imgIds)\n",
    "\n",
    "  gallery_embeddings = []\n",
    "  npy_paths = []\n",
    "  npy_loc_paths = []\n",
    "\n",
    "  for info in img_infos:\n",
    "    image_name = info['file_name']\n",
    "    npy_name = image_name[:-4]+'.npz'\n",
    "\n",
    "    npy_path = os.path.join(feat_dir, 'data_att', npy_name)\n",
    "    npy_loc_path = os.path.join(feat_dir, 'data_box', npy_name)\n",
    "\n",
    "    npy_loc_paths.append(npy_loc_path)\n",
    "    npy_paths.append(npy_path)\n",
    "\n",
    "  batch_feats = []\n",
    "  batch_loc_feats = []\n",
    "  for idx, (npy_path, npy_loc_path) in enumerate(tqdm(zip(npy_paths, npy_loc_paths))):\n",
    "    npy_feat = np.load(npy_path, mmap_mode='r')['feat']\n",
    "    npy_loc_feat = np.load(npy_loc_path, mmap_mode='r')['feat']\n",
    "\n",
    "    feats = torch.from_numpy(npy_feat).float()\n",
    "    loc_feats = torch.from_numpy(npy_loc_feat).float()\n",
    "\n",
    "    batch_feats.append(feats)\n",
    "    batch_loc_feats.append(loc_feats)\n",
    "\n",
    "    if len(batch_feats) == 32 or idx == len(npy_paths) - 1:\n",
    "\n",
    "      feats = torch.stack(batch_feats).to(device)\n",
    "      loc_feats = torch.stack(batch_loc_feats).to(device)\n",
    "\n",
    "      with torch.no_grad():\n",
    "        embedding = model.visual_forward({\n",
    "          \"feats\": feats, \n",
    "          \"loc_feats\": loc_feats}, device=device)\n",
    "      embedding = embedding.cpu().detach().numpy()\n",
    "      gallery_embeddings.append(embedding)\n",
    "\n",
    "      batch_feats = []\n",
    "      batch_loc_feats = []\n",
    "\n",
    "  gallery_embeddings = np.concatenate(gallery_embeddings, axis=0)\n",
    "  return img_infos, gallery_embeddings\n",
    "\n",
    "def make_query_embeddings(text, model, device):\n",
    "  with torch.no_grad():\n",
    "    feat = model.lang_forward({\n",
    "        'texts': text\n",
    "    }, device=device)\n",
    "\n",
    "  feat = feat.cpu().numpy()\n",
    "  return feat\n",
    "\n",
    "def faiss_search(faiss_pool, query_embedding, gallery_embedding, top_k=10):\n",
    "  faiss_pool.reset()\n",
    "  faiss_pool.add(gallery_embedding)\n",
    "  top_k_scores, top_k_indexes = faiss_pool.search(query_embedding, k=top_k)\n",
    "  return top_k_indexes, top_k_scores\n",
    "\n",
    "def show_retrieval(image_dir, infos, top_k_indexes, top_k_scores):\n",
    "  fig = plt.figure(figsize=(30,10))\n",
    "  for i, (index, score) in enumerate(zip(top_k_indexes[0], top_k_scores[0])):\n",
    "    image_info = infos[index]\n",
    "    image_path = os.path.join(image_dir, image_info['file_name'])\n",
    "    image = cv2.imread(image_path)\n",
    "    image = cv2.cvtColor(image, cv2.COLOR_BGR2RGB)\n",
    "\n",
    "    fig.add_subplot(2, 5, i+1)\n",
    "    plt.imshow(image)\n",
    "    plt.title(score)\n",
    "    plt.axis('off')\n",
    "\n",
    "  plt.show()"
   ]
  },
  {
   "cell_type": "code",
   "execution_count": null,
   "id": "5bf05828",
   "metadata": {},
   "outputs": [],
   "source": [
    "faiss_pool = faiss.IndexFlatIP(d_embed)"
   ]
  },
  {
   "cell_type": "code",
   "execution_count": null,
   "id": "4251288e",
   "metadata": {},
   "outputs": [],
   "source": [
    "img_infos, gallery_embeddings = make_gallery_embeddings(\n",
    "    ann_path = \"/Users/rishideychowdhury/Desktop/Joint-Embedding/Data/flickr30k_annotations/val.json\", \n",
    "    feat_dir = \"/Users/rishideychowdhury/Desktop/Joint-Embedding/Data/bottom_up\",\n",
    "    model = model1, device = device)"
   ]
  },
  {
   "cell_type": "code",
   "execution_count": null,
   "id": "c8693cd7",
   "metadata": {},
   "outputs": [],
   "source": [
    "def retrieve(query_text):\n",
    "  query_embeddings = make_query_embeddings(query_text, model1, device)\n",
    "  top_k_indexes, top_k_scores = faiss_search(faiss_pool, query_embeddings, gallery_embeddings, top_k=10)\n",
    "  show_retrieval(\n",
    "    \"/Users/rishideychowdhury/Desktop/Joint-Embedding/Data/flickr30k_images/flickr30k_images/flickr30k_images\", \n",
    "    img_infos, top_k_indexes, top_k_scores)"
   ]
  },
  {
   "cell_type": "code",
   "execution_count": null,
   "id": "9eabe868",
   "metadata": {},
   "outputs": [],
   "source": [
    "retrieve('A boy and girl.')"
   ]
  },
  {
   "cell_type": "code",
   "execution_count": null,
   "id": "161cb31f",
   "metadata": {},
   "outputs": [],
   "source": [
    "model1.lang_forward"
   ]
  },
  {
   "cell_type": "code",
   "execution_count": null,
   "id": "6ca332c0",
   "metadata": {},
   "outputs": [],
   "source": []
  }
 ],
 "metadata": {
  "kernelspec": {
   "display_name": "Python 3 (ipykernel)",
   "language": "python",
   "name": "python3"
  },
  "language_info": {
   "codemirror_mode": {
    "name": "ipython",
    "version": 3
   },
   "file_extension": ".py",
   "mimetype": "text/x-python",
   "name": "python",
   "nbconvert_exporter": "python",
   "pygments_lexer": "ipython3",
   "version": "3.8.13"
  }
 },
 "nbformat": 4,
 "nbformat_minor": 5
}
