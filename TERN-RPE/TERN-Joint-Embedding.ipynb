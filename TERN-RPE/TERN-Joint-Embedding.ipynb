{
 "cells": [
  {
   "cell_type": "markdown",
   "id": "d747eb05",
   "metadata": {},
   "source": [
    "## Importing Necessary Libraries"
   ]
  },
  {
   "cell_type": "markdown",
   "id": "d38e98fe",
   "metadata": {},
   "source": [
    "Importing all the necessary libraries required."
   ]
  },
  {
   "cell_type": "code",
   "execution_count": 167,
   "id": "d7ca4bb2",
   "metadata": {},
   "outputs": [],
   "source": [
    "import os\n",
    "import time\n",
    "import copy\n",
    "import random\n",
    "import numpy as np\n",
    "from tqdm import tqdm\n",
    "from datetime import datetime\n",
    "# from torchviz import make_dot\n",
    "import matplotlib.pyplot as plt\n",
    "\n",
    "import cv2\n",
    "import albumentations as A\n",
    "from albumentations.pytorch.transforms import ToTensorV2\n",
    "from PIL import Image\n",
    "\n",
    "from pycocotools.coco import COCO\n",
    "import torch.utils.data as data\n",
    "from torch.utils.data import Dataset\n",
    "from torch.utils.data import DataLoader\n",
    "\n",
    "import torch\n",
    "import torch.nn as nn\n",
    "import torch.nn.functional as F\n",
    "\n",
    "from transformers import AutoTokenizer, AutoModel, pipeline\n",
    "\n",
    "from sklearn.metrics.pairwise import euclidean_distances, cosine_distances"
   ]
  },
  {
   "cell_type": "markdown",
   "id": "b8c1b435",
   "metadata": {},
   "source": [
    "## Configure Data and Model"
   ]
  },
  {
   "cell_type": "markdown",
   "id": "1cbad763",
   "metadata": {},
   "source": [
    "In this section set the data paths and other configurations for `trainloader`, `valloader`, `valset1` and `valset2`   (`valset1` contains the BottomsUp features and `valset2` contains the BERT features which are meant for evaluation) as follows:\n",
    "- `root_dir`: Path to directory for images\n",
    "- `ann_path`: Path to .json file containing annotations\n",
    "- `feat_dir`: Path to directory containing BottomsUp image features for each image\n",
    "- `text_dir`: Path to directory containing BERT's textual features for each annotation\n",
    "- `batch_size`: The batch size for train loader\n",
    "\n",
    "I am using the **Flickr30k Dataset**."
   ]
  },
  {
   "cell_type": "code",
   "execution_count": 168,
   "id": "ae3e8b0d",
   "metadata": {},
   "outputs": [],
   "source": [
    "# Train DataLoader Configurations\n",
    "trainloader_args = {\n",
    "  'root_dir': \"/Users/rishideychowdhury/Desktop/Joint-Embedding/Data/flickr30k_images/flickr30k_images/flickr30k_images\",\n",
    "  'ann_path': \"/Users/rishideychowdhury/Desktop/Joint-Embedding/Data/flickr30k_annotations/train.json\",\n",
    "  'feat_dir': \"/Users/rishideychowdhury/Desktop/Joint-Embedding/Data/bottom_up\",\n",
    "  'text_dir': \"/Users/rishideychowdhury/Desktop/Joint-Embedding/Data/bert_features\",\n",
    "  'batch_size': 128,\n",
    "  'num_workers': 0\n",
    "}\n",
    "\n",
    "# Validation DataLoader Configurations\n",
    "valloader_args = {\n",
    "  'root_dir': \"/Users/rishideychowdhury/Desktop/Joint-Embedding/Data/flickr30k_images/flickr30k_images/flickr30k_images\",\n",
    "  'ann_path': \"/Users/rishideychowdhury/Desktop/Joint-Embedding/Data/flickr30k_annotations/val.json\",\n",
    "  'feat_dir': \"/Users/rishideychowdhury/Desktop/Joint-Embedding/Data/bottom_up\",\n",
    "  'text_dir': \"/Users/rishideychowdhury/Desktop/Joint-Embedding/Data/bert_features\",\n",
    "  'batch_size': 128, \n",
    "  'num_workers': 0\n",
    "}\n",
    "\n",
    "# Dataset for Metric Evaluation -Here I use the validation set itself for metric evaluation\n",
    "valset1_args = { # BottomUp Features\n",
    "  'feat_dir': \"/Users/rishideychowdhury/Desktop/Joint-Embedding/Data/bottom_up\",\n",
    "  'ann_path': \"/Users/rishideychowdhury/Desktop/Joint-Embedding/Data/flickr30k_annotations/val.json\"\n",
    "}\n",
    "\n",
    "# Dataset for Metric Evaluation -Here I use the validation set itself for metric evaluation\n",
    "valset2_args = { # BERT Features\n",
    "  'feat_dir': \"/Users/rishideychowdhury/Desktop/Joint-Embedding/Data/bert_features\",\n",
    "  'ann_path': \"/Users/rishideychowdhury/Desktop/Joint-Embedding/Data/flickr30k_annotations/val.json\"\n",
    "}"
   ]
  },
  {
   "cell_type": "code",
   "execution_count": 169,
   "id": "20bd6def",
   "metadata": {},
   "outputs": [],
   "source": [
    "device = torch.device('mps') # Set it to 'cuda' for gpu or 'cpu' for cpu or 'mps' for M1"
   ]
  },
  {
   "cell_type": "markdown",
   "id": "39051edf",
   "metadata": {},
   "source": [
    "## Data Preparation"
   ]
  },
  {
   "cell_type": "markdown",
   "id": "b9f854f6",
   "metadata": {},
   "source": [
    "I define the class that will handle the custom datasets and dataloaders. The format in which the dataset of images and the annotation files are present is according to the COCO guidelines.\n",
    "\n",
    "Make sure to have extracted the image and annotation features for the following class to function properly. The data directory tree is being provided below for reference. Suppose the folder containing all the data is named `data`.\n",
    "```\n",
    "data ───────────────────────────> Contains the Dataset and the relevant pre-computed features\n",
    "├── bert_features ──────────────> Contains the BERT Features for the annotations in the Flickr30k Dataset\n",
    "│   ├── 0.npz\n",
    "│   ├── 1.npz\n",
    "│   ├── 2.npz\n",
    "│   ├── .....\n",
    "│   └── 155069.npz ─────────────> BERT Features for the annotation text with ann_id = 155069\n",
    "├── bottom_up ──────────────────> Contains the Bottom-up Features for all the annotations in the Flickr30k Dataset\n",
    "│   ├── data_att\n",
    "│   │   ├── 1000092795.npz\n",
    "│   │   ├── 10002456.npz\n",
    "│   │   ├── ...\n",
    "│   │   └── 998845445.npz ──────> Bottom-Up Features for the image with image_id = 998845445\n",
    "│   └── data_box\n",
    "│       ├── 1000092795.npz\n",
    "│       ├── 10002456.npz\n",
    "│       ├── ...\n",
    "│       └── 998845445.npz ──────> Bounding Box Features for the image with image_id = 998845445\n",
    "├── flickr30k_annotations ──────> Contains the Annotation Files for the Flickr30k Dataset\n",
    "│   ├── flickr30k_all.json ─────> Annotation File for the entire Flickr30k Images\n",
    "│   ├── train.json ─────────────> Annotation File for the train Flickr30k Images \n",
    "│   └── val.json ───────────────> Annotation File for the validation Flickr30k Images \n",
    "└── flickr30k_images ───────────> Contains the Image Files for the Flickr30k Dataset\n",
    "    └── flickr30k_images ───────> Ignore this directory\n",
    "        ├── 1000092795.jpg\n",
    "        ├── 10002456.jpg ───────> Images from the Flickr30k Dataset\n",
    "        ├── ...\n",
    "        └── 998845445.jpg\n",
    "```"
   ]
  },
  {
   "cell_type": "markdown",
   "id": "8d4fab65",
   "metadata": {},
   "source": [
    "Above the name of the `<ann_id>.npz` in `bert_features` file corresponds to the annotation with the `ann_id` as `<ann_id>` and the name of the  `<image_id>.npz` in `bottom_up/data_att` and `bottom_up/data_box` corresponds to the image with the `image_id` as `<image_id>` in the `flickr30k_all.json` file which stores the data as per the `COCO .json` guidelines."
   ]
  },
  {
   "cell_type": "markdown",
   "id": "5645f6bf",
   "metadata": {},
   "source": [
    "### Bottom-Up Features Storage"
   ]
  },
  {
   "cell_type": "markdown",
   "id": "cf31d496",
   "metadata": {},
   "source": [
    "Below we see how the data in the .npz files are organized. `data_box` folder contains the coordinates of the bounding box."
   ]
  },
  {
   "cell_type": "code",
   "execution_count": 170,
   "id": "a9e384c9",
   "metadata": {},
   "outputs": [],
   "source": [
    "data1 = np.load('/Users/rishideychowdhury/Desktop/Joint-Embedding/Data/bottom_up/data_box/36979.npz')"
   ]
  },
  {
   "cell_type": "code",
   "execution_count": 171,
   "id": "010abb84",
   "metadata": {},
   "outputs": [
    {
     "data": {
      "text/plain": [
       "(36, 5)"
      ]
     },
     "execution_count": 171,
     "metadata": {},
     "output_type": "execute_result"
    }
   ],
   "source": [
    "data1['feat'].shape"
   ]
  },
  {
   "cell_type": "code",
   "execution_count": 172,
   "id": "f4091c9d",
   "metadata": {},
   "outputs": [
    {
     "data": {
      "text/plain": [
       "array([[103.83716583,  55.41079712, 144.81468201,  99.13117218,\n",
       "        545.        ],\n",
       "       [110.3965683 , 146.09048462, 361.76617432, 286.25769043,\n",
       "        106.        ],\n",
       "       [135.88619995, 173.63604736, 415.54824829, 335.27069092,\n",
       "        106.        ],\n",
       "       [251.71195984,  40.11985779, 356.18463135, 211.74856567,\n",
       "         50.        ],\n",
       "       [  0.        ,  70.35986328, 101.263237  , 179.20793152,\n",
       "        119.        ]])"
      ]
     },
     "execution_count": 172,
     "metadata": {},
     "output_type": "execute_result"
    }
   ],
   "source": [
    "data1['feat'][:5] # First 5 out of 36 bounding boxes for one of the images"
   ]
  },
  {
   "cell_type": "markdown",
   "id": "ee82df94",
   "metadata": {},
   "source": [
    "`data_att` folder contains the features extracted from these bounding box."
   ]
  },
  {
   "cell_type": "code",
   "execution_count": 173,
   "id": "9c4c5497",
   "metadata": {},
   "outputs": [],
   "source": [
    "data1 = np.load('/Users/rishideychowdhury/Desktop/Joint-Embedding/Data/bottom_up/data_att/36979.npz')"
   ]
  },
  {
   "cell_type": "code",
   "execution_count": 174,
   "id": "f5bae097",
   "metadata": {},
   "outputs": [
    {
     "data": {
      "text/plain": [
       "(36, 2048)"
      ]
     },
     "execution_count": 174,
     "metadata": {},
     "output_type": "execute_result"
    }
   ],
   "source": [
    "data1['feat'].shape"
   ]
  },
  {
   "cell_type": "code",
   "execution_count": 175,
   "id": "aad53a8e",
   "metadata": {},
   "outputs": [
    {
     "data": {
      "text/plain": [
       "array([[0.0000000e+00, 6.2104285e-01, 1.0477988e+00, ..., 0.0000000e+00,\n",
       "        0.0000000e+00, 2.0651214e-01],\n",
       "       [5.0457919e-01, 7.7560830e-01, 0.0000000e+00, ..., 0.0000000e+00,\n",
       "        6.0314050e+00, 5.8209195e+00],\n",
       "       [2.8219435e-01, 1.8445037e-01, 0.0000000e+00, ..., 0.0000000e+00,\n",
       "        9.9888259e-01, 7.9883933e+00],\n",
       "       [0.0000000e+00, 0.0000000e+00, 0.0000000e+00, ..., 6.6663906e-02,\n",
       "        4.0683333e-02, 7.9872423e-01],\n",
       "       [0.0000000e+00, 0.0000000e+00, 2.4023591e-04, ..., 0.0000000e+00,\n",
       "        6.2136441e-01, 1.8564485e-01]], dtype=float32)"
      ]
     },
     "execution_count": 175,
     "metadata": {},
     "output_type": "execute_result"
    }
   ],
   "source": [
    "data1['feat'][:5] # First 5 out of 36 bounding boxes' features for the same image as above"
   ]
  },
  {
   "cell_type": "markdown",
   "id": "99e182f1",
   "metadata": {},
   "source": [
    "### BERT Feature Storage"
   ]
  },
  {
   "cell_type": "markdown",
   "id": "1e0a13cd",
   "metadata": {},
   "source": [
    "`bert_features` folder contains the BERT-based (more specifically `distil-bert uncased`) features extracted from the annotations."
   ]
  },
  {
   "cell_type": "code",
   "execution_count": 176,
   "id": "b4dfc1c4",
   "metadata": {},
   "outputs": [],
   "source": [
    "data1 = np.load('/Users/rishideychowdhury/Desktop/Joint-Embedding/Data/bert_features/0.npz')"
   ]
  },
  {
   "cell_type": "code",
   "execution_count": 177,
   "id": "23d1aec4",
   "metadata": {},
   "outputs": [
    {
     "data": {
      "text/plain": [
       "(19, 768)"
      ]
     },
     "execution_count": 177,
     "metadata": {},
     "output_type": "execute_result"
    }
   ],
   "source": [
    "data1['feat'].shape"
   ]
  },
  {
   "cell_type": "code",
   "execution_count": 178,
   "id": "77d5a041",
   "metadata": {},
   "outputs": [
    {
     "data": {
      "text/plain": [
       "array([[ 0.18091495, -0.17293406, -0.10586261, ..., -0.15721308,\n",
       "         0.6573164 , -0.02420515],\n",
       "       [ 0.31351984,  0.05622987, -0.24647827, ..., -0.13656305,\n",
       "         0.58381605, -0.2248309 ],\n",
       "       [ 0.4589281 ,  0.3011122 , -0.1646451 , ..., -0.35835925,\n",
       "         0.46185836, -0.71534413],\n",
       "       [ 0.44939154,  0.27436888, -0.23062916, ..., -0.31810743,\n",
       "         0.13104717, -0.46463642],\n",
       "       [ 0.46763006,  0.78821033, -0.14429283, ..., -0.06293612,\n",
       "         0.5962199 , -0.41637862]], dtype=float32)"
      ]
     },
     "execution_count": 178,
     "metadata": {},
     "output_type": "execute_result"
    }
   ],
   "source": [
    "data1['feat'][:5] # First 5 out of 19 tokens' features for each annotation"
   ]
  },
  {
   "cell_type": "markdown",
   "id": "a40fcacc",
   "metadata": {},
   "source": [
    "### Image Augmentation"
   ]
  },
  {
   "cell_type": "markdown",
   "id": "37466a22",
   "metadata": {},
   "source": [
    "I use the following image augmentation to the images from the dataset, which is added to the images before passing to the Faster-RCNN for getting region proposals and for the feature extraction."
   ]
  },
  {
   "cell_type": "code",
   "execution_count": 179,
   "id": "c88bac35",
   "metadata": {},
   "outputs": [],
   "source": [
    "MEAN = [0.485, 0.456, 0.406]\n",
    "STD = [0.229, 0.224, 0.225]\n",
    "\n",
    "class Denormalize(object):\n",
    "  \"\"\"\n",
    "  Denormalize image and boxes for visualization\n",
    "  \"\"\"\n",
    "  \n",
    "  def __init__(self, mean = MEAN, std = STD, **kwargs):\n",
    "    self.mean = mean\n",
    "    self.std = std\n",
    "\n",
    "  def __call__(self, img, box = None, label = None, mask = None, **kwargs):\n",
    "    \"\"\"\n",
    "    :param img: (tensor) image to be denormalized\n",
    "    :param box: (list of tensor) bounding boxes to be denormalized, by multiplying them with image's width and heights. Format: (x,y,width,height)\n",
    "    \"\"\"\n",
    "    mean = np.array(self.mean)\n",
    "    std = np.array(self.std)\n",
    "    img_show = img.numpy().squeeze().transpose((1,2,0))\n",
    "    img_show = (img_show * std+mean)\n",
    "    img_show = np.clip(img_show,0,1)\n",
    "    return img_show\n",
    "\n",
    "def get_resize_augmentation(image_size, keep_ratio=False, box_transforms = False):\n",
    "  \"\"\"\n",
    "  Resize an image, support multi-scaling\n",
    "  :param image_size: shape of image to resize\n",
    "  :param keep_ratio: whether to keep image ratio\n",
    "  :param box_transforms: whether to augment boxes\n",
    "  :return: albumentation Compose\n",
    "  \"\"\"\n",
    "\n",
    "  if not keep_ratio:\n",
    "    return  A.Compose([\n",
    "        A.Resize(\n",
    "            height = image_size[1],\n",
    "            width = image_size[0]\n",
    "        )]) \n",
    "  else:\n",
    "    return A.Compose([\n",
    "        A.LongestMaxSize(max_size=max(image_size)), \n",
    "        A.PadIfNeeded(min_height=image_size[1], min_width=image_size[0], p=1.0, border_mode=cv2.BORDER_CONSTANT),\n",
    "        ])\n",
    "        \n",
    "\n",
    "def get_augmentation():\n",
    "  val_transforms = A.Compose([\n",
    "      A.Normalize(mean=MEAN, std=STD, max_pixel_value=1.0, p=1.0),\n",
    "      ToTensorV2(p=1.0)\n",
    "  ])\n",
    "\n",
    "  return val_transforms"
   ]
  },
  {
   "cell_type": "markdown",
   "id": "62a2108c",
   "metadata": {},
   "source": [
    "### Visualization Functions"
   ]
  },
  {
   "cell_type": "markdown",
   "id": "8bd6c919",
   "metadata": {},
   "source": [
    "The following functions are used to visualize the images and the captions from the Dataset as well as retrieval results."
   ]
  },
  {
   "cell_type": "code",
   "execution_count": 180,
   "id": "9730c2ec",
   "metadata": {},
   "outputs": [],
   "source": [
    "def draw_image_caption(image, text, image_name=None, figsize=(10,10)):\n",
    "\n",
    "  plt.close('all')\n",
    "  fig = plt.figure(figsize=figsize)\n",
    "\n",
    "  if isinstance(image, torch.Tensor):\n",
    "    image = image.numpy().squeeze().transpose((1,2,0))\n",
    "\n",
    "  # Display the image\n",
    "  plt.imshow(image)\n",
    "  plt.axis('off')\n",
    "  fig.text(.5, .05, text, ha='center')\n",
    "\n",
    "  if image_name:\n",
    "    plt.savefig(image_name, bbox_inches='tight')\n",
    "\n",
    "  return fig\n",
    "\n",
    "def draw_retrieval_results(query, top_k_relevant, gt_path=None, save_filename=None, figsize=(10,10)):\n",
    "  plt.close('all')\n",
    "  fig=plt.figure(figsize=figsize)\n",
    "\n",
    "  columns = len(top_k_relevant) + 1\n",
    "  for i, (image, score) in enumerate(top_k_relevant):\n",
    "    img = Image.open(image)\n",
    "    fig.add_subplot(1, columns, i+1)\n",
    "    plt.imshow(img)\n",
    "    plt.title(str(score))\n",
    "    plt.tight_layout()\n",
    "    plt.axis('off')\n",
    "\n",
    "\n",
    "  # Plot ground truth\n",
    "  img = Image.open(gt_path)\n",
    "  fig.add_subplot(1, columns, columns)\n",
    "  plt.imshow(img)\n",
    "  plt.title('Ground Truth')\n",
    "  plt.tight_layout()\n",
    "  plt.axis('off')\n",
    "\n",
    "\n",
    "  if save_filename is not None:\n",
    "    plt.savefig(save_filename)\n",
    "\n",
    "  fig.suptitle(query)\n",
    "  return fig"
   ]
  },
  {
   "cell_type": "markdown",
   "id": "b9935edc",
   "metadata": {},
   "source": [
    "### Custom Dataset Classes"
   ]
  },
  {
   "cell_type": "markdown",
   "id": "0ce4133f",
   "metadata": {},
   "source": [
    "Following are the custom Dataset classes to handle our data and will serve has an input to our DataLoader for training the model."
   ]
  },
  {
   "cell_type": "markdown",
   "id": "91bf064e",
   "metadata": {},
   "source": [
    "#### COCO Dataset"
   ]
  },
  {
   "cell_type": "markdown",
   "id": "9cdb1905",
   "metadata": {},
   "source": [
    "The following is the class that handles the dataset in COCO format. It deals with the raw dataset containing images and captions only, but not the extracted features. The `CocoDataset` class can be used to fetch the data in the form of:\n",
    "- `image_ids`: IDs of the images in the .json annotation files\n",
    "- `ann_ids`: IDs for the annotations in the .json annotation files\n",
    "- `image_names`: Image names\n",
    "- `ori_imgs`: Original Images\n",
    "- `imgs`: Transformed Images\n",
    "- `tgt_texts_raw`: Raw caption texts for each image (Since, there are multiple captions for each image, we select a random caption out of the many for each image)\n",
    "- `texts`: Should contain the transformed preprocessed caption text, but as of now it returns `tgt_texts_raw`. **TODO!!!**"
   ]
  },
  {
   "cell_type": "code",
   "execution_count": 181,
   "id": "1d2418f0",
   "metadata": {},
   "outputs": [],
   "source": [
    "class CocoDataset(Dataset):\n",
    "  \n",
    "  def __init__(self, root_dir, ann_path, image_size=224, keep_ratio=False):\n",
    "\n",
    "    self.patch_size = 16\n",
    "    self.root_dir = root_dir\n",
    "    self.ann_path = ann_path\n",
    "    self.image_size = [image_size, image_size]\n",
    "\n",
    "    self.transforms = A.Compose([\n",
    "      get_resize_augmentation(self.image_size, keep_ratio=keep_ratio),\n",
    "      get_augmentation()\n",
    "    ])\n",
    "\n",
    "    self.coco = COCO(ann_path)\n",
    "    self.image_ids = self.coco.getImgIds()\n",
    "\n",
    "  def __len__(self):\n",
    "    return len(self.image_ids)\n",
    "\n",
    "  def load_image(self, image_index):\n",
    "    image_info = self.coco.loadImgs(self.image_ids[image_index])[0]\n",
    "    image_path = os.path.join(self.root_dir, image_info['file_name'])\n",
    "    return image_path\n",
    "\n",
    "  def load_annotations(self, image_index, return_all=False):\n",
    "    ann_id = self.coco.getAnnIds(imgIds=self.image_ids[image_index])\n",
    "\n",
    "    if not return_all:\n",
    "      ann_id = random.choice(ann_id) # A random annotation out of the many annotations is returned\n",
    "      anns = self.coco.loadAnns(ann_id)[0]['caption']\n",
    "    else:\n",
    "      anns = self.coco.loadAnns(ann_id)\n",
    "      anns = [i['caption'] for i in anns]\n",
    "    return anns, ann_id\n",
    "\n",
    "  def __getitem__(self, index):\n",
    "    image_id = self.image_ids[index]\n",
    "    image_path = self.load_image(index)\n",
    "    text, ann_id = self.load_annotations(index)\n",
    "\n",
    "    return {\n",
    "      'image_id': image_id,\n",
    "      'ann_id': ann_id,\n",
    "      'image_path': image_path,\n",
    "      'text': text,\n",
    "  }\n",
    "\n",
    "  def load_augment(self, image_path):\n",
    "    ori_img = cv2.imread(image_path)\n",
    "    ori_img = cv2.cvtColor(ori_img, cv2.COLOR_BGR2RGB)\n",
    "    image = ori_img.astype(np.float32)\n",
    "    image /= 255.0\n",
    "    image = self.transforms(image=image)['image']\n",
    "    return image, ori_img\n",
    "\n",
    "  def collate_fn(self, batch):\n",
    "\n",
    "    image_paths = [s['image_path'] for s in batch]\n",
    "    image_ids = [s['image_id'] for s in batch]\n",
    "    ann_ids = [s['ann_id'] for s in batch]\n",
    "\n",
    "    image_names = []\n",
    "    ori_imgs = []\n",
    "    for image_path in image_paths:\n",
    "      image_names.append(os.path.basename(image_path))\n",
    "\n",
    "    imgs = []\n",
    "    for image_path in image_paths:\n",
    "      image, ori_img = self.load_augment(image_path)\n",
    "      imgs.append(image)\n",
    "      ori_imgs.append(ori_img)\n",
    "    feats = torch.stack(imgs)\n",
    "\n",
    "    texts = [s['text'] for s in batch]\n",
    "\n",
    "    return {\n",
    "      'image_ids': image_ids,\n",
    "      'ann_ids': ann_ids,\n",
    "      'image_names': image_names,\n",
    "      'ori_imgs': ori_imgs,\n",
    "      'imgs': feats,\n",
    "      'tgt_texts_raw': texts,\n",
    "      'texts': texts,\n",
    "    }\n",
    "\n",
    "\n",
    "  def visualize_item(self, index = None, figsize=(15,15)):\n",
    "    \"\"\"\n",
    "    Visualize an image with its captions by index\n",
    "    \"\"\"\n",
    "\n",
    "    if index is None:\n",
    "      index = random.randint(0,len(self.coco.imgs)-1)\n",
    "    image_path = self.load_image(index)\n",
    "    image_name = os.path.basename(image_path)\n",
    "    image, _ = self.load_augment(image_path)\n",
    "\n",
    "    texts, _ = self.load_annotations(index, return_all=True)\n",
    "\n",
    "    normalize = False\n",
    "    if self.transforms is not None:\n",
    "      for x in self.transforms.transforms[1]:\n",
    "        if isinstance(x, A.Normalize):\n",
    "          normalize = True\n",
    "          denormalize = Denormalize(mean=x.mean, std=x.std)\n",
    "\n",
    "    # Denormalize and reverse-tensorize\n",
    "    if normalize:\n",
    "      image = denormalize(img = image)\n",
    "\n",
    "    self.visualize(image, texts, figsize = figsize, img_name= image_name)\n",
    "\n",
    "  def visualize(self, img, texts, figsize=(15,15), img_name=None):\n",
    "    \"\"\"\n",
    "    Visualize an image with its captions\n",
    "    \"\"\"\n",
    "\n",
    "    text = []\n",
    "    for i, t in enumerate(texts):\n",
    "      text.append(f\"{i+1}. {t}\")\n",
    "    text = \"\\n\".join(text)\n",
    "    fig = draw_image_caption(img, text, figsize=figsize)\n",
    "\n",
    "    if img_name is not None:\n",
    "      plt.title(img_name)\n",
    "    plt.show()\n",
    "\n",
    "  def count_dict(self, types = 1):\n",
    "    \"\"\"\n",
    "    Count text length frequencies\n",
    "    \"\"\"\n",
    "    cnt_dict = {}\n",
    "    if types == 1: # Text length Frequencies\n",
    "      for image_id in range(len(self.image_ids)):\n",
    "        texts = self.load_annotations(image_id, return_all=True)\n",
    "        for text in texts:\n",
    "          text_length = len(text)\n",
    "          if text_length not in cnt_dict.keys():\n",
    "            cnt_dict[text_length] = 0\n",
    "          cnt_dict[text_length] += 1\n",
    "\n",
    "    return cnt_dict\n",
    "\n",
    "  def plot(self, figsize = (8,8), types = [\"length\"]):\n",
    "    \"\"\"\n",
    "    Plot distribution\n",
    "    \"\"\"\n",
    "    ax = plt.figure(figsize = figsize)\n",
    "    num_plots = len(types)\n",
    "    plot_idx = 1\n",
    "\n",
    "    if \"length\" in types:\n",
    "      ax.add_subplot(num_plots, 1, plot_idx)\n",
    "      plot_idx +=1\n",
    "      cnt_dict = self.count_dict(types = 1)\n",
    "      plt.title(\"Total texts: \"+ str(sum(list(cnt_dict.values()))))\n",
    "      bar1 = plt.bar(list(cnt_dict.keys()), list(cnt_dict.values()), color=[np.random.rand(3,) for i in range(len(cnt_dict.keys()))])\n",
    "      for rect in bar1:\n",
    "        height = rect.get_height()\n",
    "        plt.text(rect.get_x() + rect.get_width()/2.0, height, '%d' % int(height), ha='center', va='bottom')\n",
    "\n",
    "    plt.show()\n",
    "\n",
    "  def __str__(self): \n",
    "    s1 = \"Number of images: \" + str(len(self.image_ids)) + '\\n'\n",
    "    s2 = \"Number of texts: \" + str(len(self.coco.getAnnIds())) + '\\n'\n",
    "    return s1 + s2"
   ]
  },
  {
   "cell_type": "markdown",
   "id": "bbbf8a37",
   "metadata": {},
   "source": [
    "#### Numpy Features Dataset"
   ]
  },
  {
   "cell_type": "markdown",
   "id": "ff27c34b",
   "metadata": {},
   "source": [
    "Let's understand the structure of the data in detail. For each data point in the dataset, we have extracted two types of features using pretrained model, which are as follows:\n",
    "- Visual Features: Bounding Box Coordinates for Regions Proposed by Faster-RCNN's RPN and the ResNet model was used to extract the features for all these image portions inside the bounding boxes.\n",
    "- Textual Features: Textual features were obtained using BERT for each caption. This is done for all the multiple captions are present for each image.\n",
    "\n",
    "Now, in the `collate_fn` used when generating batch data from the DataLoader, we use padding upto the maximum length of the textual features for all sentences in that batch. This is handled by the `make_feature_batch` function below."
   ]
  },
  {
   "cell_type": "code",
   "execution_count": 182,
   "id": "a7da2140",
   "metadata": {},
   "outputs": [],
   "source": [
    "def make_feature_batch(features,  pad_token=0):\n",
    "  \"\"\"\n",
    "  List of features,\n",
    "  each feature is [K, model_dim] where K is number of objects of each image\n",
    "  This function pad max length to each feature and tensorize, also return the masks\n",
    "  \"\"\"\n",
    "  model_dim = features[0].shape[-1]\n",
    "\n",
    "  # Find maximum length\n",
    "  max_len=0\n",
    "  for feat in features:\n",
    "    feat_len = feat.shape[0]\n",
    "    max_len = max(max_len, feat_len)\n",
    "\n",
    "  # Init batch\n",
    "  batch_size = len(features)\n",
    "  batch = np.ones((batch_size, max_len, model_dim))\n",
    "  batch *= pad_token\n",
    "\n",
    "  # Copy data to batch\n",
    "  for i, feat in enumerate(features):\n",
    "    feat_len = feat.shape[0]\n",
    "    batch[i, :feat_len, :] = feat\n",
    "\n",
    "  batch = torch.from_numpy(batch).type(torch.float32)\n",
    "  return batch "
   ]
  },
  {
   "cell_type": "markdown",
   "id": "4be5e085",
   "metadata": {},
   "source": [
    "The following class handles the dataset for both the precomputed numpy features for images and texts together."
   ]
  },
  {
   "cell_type": "code",
   "execution_count": 183,
   "id": "e9eac9f1",
   "metadata": {},
   "outputs": [],
   "source": [
    "class NumpyFeatureDataset(Dataset):\n",
    "  \n",
    "  def __init__(self, root_dir, ann_path, feat_dir, text_dir):\n",
    "\n",
    "    self.root_dir = root_dir\n",
    "    self.ann_path = ann_path\n",
    "    self.feat_dir = feat_dir\n",
    "    self.text_dir = text_dir\n",
    "    self.coco = COCO(ann_path)\n",
    "    self.image_ids = self.coco.getImgIds()\n",
    "\n",
    "  def __len__(self):\n",
    "    return len(self.image_ids)\n",
    "\n",
    "  def load_image(self, image_index):\n",
    "    image_info = self.coco.loadImgs(self.image_ids[image_index])[0]\n",
    "    image_path = os.path.join(self.root_dir, image_info['file_name'])\n",
    "    return image_path\n",
    "\n",
    "  def load_image_by_id(self, image_id):\n",
    "    image_infos = self.coco.loadImgs(image_id)\n",
    "    image_path = [os.path.join(self.root_dir, i['file_name']) for i in image_infos]\n",
    "    return image_path\n",
    "\n",
    "  def load_annotations_by_id(self, ann_id):\n",
    "    anns = self.coco.loadAnns(ann_id)\n",
    "    anns = [i['caption'] for i in anns]\n",
    "    return anns\n",
    "\n",
    "  def load_numpy(self, image_index):\n",
    "    image_info = self.coco.loadImgs(self.image_ids[image_index])[0]\n",
    "    npy_path = os.path.join(self.feat_dir, 'data_att', image_info['file_name'][:-4]+'.npz')\n",
    "    npy_loc_path = os.path.join(self.feat_dir, 'data_box', image_info['file_name'][:-4]+'.npz')\n",
    "    return npy_path, npy_loc_path\n",
    "\n",
    "  def load_annotations(self, image_index, return_all=False):\n",
    "    ann_id = self.coco.getAnnIds(imgIds=self.image_ids[image_index])\n",
    "\n",
    "    if not return_all:\n",
    "        ann_id = random.choice(ann_id) # returns a random caption out of the multiple captions\n",
    "        anns = self.coco.loadAnns(ann_id)[0]['caption']\n",
    "        language_path = os.path.join(self.text_dir, f\"{ann_id}.npz\")\n",
    "        return anns, language_path, ann_id\n",
    "    else:\n",
    "        anns = self.coco.loadAnns(ann_id)\n",
    "        anns = [i['caption'] for i in anns]\n",
    "        return anns, ann_id\n",
    "\n",
    "  def __getitem__(self, index):\n",
    "    image_id = self.image_ids[index]\n",
    "    image_path = self.load_image(index)\n",
    "    npy_path, npy_loc_path = self.load_numpy(index)\n",
    "    text, language_path, ann_id = self.load_annotations(index)\n",
    "\n",
    "    return {\n",
    "        'image_id': image_id,\n",
    "        'ann_id': ann_id,\n",
    "        'npy_path': npy_path,\n",
    "        'language_path': language_path,\n",
    "        \"npy_loc_path\": npy_loc_path,\n",
    "        'image_path': image_path,\n",
    "        'text': text,\n",
    "    }\n",
    "\n",
    "  def collate_fn(self, batch):\n",
    "\n",
    "    image_paths = [s['image_path'] for s in batch]\n",
    "    npy_paths = [s['npy_path'] for s in batch]\n",
    "    npy_loc_paths = [s['npy_loc_path'] for s in batch]\n",
    "    language_paths = [s['language_path'] for s in batch]\n",
    "    image_ids = [s['image_id'] for s in batch]\n",
    "    ann_ids = [s['ann_id'] for s in batch]\n",
    "    texts = [s['text'] for s in batch]\n",
    "\n",
    "    image_names = []\n",
    "    ori_imgs = []\n",
    "    for image_path in image_paths:\n",
    "        image_names.append(os.path.basename(image_path))\n",
    "\n",
    "    for image_path in image_paths:\n",
    "        ori_img = cv2.imread(image_path)\n",
    "        ori_img = cv2.cvtColor(ori_img, cv2.COLOR_BGR2RGB)\n",
    "        ori_imgs.append(ori_img)\n",
    "\n",
    "    npy_feats = []\n",
    "    npy_loc_feats = []\n",
    "    npy_lang_feats = []\n",
    "    for npy_path, npy_loc_path, language_path in zip(npy_paths, npy_loc_paths, language_paths):\n",
    "        npy_feat = np.load(npy_path, mmap_mode='r')['feat']\n",
    "        npy_loc_feat = np.load(npy_loc_path, mmap_mode='r')['feat']\n",
    "        npy_lang_feat = np.load(language_path, mmap_mode='r')['feat']\n",
    "        npy_feats.append(npy_feat)\n",
    "        npy_loc_feats.append(npy_loc_feat)\n",
    "        npy_lang_feats.append(npy_lang_feat)\n",
    "\n",
    "    npy_feats = np.stack(npy_feats, axis=0)\n",
    "    npy_loc_feats = np.stack(npy_loc_feats, axis=0)\n",
    "\n",
    "    feats = torch.from_numpy(npy_feats).float()\n",
    "    loc_feats = torch.from_numpy(npy_loc_feats).float()\n",
    "\n",
    "    lang_feats = make_feature_batch(npy_lang_feats, pad_token=0)\n",
    "    lang_feats = lang_feats.float()\n",
    "\n",
    "    return {\n",
    "        'image_ids': image_ids,\n",
    "        'ann_ids': ann_ids,\n",
    "        'image_names': image_names,\n",
    "        'ori_imgs': ori_imgs,\n",
    "        'feats': feats,\n",
    "        'loc_feats': loc_feats,\n",
    "        'lang_feats': lang_feats,\n",
    "        'tgt_texts_raw': texts,\n",
    "    }\n",
    "\n",
    "  def __str__(self): \n",
    "    s1 = \"Number of images: \" + str(len(self.image_ids)) + '\\n'\n",
    "    s2 = \"Number of texts: \" + str(len(self.coco.getAnnIds())) + '\\n'\n",
    "    return s1 + s2"
   ]
  },
  {
   "cell_type": "markdown",
   "id": "60aedc56",
   "metadata": {},
   "source": [
    "#### BottomUp Features Dataset"
   ]
  },
  {
   "cell_type": "markdown",
   "id": "acd3b75f",
   "metadata": {},
   "source": [
    "The following class handles the dataset for the precomputed BottomUp numpy features for images."
   ]
  },
  {
   "cell_type": "code",
   "execution_count": 184,
   "id": "0e6c411f",
   "metadata": {},
   "outputs": [],
   "source": [
    "class BottomUpSet(Dataset):\n",
    "  \"\"\"\n",
    "  Numpy bottom up feature dataset\n",
    "  \"\"\"\n",
    "  def __init__(self, ann_path, feat_dir):\n",
    "\n",
    "    self.ann_path = ann_path\n",
    "    self.feat_dir = feat_dir\n",
    "    self.coco = COCO(ann_path)\n",
    "    self.image_ids = self.coco.getImgIds()\n",
    "\n",
    "  def __len__(self):\n",
    "    return len(self.image_ids)\n",
    "\n",
    "  def load_numpy(self, image_index):\n",
    "    image_info = self.coco.loadImgs(self.image_ids[image_index])[0]\n",
    "    npy_path = os.path.join(self.feat_dir, 'data_att', image_info['file_name'][:-4]+'.npz')\n",
    "    npy_loc_path = os.path.join(self.feat_dir, 'data_box', image_info['file_name'][:-4]+'.npz')\n",
    "    return npy_path, npy_loc_path\n",
    "\n",
    "  def load_annotations(self, image_index):\n",
    "    ann_ids = self.coco.getAnnIds(imgIds=image_index)\n",
    "    return ann_ids\n",
    "\n",
    "  def __getitem__(self, index):\n",
    "    image_id = self.image_ids[index]\n",
    "    npy_path, npy_loc_path = self.load_numpy(index)\n",
    "    ann_ids = self.load_annotations(image_id)\n",
    "\n",
    "    return {\n",
    "      'image_id': image_id,\n",
    "      'ann_ids': ann_ids,\n",
    "      'npy_path': npy_path,\n",
    "      \"npy_loc_path\": npy_loc_path,\n",
    "    }\n",
    "\n",
    "  def collate_fn(self, batch):\n",
    "\n",
    "    npy_paths = [s['npy_path'] for s in batch]\n",
    "    npy_loc_paths = [s['npy_loc_path'] for s in batch]\n",
    "    image_ids = [s['image_id'] for s in batch]\n",
    "    ann_ids = [s['ann_ids'] for s in batch]\n",
    "\n",
    "    npy_feats = []\n",
    "    npy_loc_feats = []\n",
    "    for npy_path, npy_loc_path in zip(npy_paths, npy_loc_paths):\n",
    "      npy_feat = np.load(npy_path, mmap_mode='r')['feat']\n",
    "      npy_loc_feat = np.load(npy_loc_path, mmap_mode='r')['feat']\n",
    "      npy_feats.append(npy_feat)\n",
    "      npy_loc_feats.append(npy_loc_feat)\n",
    "\n",
    "    npy_feats = np.stack(npy_feats, axis=0)\n",
    "    npy_loc_feats = np.stack(npy_loc_feats, axis=0)\n",
    "\n",
    "    feats = torch.from_numpy(npy_feats).float()\n",
    "    loc_feats = torch.from_numpy(npy_loc_feats).float()\n",
    "\n",
    "    return {\n",
    "      'ids': image_ids,\n",
    "      'text_ids': ann_ids,\n",
    "      'feats': feats,\n",
    "      'loc_feats': loc_feats,\n",
    "    }"
   ]
  },
  {
   "cell_type": "markdown",
   "id": "68538366",
   "metadata": {},
   "source": [
    "#### BERT Features Dataset"
   ]
  },
  {
   "cell_type": "markdown",
   "id": "098ba33a",
   "metadata": {},
   "source": [
    "The following class handles the dataset for the precomputed BERT numpy features for textual captions."
   ]
  },
  {
   "cell_type": "code",
   "execution_count": 185,
   "id": "d1f2716a",
   "metadata": {},
   "outputs": [],
   "source": [
    "class BertSet(Dataset):\n",
    "  \"\"\"\n",
    "  Numpy bert feature dataset\n",
    "  \"\"\"\n",
    "  def __init__(self, ann_path, feat_dir):\n",
    "\n",
    "    self.ann_path = ann_path\n",
    "    self.feat_dir = feat_dir\n",
    "    self.coco = COCO(ann_path)\n",
    "    self.text_ids = self.coco.getAnnIds()\n",
    "\n",
    "  def __len__(self):\n",
    "    return len(self.text_ids)\n",
    "\n",
    "  def load_numpy(self, ann_index):\n",
    "    # get ground truth annotations\n",
    "    language_path = os.path.join(self.feat_dir, f\"{ann_index}.npz\")\n",
    "    return language_path\n",
    "\n",
    "  def load_image_id(self, ann_index):\n",
    "    ann = self.coco.loadAnns(ann_index)\n",
    "    image_id = ann[0]['image_id']\n",
    "    return image_id\n",
    "\n",
    "  def __getitem__(self, index):\n",
    "    ann_id = self.text_ids[index]\n",
    "    language_path = self.load_numpy(ann_id)\n",
    "    image_id = self.load_image_id(ann_id)\n",
    "\n",
    "    return {\n",
    "      'image_id': image_id,\n",
    "      'ann_id': ann_id,\n",
    "      'language_path': language_path,\n",
    "    }\n",
    "\n",
    "  def collate_fn(self, batch):\n",
    "\n",
    "    language_paths = [s['language_path'] for s in batch]\n",
    "    image_ids = [s['image_id'] for s in batch]\n",
    "    ann_ids = [s['ann_id'] for s in batch]\n",
    "\n",
    "    npy_feats = []\n",
    "    for language_path in language_paths:\n",
    "      npy_feat = np.load(language_path, mmap_mode='r')['feat']\n",
    "      npy_feats.append(npy_feat)\n",
    "\n",
    "    lang_feats = make_feature_batch(npy_feats, pad_token=0)\n",
    "    lang_feats = lang_feats.float()\n",
    "\n",
    "    return {\n",
    "      'ids': ann_ids,\n",
    "      'image_ids': image_ids,\n",
    "      'lang_feats': lang_feats,\n",
    "    }"
   ]
  },
  {
   "cell_type": "markdown",
   "id": "43e4dc39",
   "metadata": {},
   "source": [
    "### DataLoader Class"
   ]
  },
  {
   "cell_type": "markdown",
   "id": "7f43379a",
   "metadata": {},
   "source": [
    "The following is the Numpy Feature Loader class which we use to load the image and text data in batches which can be feeded to the model for training and evaluation."
   ]
  },
  {
   "cell_type": "code",
   "execution_count": 186,
   "id": "6321a598",
   "metadata": {},
   "outputs": [],
   "source": [
    "class NumpyFeatureLoader(DataLoader):\n",
    "  def __init__(self, batch_size, root_dir, ann_path, feat_dir, text_dir, num_workers=0):\n",
    "    self.dataset = NumpyFeatureDataset(root_dir, ann_path,  feat_dir, text_dir)\n",
    "    self.collate_fn = self.dataset.collate_fn\n",
    "    super().__init__(self.dataset, batch_size=batch_size, pin_memory=True, collate_fn=self.collate_fn, num_workers=num_workers)"
   ]
  },
  {
   "cell_type": "markdown",
   "id": "90b7b430",
   "metadata": {},
   "source": [
    "#### DataLoaders"
   ]
  },
  {
   "cell_type": "markdown",
   "id": "b70efc3c",
   "metadata": {},
   "source": [
    "The following are the DataLoaders for the train and validation datasets."
   ]
  },
  {
   "cell_type": "code",
   "execution_count": 187,
   "id": "d6761cc7",
   "metadata": {},
   "outputs": [
    {
     "name": "stdout",
     "output_type": "stream",
     "text": [
      "loading annotations into memory...\n",
      "Done (t=0.08s)\n",
      "creating index...\n",
      "index created!\n",
      "loading annotations into memory...\n",
      "Done (t=0.00s)\n",
      "creating index...\n",
      "index created!\n",
      "loading annotations into memory...\n",
      "Done (t=0.00s)\n",
      "creating index...\n",
      "index created!\n",
      "loading annotations into memory...\n",
      "Done (t=0.00s)\n",
      "creating index...\n",
      "index created!\n"
     ]
    }
   ],
   "source": [
    "trainloader = NumpyFeatureLoader(**trainloader_args) # Training Dataset Loader\n",
    "valloader = NumpyFeatureLoader(**valloader_args) # Validation Dataset Loader\n",
    "\n",
    "valset1 = BottomUpSet(**valset1_args) # Image Features for Metric Evaluation -- I use the Validation Set\n",
    "valset2 = BertSet(**valset2_args) # Text Features for Metric Evaluation -- I use the Validation Set"
   ]
  },
  {
   "cell_type": "markdown",
   "id": "65c83d44",
   "metadata": {},
   "source": [
    "### Data Visualization"
   ]
  },
  {
   "cell_type": "markdown",
   "id": "71101fb1",
   "metadata": {},
   "source": [
    "Before delving into building the model, let's visualize few items from the training data using the Dataset classes I just created."
   ]
  },
  {
   "cell_type": "code",
   "execution_count": 188,
   "id": "dc86297f",
   "metadata": {},
   "outputs": [
    {
     "name": "stdout",
     "output_type": "stream",
     "text": [
      "loading annotations into memory...\n",
      "Done (t=0.00s)\n",
      "creating index...\n",
      "index created!\n"
     ]
    }
   ],
   "source": [
    "dataset = CocoDataset(\n",
    "    root_dir=valloader_args['root_dir'], \n",
    "    ann_path=valloader_args['ann_path'], \n",
    "    image_size=224, \n",
    "    keep_ratio=False)"
   ]
  },
  {
   "cell_type": "code",
   "execution_count": 189,
   "id": "468da3bf",
   "metadata": {},
   "outputs": [
    {
     "data": {
      "image/png": "[encoded data removed]",
      "text/plain": [
       "<Figure size 1500x1500 with 1 Axes>"
      ]
     },
     "metadata": {},
     "output_type": "display_data"
    }
   ],
   "source": [
    "dataset.visualize_item() # Visualize one image at random from the dataset"
   ]
  },
  {
   "cell_type": "markdown",
   "id": "11a40878",
   "metadata": {},
   "source": [
    "## Model"
   ]
  },
  {
   "cell_type": "markdown",
   "id": "bd557db6",
   "metadata": {},
   "source": [
    "Set the model configurations for the TERN transformer model."
   ]
  },
  {
   "cell_type": "code",
   "execution_count": 190,
   "id": "02aadaff",
   "metadata": {},
   "outputs": [],
   "source": [
    "d_embed = 1024                      # output_dim\n",
    "d_model = 768                       # model dim\n",
    "d_ff = 2048                         # feed-forward dim to be used in the transformers\n",
    "aggregation = \"mean\"                # [mean, first]\n",
    "N_v = 4                             # number of Vision Transformer encoder layers\n",
    "N_l = 4                             # number of Text Transformer encoder layers\n",
    "heads = 4                           # number of heads to be used in the visual and textual transformer\n",
    "dropout = 0.1                       # dropout rate to be used in the transformer\n",
    "precomp_bert = True                 # whether to use bert feature extractor\n",
    "num_sw_layers = 2                   # number of shared-weight layers in the TERN architecture\n",
    "max_rel_pos = 5                    # number of inputs to the left and right to be considered in the relative embedding matrix"
   ]
  },
  {
   "cell_type": "markdown",
   "id": "6971d67f",
   "metadata": {},
   "source": [
    "### Architecture"
   ]
  },
  {
   "cell_type": "markdown",
   "id": "8fc0d479",
   "metadata": {},
   "source": [
    "Here I will build the TERN (Transformer Encoder Reasoning Network) Model Architecture, which I will training with the above DataLoader. But there is one key difference compared to the original TERN model architecture:\n",
    "- I have incorporated the Relative Positional Encoding (RPE) instead of Sinusoidal Positional Encoding on both Image and Text side Transformers."
   ]
  },
  {
   "cell_type": "markdown",
   "id": "296ad624",
   "metadata": {},
   "source": [
    "I could have used the already available layers in the `torch.nn` module. But incorporating the RPE requires modifying the way the Attention is calculated in the `MultiHeadAttention` so, I implemented the `MultiHeadAttention` to take into account the RPE."
   ]
  },
  {
   "cell_type": "code",
   "execution_count": 191,
   "id": "69a00a27",
   "metadata": {},
   "outputs": [],
   "source": [
    "class RelativePosition(nn.Module):\n",
    "  \"\"\"\n",
    "  Calculate relative positional matrices\n",
    "  :input:\n",
    "    num_units:               relative positional embedding dimension\n",
    "    max_relative_position:   number of inputs to the left and right of each input to consider for building the Relative Positional Embedding Matrix\n",
    "  :output:\n",
    "    relative positional embedding matrix\n",
    "  \"\"\"\n",
    "  def __init__(self, num_units, max_relative_position):\n",
    "    super().__init__()\n",
    "    self.num_units = num_units # The relative positional embedding dimension\n",
    "    self.max_relative_position = max_relative_position # The maximum number of inputs on either side to consider\n",
    "    self.embeddings_table = nn.Parameter(torch.Tensor(max_relative_position * 2 + 1, num_units)) # The relative positional embedding matrix\n",
    "    nn.init.xavier_uniform_(self.embeddings_table) # For initialization of the embeddings_table\n",
    "\n",
    "  def forward(self, length_q, length_k):\n",
    "    # length_q and length_k are nothing but just sequence length and is same in this case\n",
    "    range_vec_q = torch.arange(length_q)\n",
    "    range_vec_k = torch.arange(length_k)\n",
    "    distance_mat = range_vec_k[None, :] - range_vec_q[:, None]\n",
    "    # Clipped distance matrix where each row corresponds to the current input and it's entries refer to the inputs with which we consider the relative positional relationship -- Clipped as explained in the paper\n",
    "    distance_mat_clipped = torch.clamp(distance_mat, -self.max_relative_position, self.max_relative_position)\n",
    "    final_mat = distance_mat_clipped + self.max_relative_position\n",
    "    final_mat = torch.LongTensor(final_mat).to(device)\n",
    "    embeddings = self.embeddings_table[final_mat].to(device)\n",
    "    \n",
    "    return embeddings\n",
    "\n",
    "class MultiHeadAttention(nn.Module):\n",
    "  \"\"\"\n",
    "  Calculate multihead attention with num_heads and relative positional encoding\n",
    "  :input:\n",
    "    heads:          number of attention heads\n",
    "    d_model:        embedding dim\n",
    "    dropout:        dropout rate\n",
    "  :output:\n",
    "  \"\"\"\n",
    "  def __init__(self, heads, d_model, max_relative_position, dropout = 0.1):\n",
    "    super().__init__()\n",
    "    self.d_model = d_model\n",
    "    assert d_model % heads == 0\n",
    "    self.d_k = d_model // heads\n",
    "    self.h = heads\n",
    "    self.max_relative_position = max_relative_position # Number of inputs on either side to consider for relative positional embedding\n",
    "    self.relative_position_k = RelativePosition(self.d_k, self.max_relative_position) # Relative Positional Embedding Keys Matrix\n",
    "    self.relative_position_v = RelativePosition(self.d_k, self.max_relative_position) # Relative Positional Embedding Values Matrix\n",
    "    self.q_linear = nn.Linear(d_model, d_model) # Queries Projection Matrix\n",
    "    self.v_linear = nn.Linear(d_model, d_model) # Values Projection Matrix\n",
    "    self.k_linear = nn.Linear(d_model, d_model) # Keys Projection Matrix\n",
    "    self.dropout = nn.Dropout(dropout)\n",
    "    self.out = nn.Linear(d_model, d_model)\n",
    "    self.scale = torch.sqrt(torch.FloatTensor([self.d_k])).to(device) # The scaling factor for the scaled-dot product attention\n",
    "\n",
    "  def forward(self, q, k, v, mask = None):\n",
    "\n",
    "    k = k.to(device) # key = [batch size, key len, hid dim]\n",
    "    q = q.to(device) # query = [batch size, query len, hid dim]\n",
    "    v = v.to(device) # value = [batch size, value len, hid dim]\n",
    "    bs = q.size(0) # batch size\n",
    "    len_k = k.shape[1] # sequence length \n",
    "    len_q = q.shape[1] # sequence length\n",
    "    len_v = v.shape[1] # sequence length\n",
    "    k = self.k_linear(k) # Linearly Projecting the Keys Matrix\n",
    "    q = self.q_linear(q) # Linearly Projecting the Queries Matrix\n",
    "    v = self.v_linear(v) # Linearly Projecting the Values Matrix\n",
    "\n",
    "    # Usual Compatibility Function Calculation\n",
    "    q1 = q.view(bs, -1, self.h, self.d_k).permute(0, 2, 1, 3)\n",
    "    k1 = k.view(bs, -1, self.h, self.d_k).permute(0, 2, 1, 3)\n",
    "    attn1 = torch.matmul(q1, k1.permute(0, 1, 3, 2))\n",
    "\n",
    "    # Relative Positional Encoding Compatibility Function additional term calculate\n",
    "    r_k = self.relative_position_k(len_q, len_k)\n",
    "    r_k = r_k.permute(0, 2, 1)\n",
    "    q2 = q1.permute(2, 0, 1, 3).reshape(len_q, -1, self.d_k)\n",
    "\n",
    "    attn2 = torch.matmul(q2, r_k).view(len_q, bs, self.h, len_q)\n",
    "    attn2 = attn2.permute(1, 2, 0, 3)\n",
    "    attn = (attn1 + attn2) / self.scale # Final Compatibility Function\n",
    "\n",
    "    if mask is not None:\n",
    "      attn = attn.masked_fill(mask == 0, -1e10)\n",
    "\n",
    "    attn = self.dropout(torch.softmax(attn, dim = -1)) # attn = [batch size, n heads, query len, key len]\n",
    "    \n",
    "    v1 = v.view(bs, -1, self.h, self.d_k).permute(0, 2, 1, 3) \n",
    "    weight1 = torch.matmul(attn, v1) # Usual attn-weighted value sum\n",
    "\n",
    "    # Relative Positional Encoding attn-weighted values for additional term calculate\n",
    "    r_v = self.relative_position_v(len_q, len_v)\n",
    "    weight2 = attn.permute(2, 0, 1, 3).contiguous().view(len_q, bs*self.h, len_k)\n",
    "    weight2 = torch.matmul(weight2, r_v)\n",
    "    weight2 = weight2.transpose(0, 1).contiguous().view(bs, self.h, len_q, self.d_k)\n",
    "    \n",
    "    x = weight1 + weight2 # x = [batch size, n heads, query len, head dim]\n",
    "    x = x.permute(0, 2, 1, 3).contiguous() # x = [batch size, query len, n heads, head dim]\n",
    "    x = x.view(bs, -1, self.d_model) # x = [batch size, query len, hid dim]\n",
    "    x = self.out(x) # x = [batch size, query len, hid dim]\n",
    "\n",
    "    return x"
   ]
  },
  {
   "cell_type": "markdown",
   "id": "7c2e9ba9",
   "metadata": {},
   "source": [
    "Now, after the RPE-Based `MultiHeadAttention` I will build the usual Transformer Architecture.\n",
    "\n",
    "Following are the `PositionwiseFeedForword` Layer and `LayerNorm` which is used in the `EncoderLayer`s of the Transformer's Encoder."
   ]
  },
  {
   "cell_type": "code",
   "execution_count": 192,
   "id": "8cfb085a",
   "metadata": {},
   "outputs": [],
   "source": [
    "class PositionwiseFeedForward(nn.Module):\n",
    "  \"\"\"\n",
    "  Just a simple 2-layer feed forward, input and output shape are equal\n",
    "  \"\"\"\n",
    "  def __init__(self, model_dim, ff_dim, dropout=0.1):\n",
    "    super().__init__()\n",
    "    self.w_1 = nn.Linear(model_dim, ff_dim)\n",
    "    self.w_2 = nn.Linear(ff_dim, model_dim)\n",
    "    self.dropout = nn.Dropout(dropout)\n",
    "\n",
    "  def forward(self, x):\n",
    "    \"\"\"\n",
    "    Apply RELU and dropout between two layers\n",
    "    \"\"\"\n",
    "    return self.w_2(self.dropout(F.gelu(self.w_1(x))))\n",
    "\n",
    "class LayerNorm(nn.Module):\n",
    "  \"Construct a layernorm module.\"\n",
    "  def __init__(self, model_dim, eps=1e-6):\n",
    "    super().__init__()\n",
    "    self.a_2 = nn.Parameter(torch.ones(model_dim))\n",
    "    self.b_2 = nn.Parameter(torch.zeros(model_dim))\n",
    "    self.eps = eps\n",
    "\n",
    "  def forward(self, x):\n",
    "    mean = x.mean(-1, keepdim=True)\n",
    "    std = x.std(-1, keepdim=True)\n",
    "    return self.a_2 * (x - mean) / (std + self.eps) + self.b_2    \n",
    "  \n",
    "class EncoderLayer(nn.Module):\n",
    "  \"\"\"\n",
    "  Single encoder layer consists of Multihead Attention, \n",
    "  2-layer feed forward, Layer Normalization and Dropout\n",
    "  \"\"\"\n",
    "  def __init__(self, d_model, d_ff, heads, max_rel_pos, dropout=0.1):\n",
    "    super().__init__()\n",
    "    self.norm_1 = LayerNorm(d_model)\n",
    "    self.norm_2 = LayerNorm(d_model)\n",
    "    self.attn = MultiHeadAttention(heads, d_model, max_rel_pos, dropout=dropout)\n",
    "    self.ff = PositionwiseFeedForward(d_model, d_ff, dropout=dropout)\n",
    "    self.dropout_1 = nn.Dropout(dropout)\n",
    "    self.dropout_2 = nn.Dropout(dropout)\n",
    "\n",
    "  def forward(self, x, mask):\n",
    "    x2 = self.norm_1(x)\n",
    "    x = x + self.dropout_1(self.attn(x2,x2,x2,mask))\n",
    "    x2 = self.norm_2(x)\n",
    "    x = x + self.dropout_2(self.ff(x2))\n",
    "    return x"
   ]
  },
  {
   "cell_type": "markdown",
   "id": "ab4d811d",
   "metadata": {},
   "source": [
    "The following are few utility functions for creating the `TransformerEncoder`, Vision and Text Transformers and deals with intialization, making identical layers and $L_2$-normalizing vectors."
   ]
  },
  {
   "cell_type": "code",
   "execution_count": 193,
   "id": "04741f45",
   "metadata": {},
   "outputs": [],
   "source": [
    "def get_clones(module, N):\n",
    "  \"\"\"\n",
    "  \"Produce N identical layers.\"\n",
    "  \"\"\"\n",
    "  return nn.ModuleList([copy.deepcopy(module) for i in range(N)])\n",
    "\n",
    "def init_xavier(model):\n",
    "  for p in model.parameters():\n",
    "    if p.dim() > 1:\n",
    "      nn.init.xavier_uniform_(p)\n",
    "\n",
    "def l2norm(X):\n",
    "  \"\"\"\n",
    "  L2-normalize columns of X\n",
    "  \"\"\"\n",
    "  norm = torch.pow(X, 2).sum(dim=1, keepdim=True).sqrt()\n",
    "  X = torch.div(X, norm)\n",
    "  return X"
   ]
  },
  {
   "cell_type": "markdown",
   "id": "d7d98239",
   "metadata": {},
   "source": [
    "Stacking multiple `EncoderLayer`s to build the `TransformerEncoder`, which will be used near the end of the `TERN` architecture and will serve as shared weight transformer for visual and textual feature outputs by the respective ViT and Language Transformer.\n",
    "\n",
    "`ModalProjection` projects the output vector of `in_dim` of Vision Transformer and Language Transformer for each modal to `out_dim` after passing it through an `ReLU` activation. This is used as the final step to come up with two vector outputs one for visual side and other for textual side."
   ]
  },
  {
   "cell_type": "code",
   "execution_count": 194,
   "id": "3241c0ff",
   "metadata": {},
   "outputs": [],
   "source": [
    "class TransformerEncoder(nn.Module):\n",
    "  \"\"\"\n",
    "  Shared weight transformer encoder\n",
    "  \"\"\"\n",
    "  def __init__(self, d_model, d_ff, N, heads, max_rel_pos, dropout):\n",
    "    super().__init__()\n",
    "    self.N = N\n",
    "\n",
    "    if self.N != 0:\n",
    "      self.layers = get_clones(EncoderLayer(d_model, d_ff, heads, max_rel_pos, dropout), N)\n",
    "      self.norm = LayerNorm(d_model)  \n",
    "\n",
    "  def forward(self, x):\n",
    "    if self.N != 0:\n",
    "      for i in range(self.N):\n",
    "        x = self.layers[i](x, mask=None)\n",
    "      x = self.norm(x)\n",
    "    return x\n",
    "\n",
    "class ModalProjection(nn.Module):\n",
    "  \"\"\"\n",
    "  Project features into same space\n",
    "  \"\"\"\n",
    "  def __init__(self, in_dim, out_dim):\n",
    "    super().__init__()\n",
    "\n",
    "    self.model = nn.Sequential(\n",
    "          nn.Linear(in_dim, in_dim),\n",
    "          nn.ReLU(),\n",
    "          nn.Linear(in_dim, out_dim))\n",
    "\n",
    "  def forward(self, x):\n",
    "    return self.model(x)"
   ]
  },
  {
   "cell_type": "markdown",
   "id": "f3316810",
   "metadata": {},
   "source": [
    "Now, we will build at the Vision Transformer Encoder `EncoderBottomUp`. But for that I will embed the visual features (extracted by ResNet) of each region to be transformed to `embed_dim` from `features_dim`, which is done by `FeatureEmbedding` and `SpatialEncoding` transforms the bounding box coordinates to `embed_dim` to be added to the visual features."
   ]
  },
  {
   "cell_type": "code",
   "execution_count": 195,
   "id": "d806bbe8",
   "metadata": {},
   "outputs": [],
   "source": [
    "class FeatureEmbedding(nn.Module):\n",
    "  \"\"\"\n",
    "  Projects image features into a space of\n",
    "  dimensionality `embed_dim`.\n",
    "  \"\"\"\n",
    "  def __init__(self, features_dim, embed_dim):\n",
    "    super().__init__()\n",
    "    self.linear = nn.Linear(features_dim, embed_dim)\n",
    "\n",
    "  def forward(self, x):\n",
    "    return self.linear(x)\n",
    "\n",
    "\n",
    "class SpatialEncoding(nn.Module):\n",
    "  \"\"\"\n",
    "  Encodes bounding box coordinates and relative sizes\n",
    "  as vector of dimensionality `embed_dim`.\n",
    "  \"\"\"\n",
    "  def __init__(self, embed_dim):\n",
    "    super().__init__()\n",
    "    self.linear = nn.Linear(5, embed_dim)\n",
    "\n",
    "  def forward(self, x):\n",
    "    return self.linear(x)"
   ]
  },
  {
   "cell_type": "markdown",
   "id": "7c6da72e",
   "metadata": {},
   "source": [
    "The following is the `EncoderBottomUp` layer that will add the `cls_token1` before the sequence of region's feature embedding and `cls_token2` before the sequence of region's location feature embedding. After that it will apply the `FeatureEmbedding` and `SpatialEncoding` layer to come with a single sequence of feature instead of two, by adding the location features and the regions extracted features."
   ]
  },
  {
   "cell_type": "code",
   "execution_count": 196,
   "id": "29e63db5",
   "metadata": {},
   "outputs": [],
   "source": [
    "class EncoderBottomUp(nn.Module):\n",
    "  \"\"\"\n",
    "  Encoder for Bottom-Up-Attention features\n",
    "  :input:\n",
    "      feat_dim:       feature dim\n",
    "      d_model:        embeddings dim\n",
    "  :output:\n",
    "      encoded embeddings shape [batch * input length * model_dim]\n",
    "  \"\"\"\n",
    "  def __init__(self, feat_dim, d_model):\n",
    "    super().__init__()\n",
    "    self.cls_token1 = nn.Parameter(torch.zeros(1, 1, d_model)) # Add CLS token \n",
    "    self.cls_token2 = nn.Parameter(torch.zeros(1, 1, d_model)) # Add CLS token \n",
    "\n",
    "    self.feat_embed = FeatureEmbedding(feat_dim, d_model)\n",
    "    self.loc_embed = SpatialEncoding(d_model)\n",
    "\n",
    "  def forward(self, src, spatial_src):\n",
    "    x = self.feat_embed(src)\n",
    "    cls_token1 = self.cls_token1.expand(x.shape[0], -1, -1)\n",
    "    x = torch.cat((cls_token1, x), dim=1)\n",
    "\n",
    "    spatial_x = self.loc_embed(spatial_src)\n",
    "    cls_token2 = self.cls_token2.expand(spatial_x.shape[0], -1, -1)\n",
    "    spatial_x = torch.cat((cls_token2, spatial_x), dim=1)\n",
    "\n",
    "    x += spatial_x\n",
    "\n",
    "    return x"
   ]
  },
  {
   "cell_type": "markdown",
   "id": "f38d0b83",
   "metadata": {},
   "source": [
    "Now, I will construct the `EncoderBERT` layer that applies the `distilbert-base-uncased` pretrained model to convert the input to extracted features. But, since I have precomputed the features on the captions, the `precomp` argument is set to `True` and `EncoderBERT` won't compute these features for the captions again and simply pass the `x` tensor when it is called with it, when `precomp = True`."
   ]
  },
  {
   "cell_type": "code",
   "execution_count": 197,
   "id": "833c27f7",
   "metadata": {},
   "outputs": [],
   "source": [
    "class EncoderBERT(nn.Module):\n",
    "  \"\"\"\n",
    "  Pretrained BERT model\n",
    "  :input:\n",
    "      version:       bert version\n",
    "      precomp:       True, if precomputed features is to be used\n",
    "  :output:\n",
    "      encoded embeddings shape [batch * input length * model_dim]\n",
    "  \"\"\"\n",
    "\n",
    "  def __init__(self, feat_dim, d_model, version='distilbert-base-uncased', precomp=True, device=None):\n",
    "    super().__init__()\n",
    "  \n",
    "    self.feat_dim = feat_dim\n",
    "    self.d_model = d_model\n",
    "    self.feat_embed = FeatureEmbedding(feat_dim, d_model)\n",
    "    \n",
    "    self.precomp = precomp\n",
    "\n",
    "    if not self.precomp:\n",
    "      model = AutoModel.from_pretrained(version)\n",
    "\n",
    "      tokenizer = AutoTokenizer.from_pretrained(version, add_special_tokens = 'true', padding = 'longest')\n",
    "\n",
    "      self.pipeline = pipeline(\n",
    "        'feature-extraction', \n",
    "        model=model, \n",
    "        tokenizer=tokenizer, \n",
    "        device = 0 if device is not None else -1)\n",
    "\n",
    "  def forward(self, x):\n",
    "    if not self.precomp:\n",
    "      with torch.no_grad():\n",
    "        x = self.pipeline(x)\n",
    "      x = np.squeeze(x)\n",
    "      if len(x.shape) == 2:\n",
    "        x = np.expand_dims(x, axis=0)\n",
    "      x = make_feature_batch(x, pad_token=0)\n",
    "      x = x.to(device)\n",
    "    x = self.feat_embed(x)\n",
    "\n",
    "    return x"
   ]
  },
  {
   "cell_type": "markdown",
   "id": "e2462371",
   "metadata": {},
   "source": [
    "Finally, we put it all together into the `TERN` Model."
   ]
  },
  {
   "cell_type": "code",
   "execution_count": 198,
   "id": "a2271ab7",
   "metadata": {},
   "outputs": [],
   "source": [
    "class TERN(nn.Module):\n",
    "  \"\"\"\n",
    "  Architecture idea based on Transformer Encoder Reasoning Network\n",
    "  :input:\n",
    "    d_model: Embedding Dimension for the Visual and Textual Encoder\n",
    "    d_ff: FeedForward Network Hidden Unit in Visual and Textual Encoder\n",
    "    N_v: Number of Encoder Layers in Visual Encoder\n",
    "    N_l: Number of Encoder Layers in Language Encoder\n",
    "    heads: Number of heads in Visual and Textual Encoder\n",
    "    max_rel_pos: Number of inputs on either side of an input to be considered for Relative Position Encoding\n",
    "    dropout: Dropout Rate\n",
    "    aggregation: After Visual and Textual Encoder, how to collapse the temporal dimension of the output\n",
    "    precomp_bert: True/False depending on if you have pre-computed features\n",
    "    num_sw_layers: Number of shared transformer encoder layers\n",
    "  :output:\n",
    "    visual output feature vector, language output feature vector\n",
    "  \"\"\"\n",
    "  def __init__(self, d_model, d_embed, d_ff, N_v, N_l, heads, max_rel_pos, dropout, aggregation, precomp_bert, num_sw_layers, **kwargs):\n",
    "    super(TERN, self).__init__()\n",
    "    self.name = \"TERN\" # Name of the model\n",
    "    self.aggregation = aggregation # ['mean' | 'first'] How to collapse the Transformer Sequence output into a single feature vector\n",
    "    self.precomp_bert = precomp_bert # If the BERT features need to be computed?\n",
    "\n",
    "    self.encoder_v = EncoderBottomUp(feat_dim=2048, d_model=d_model) # Visual Embedding Layer [Considering the combined output of Faster-RCNN and Resnet extracted features to be the embedding for the visual transformer model]\n",
    "    self.encoder_l = EncoderBERT(feat_dim=768, d_model=d_model, precomp=precomp_bert) # Textual Embedding Layer [Considering the output of BERT to be the embedding for the textual transformer model]\n",
    "\n",
    "    self.reasoning_v = TransformerEncoder(d_model=d_model, d_ff=d_ff, N=N_v, heads=heads, max_rel_pos=max_rel_pos, dropout=dropout) # ViT\n",
    "    self.reasoning_l = TransformerEncoder(d_model=d_model, d_ff=d_ff, N=N_l, heads=heads, max_rel_pos=max_rel_pos, dropout=dropout) # LangT\n",
    "\n",
    "    self.img_proj = ModalProjection(in_dim=d_model, out_dim=d_embed) # Final projection of in_dim vector to out_dim vector for visual side\n",
    "    self.cap_proj = ModalProjection(in_dim=d_model, out_dim=d_embed) # Final projection of in_dim vector to out_dim vector for textual side\n",
    "\n",
    "    if num_sw_layers > 0: # Shared weight encoders\n",
    "      self.sw_layer = TransformerEncoder(d_model=d_model, d_ff=d_ff, N=num_sw_layers, heads=heads, max_rel_pos=max_rel_pos, dropout=dropout)\n",
    "    else:\n",
    "      self.sw_layer = None\n",
    "\n",
    "    init_xavier(self)\n",
    "\n",
    "  def forward(self, batch):\n",
    "    outputs_v = self.visual_forward(batch)\n",
    "    outputs_l = self.lang_forward(batch)\n",
    "    return outputs_l, outputs_v\n",
    "\n",
    "\n",
    "  def visual_forward(self, batch):\n",
    "    visual_inputs = batch['feats'].to(device)\n",
    "    spatial_inputs = batch['loc_feats'].to(device)\n",
    "\n",
    "    outputs_v = self.encoder_v(visual_inputs, spatial_inputs) \n",
    "    outputs_v = self.reasoning_v(outputs_v)                   \n",
    "\n",
    "    if self.sw_layer is not None:\n",
    "      outputs_v = self.sw_layer(outputs_v)\n",
    "\n",
    "    if self.aggregation == 'mean':\n",
    "      feats_v = self.img_proj(outputs_v).mean(dim=1)\n",
    "    if self.aggregation == 'first':\n",
    "      feats_v = self.img_proj(outputs_v)[:, 0]\n",
    "\n",
    "    feats_v = l2norm(feats_v)\n",
    "    return feats_v\n",
    "\n",
    "  def lang_forward(self, batch):\n",
    "    if self.precomp_bert:\n",
    "      lang_inputs = batch['lang_feats'].to(device)\n",
    "      outputs_l = self.encoder_l(lang_inputs) \n",
    "    else:\n",
    "      outputs_l = self.encoder_l(batch['texts'])\n",
    "      outputs_l = outputs_l.to(device)\n",
    "\n",
    "    outputs_l = self.reasoning_l(outputs_l)\n",
    "\n",
    "    if self.sw_layer is not None:\n",
    "      outputs_l = self.sw_layer(outputs_l)\n",
    "\n",
    "    if self.aggregation == 'mean':\n",
    "      feats_l = self.cap_proj(outputs_l).mean(dim=1)\n",
    "\n",
    "    if self.aggregation == 'first':\n",
    "      feats_l = self.cap_proj(outputs_l)[:, 0]\n",
    "\n",
    "    feats_l = l2norm(feats_l)\n",
    "    return feats_l"
   ]
  },
  {
   "cell_type": "code",
   "execution_count": 199,
   "id": "658111de",
   "metadata": {},
   "outputs": [],
   "source": [
    "tern = TERN(\n",
    "  d_model=d_model,\n",
    "  d_embed=d_embed,\n",
    "  d_ff=d_ff,\n",
    "  N_v=N_v,\n",
    "  N_l=N_l,\n",
    "  heads=heads,\n",
    "  max_rel_pos=max_rel_pos,\n",
    "  dropout=dropout,\n",
    "  aggregation='first',\n",
    "  precomp_bert=True,\n",
    "  num_sw_layers=num_sw_layers\n",
    ").to(device)"
   ]
  },
  {
   "cell_type": "code",
   "execution_count": 200,
   "id": "2c7b2189",
   "metadata": {},
   "outputs": [
    {
     "data": {
      "text/plain": [
       "<bound method Module.parameters of TERN(\n",
       "  (encoder_v): EncoderBottomUp(\n",
       "    (feat_embed): FeatureEmbedding(\n",
       "      (linear): Linear(in_features=2048, out_features=768, bias=True)\n",
       "    )\n",
       "    (loc_embed): SpatialEncoding(\n",
       "      (linear): Linear(in_features=5, out_features=768, bias=True)\n",
       "    )\n",
       "  )\n",
       "  (encoder_l): EncoderBERT(\n",
       "    (feat_embed): FeatureEmbedding(\n",
       "      (linear): Linear(in_features=768, out_features=768, bias=True)\n",
       "    )\n",
       "  )\n",
       "  (reasoning_v): TransformerEncoder(\n",
       "    (layers): ModuleList(\n",
       "      (0): EncoderLayer(\n",
       "        (norm_1): LayerNorm()\n",
       "        (norm_2): LayerNorm()\n",
       "        (attn): MultiHeadAttention(\n",
       "          (relative_position_k): RelativePosition()\n",
       "          (relative_position_v): RelativePosition()\n",
       "          (q_linear): Linear(in_features=768, out_features=768, bias=True)\n",
       "          (v_linear): Linear(in_features=768, out_features=768, bias=True)\n",
       "          (k_linear): Linear(in_features=768, out_features=768, bias=True)\n",
       "          (dropout): Dropout(p=0.1, inplace=False)\n",
       "          (out): Linear(in_features=768, out_features=768, bias=True)\n",
       "        )\n",
       "        (ff): PositionwiseFeedForward(\n",
       "          (w_1): Linear(in_features=768, out_features=2048, bias=True)\n",
       "          (w_2): Linear(in_features=2048, out_features=768, bias=True)\n",
       "          (dropout): Dropout(p=0.1, inplace=False)\n",
       "        )\n",
       "        (dropout_1): Dropout(p=0.1, inplace=False)\n",
       "        (dropout_2): Dropout(p=0.1, inplace=False)\n",
       "      )\n",
       "      (1): EncoderLayer(\n",
       "        (norm_1): LayerNorm()\n",
       "        (norm_2): LayerNorm()\n",
       "        (attn): MultiHeadAttention(\n",
       "          (relative_position_k): RelativePosition()\n",
       "          (relative_position_v): RelativePosition()\n",
       "          (q_linear): Linear(in_features=768, out_features=768, bias=True)\n",
       "          (v_linear): Linear(in_features=768, out_features=768, bias=True)\n",
       "          (k_linear): Linear(in_features=768, out_features=768, bias=True)\n",
       "          (dropout): Dropout(p=0.1, inplace=False)\n",
       "          (out): Linear(in_features=768, out_features=768, bias=True)\n",
       "        )\n",
       "        (ff): PositionwiseFeedForward(\n",
       "          (w_1): Linear(in_features=768, out_features=2048, bias=True)\n",
       "          (w_2): Linear(in_features=2048, out_features=768, bias=True)\n",
       "          (dropout): Dropout(p=0.1, inplace=False)\n",
       "        )\n",
       "        (dropout_1): Dropout(p=0.1, inplace=False)\n",
       "        (dropout_2): Dropout(p=0.1, inplace=False)\n",
       "      )\n",
       "      (2): EncoderLayer(\n",
       "        (norm_1): LayerNorm()\n",
       "        (norm_2): LayerNorm()\n",
       "        (attn): MultiHeadAttention(\n",
       "          (relative_position_k): RelativePosition()\n",
       "          (relative_position_v): RelativePosition()\n",
       "          (q_linear): Linear(in_features=768, out_features=768, bias=True)\n",
       "          (v_linear): Linear(in_features=768, out_features=768, bias=True)\n",
       "          (k_linear): Linear(in_features=768, out_features=768, bias=True)\n",
       "          (dropout): Dropout(p=0.1, inplace=False)\n",
       "          (out): Linear(in_features=768, out_features=768, bias=True)\n",
       "        )\n",
       "        (ff): PositionwiseFeedForward(\n",
       "          (w_1): Linear(in_features=768, out_features=2048, bias=True)\n",
       "          (w_2): Linear(in_features=2048, out_features=768, bias=True)\n",
       "          (dropout): Dropout(p=0.1, inplace=False)\n",
       "        )\n",
       "        (dropout_1): Dropout(p=0.1, inplace=False)\n",
       "        (dropout_2): Dropout(p=0.1, inplace=False)\n",
       "      )\n",
       "      (3): EncoderLayer(\n",
       "        (norm_1): LayerNorm()\n",
       "        (norm_2): LayerNorm()\n",
       "        (attn): MultiHeadAttention(\n",
       "          (relative_position_k): RelativePosition()\n",
       "          (relative_position_v): RelativePosition()\n",
       "          (q_linear): Linear(in_features=768, out_features=768, bias=True)\n",
       "          (v_linear): Linear(in_features=768, out_features=768, bias=True)\n",
       "          (k_linear): Linear(in_features=768, out_features=768, bias=True)\n",
       "          (dropout): Dropout(p=0.1, inplace=False)\n",
       "          (out): Linear(in_features=768, out_features=768, bias=True)\n",
       "        )\n",
       "        (ff): PositionwiseFeedForward(\n",
       "          (w_1): Linear(in_features=768, out_features=2048, bias=True)\n",
       "          (w_2): Linear(in_features=2048, out_features=768, bias=True)\n",
       "          (dropout): Dropout(p=0.1, inplace=False)\n",
       "        )\n",
       "        (dropout_1): Dropout(p=0.1, inplace=False)\n",
       "        (dropout_2): Dropout(p=0.1, inplace=False)\n",
       "      )\n",
       "    )\n",
       "    (norm): LayerNorm()\n",
       "  )\n",
       "  (reasoning_l): TransformerEncoder(\n",
       "    (layers): ModuleList(\n",
       "      (0): EncoderLayer(\n",
       "        (norm_1): LayerNorm()\n",
       "        (norm_2): LayerNorm()\n",
       "        (attn): MultiHeadAttention(\n",
       "          (relative_position_k): RelativePosition()\n",
       "          (relative_position_v): RelativePosition()\n",
       "          (q_linear): Linear(in_features=768, out_features=768, bias=True)\n",
       "          (v_linear): Linear(in_features=768, out_features=768, bias=True)\n",
       "          (k_linear): Linear(in_features=768, out_features=768, bias=True)\n",
       "          (dropout): Dropout(p=0.1, inplace=False)\n",
       "          (out): Linear(in_features=768, out_features=768, bias=True)\n",
       "        )\n",
       "        (ff): PositionwiseFeedForward(\n",
       "          (w_1): Linear(in_features=768, out_features=2048, bias=True)\n",
       "          (w_2): Linear(in_features=2048, out_features=768, bias=True)\n",
       "          (dropout): Dropout(p=0.1, inplace=False)\n",
       "        )\n",
       "        (dropout_1): Dropout(p=0.1, inplace=False)\n",
       "        (dropout_2): Dropout(p=0.1, inplace=False)\n",
       "      )\n",
       "      (1): EncoderLayer(\n",
       "        (norm_1): LayerNorm()\n",
       "        (norm_2): LayerNorm()\n",
       "        (attn): MultiHeadAttention(\n",
       "          (relative_position_k): RelativePosition()\n",
       "          (relative_position_v): RelativePosition()\n",
       "          (q_linear): Linear(in_features=768, out_features=768, bias=True)\n",
       "          (v_linear): Linear(in_features=768, out_features=768, bias=True)\n",
       "          (k_linear): Linear(in_features=768, out_features=768, bias=True)\n",
       "          (dropout): Dropout(p=0.1, inplace=False)\n",
       "          (out): Linear(in_features=768, out_features=768, bias=True)\n",
       "        )\n",
       "        (ff): PositionwiseFeedForward(\n",
       "          (w_1): Linear(in_features=768, out_features=2048, bias=True)\n",
       "          (w_2): Linear(in_features=2048, out_features=768, bias=True)\n",
       "          (dropout): Dropout(p=0.1, inplace=False)\n",
       "        )\n",
       "        (dropout_1): Dropout(p=0.1, inplace=False)\n",
       "        (dropout_2): Dropout(p=0.1, inplace=False)\n",
       "      )\n",
       "      (2): EncoderLayer(\n",
       "        (norm_1): LayerNorm()\n",
       "        (norm_2): LayerNorm()\n",
       "        (attn): MultiHeadAttention(\n",
       "          (relative_position_k): RelativePosition()\n",
       "          (relative_position_v): RelativePosition()\n",
       "          (q_linear): Linear(in_features=768, out_features=768, bias=True)\n",
       "          (v_linear): Linear(in_features=768, out_features=768, bias=True)\n",
       "          (k_linear): Linear(in_features=768, out_features=768, bias=True)\n",
       "          (dropout): Dropout(p=0.1, inplace=False)\n",
       "          (out): Linear(in_features=768, out_features=768, bias=True)\n",
       "        )\n",
       "        (ff): PositionwiseFeedForward(\n",
       "          (w_1): Linear(in_features=768, out_features=2048, bias=True)\n",
       "          (w_2): Linear(in_features=2048, out_features=768, bias=True)\n",
       "          (dropout): Dropout(p=0.1, inplace=False)\n",
       "        )\n",
       "        (dropout_1): Dropout(p=0.1, inplace=False)\n",
       "        (dropout_2): Dropout(p=0.1, inplace=False)\n",
       "      )\n",
       "      (3): EncoderLayer(\n",
       "        (norm_1): LayerNorm()\n",
       "        (norm_2): LayerNorm()\n",
       "        (attn): MultiHeadAttention(\n",
       "          (relative_position_k): RelativePosition()\n",
       "          (relative_position_v): RelativePosition()\n",
       "          (q_linear): Linear(in_features=768, out_features=768, bias=True)\n",
       "          (v_linear): Linear(in_features=768, out_features=768, bias=True)\n",
       "          (k_linear): Linear(in_features=768, out_features=768, bias=True)\n",
       "          (dropout): Dropout(p=0.1, inplace=False)\n",
       "          (out): Linear(in_features=768, out_features=768, bias=True)\n",
       "        )\n",
       "        (ff): PositionwiseFeedForward(\n",
       "          (w_1): Linear(in_features=768, out_features=2048, bias=True)\n",
       "          (w_2): Linear(in_features=2048, out_features=768, bias=True)\n",
       "          (dropout): Dropout(p=0.1, inplace=False)\n",
       "        )\n",
       "        (dropout_1): Dropout(p=0.1, inplace=False)\n",
       "        (dropout_2): Dropout(p=0.1, inplace=False)\n",
       "      )\n",
       "    )\n",
       "    (norm): LayerNorm()\n",
       "  )\n",
       "  (img_proj): ModalProjection(\n",
       "    (model): Sequential(\n",
       "      (0): Linear(in_features=768, out_features=768, bias=True)\n",
       "      (1): ReLU()\n",
       "      (2): Linear(in_features=768, out_features=1024, bias=True)\n",
       "    )\n",
       "  )\n",
       "  (cap_proj): ModalProjection(\n",
       "    (model): Sequential(\n",
       "      (0): Linear(in_features=768, out_features=768, bias=True)\n",
       "      (1): ReLU()\n",
       "      (2): Linear(in_features=768, out_features=1024, bias=True)\n",
       "    )\n",
       "  )\n",
       "  (sw_layer): TransformerEncoder(\n",
       "    (layers): ModuleList(\n",
       "      (0): EncoderLayer(\n",
       "        (norm_1): LayerNorm()\n",
       "        (norm_2): LayerNorm()\n",
       "        (attn): MultiHeadAttention(\n",
       "          (relative_position_k): RelativePosition()\n",
       "          (relative_position_v): RelativePosition()\n",
       "          (q_linear): Linear(in_features=768, out_features=768, bias=True)\n",
       "          (v_linear): Linear(in_features=768, out_features=768, bias=True)\n",
       "          (k_linear): Linear(in_features=768, out_features=768, bias=True)\n",
       "          (dropout): Dropout(p=0.1, inplace=False)\n",
       "          (out): Linear(in_features=768, out_features=768, bias=True)\n",
       "        )\n",
       "        (ff): PositionwiseFeedForward(\n",
       "          (w_1): Linear(in_features=768, out_features=2048, bias=True)\n",
       "          (w_2): Linear(in_features=2048, out_features=768, bias=True)\n",
       "          (dropout): Dropout(p=0.1, inplace=False)\n",
       "        )\n",
       "        (dropout_1): Dropout(p=0.1, inplace=False)\n",
       "        (dropout_2): Dropout(p=0.1, inplace=False)\n",
       "      )\n",
       "      (1): EncoderLayer(\n",
       "        (norm_1): LayerNorm()\n",
       "        (norm_2): LayerNorm()\n",
       "        (attn): MultiHeadAttention(\n",
       "          (relative_position_k): RelativePosition()\n",
       "          (relative_position_v): RelativePosition()\n",
       "          (q_linear): Linear(in_features=768, out_features=768, bias=True)\n",
       "          (v_linear): Linear(in_features=768, out_features=768, bias=True)\n",
       "          (k_linear): Linear(in_features=768, out_features=768, bias=True)\n",
       "          (dropout): Dropout(p=0.1, inplace=False)\n",
       "          (out): Linear(in_features=768, out_features=768, bias=True)\n",
       "        )\n",
       "        (ff): PositionwiseFeedForward(\n",
       "          (w_1): Linear(in_features=768, out_features=2048, bias=True)\n",
       "          (w_2): Linear(in_features=2048, out_features=768, bias=True)\n",
       "          (dropout): Dropout(p=0.1, inplace=False)\n",
       "        )\n",
       "        (dropout_1): Dropout(p=0.1, inplace=False)\n",
       "        (dropout_2): Dropout(p=0.1, inplace=False)\n",
       "      )\n",
       "    )\n",
       "    (norm): LayerNorm()\n",
       "  )\n",
       ")>"
      ]
     },
     "execution_count": 200,
     "metadata": {},
     "output_type": "execute_result"
    }
   ],
   "source": [
    "tern.parameters"
   ]
  },
  {
   "cell_type": "markdown",
   "id": "410f076f",
   "metadata": {},
   "source": [
    "### Loss Function"
   ]
  },
  {
   "cell_type": "markdown",
   "id": "b99dd6c7",
   "metadata": {},
   "source": [
    "Since, the objective is to learn good vector representation of the textual and image features in the joint-embedding space. The task is to maximize the similarity between the vector representation of the caption and the vector representation of the corresponding image.\n",
    "\n",
    "This idea is similar to that of Siamese Network, where we train triplet loss function to maximize the similarity between the same input images but increases the dissimilarity between the different input images. Here, the difference is instead of having pairs of images we have pairs of image and texts.\n",
    "\n",
    "Thus, `ContrastiveLoss` is chosen as the loss function, with the similarity metric chosen to be `dot_sim` (i.e. dot product). Hence, this will try to maximize the similarity score between the image and it's corresponding caption as well as caption and it's corresponding image by farthering the difference between the scores of dissimilar image and captions and similar image and caption."
   ]
  },
  {
   "cell_type": "code",
   "execution_count": 127,
   "id": "dc95d88b",
   "metadata": {},
   "outputs": [],
   "source": [
    "def dot_sim(im, s):\n",
    "  \"\"\"\n",
    "  Cosine similarity between all the image and sentence pairs\n",
    "  \"\"\"\n",
    "  return im.mm(s.t())\n",
    "\n",
    "class ContrastiveLoss(nn.Module):\n",
    "  \"\"\"\n",
    "  Compute contrastive loss\n",
    "  \"\"\"\n",
    "\n",
    "  def __init__(self, margin=0, max_violation=False):\n",
    "    super().__init__()\n",
    "    self.margin = margin\n",
    "    self.sim = dot_sim\n",
    "    self.max_violation = max_violation\n",
    "\n",
    "  def forward(self, im, s):\n",
    "    scores = self.sim(im, s) # compute image-sentence score matrix\n",
    "    diagonal = scores.diag().view(im.size(0), 1)\n",
    "    d1 = diagonal.expand_as(scores)\n",
    "    d2 = diagonal.t().expand_as(scores)\n",
    "\n",
    "    # compare every diagonal score to scores in its column\n",
    "    # caption retrieval\n",
    "    cost_s = (self.margin + scores - d1).clamp(min=0) # Here cost_s minimization implies d1 - score > margin --> diagonal scores will be improved compared to off diagonal on caption-retrieval\n",
    "    # compare every diagonal score to scores in its row\n",
    "    # image retrieval\n",
    "    cost_im = (self.margin + scores - d2).clamp(min=0) # Same as cost_s but for image-retrieval\n",
    "\n",
    "    # clear diagonals\n",
    "    mask = torch.eye(scores.size(0)) > .5\n",
    "    I = mask.to(device)\n",
    "    cost_s = cost_s.masked_fill_(I, 0)\n",
    "    cost_im = cost_im.masked_fill_(I, 0)\n",
    "\n",
    "    # keep the maximum violating negative for each query\n",
    "    if self.max_violation:\n",
    "      cost_s = cost_s.max(1)[0]\n",
    "      cost_im = cost_im.max(0)[0]\n",
    "\n",
    "    loss = cost_s.sum() + cost_im.sum()\n",
    "    return loss"
   ]
  },
  {
   "cell_type": "code",
   "execution_count": 128,
   "id": "c3238461",
   "metadata": {},
   "outputs": [],
   "source": [
    "criterion = ContrastiveLoss(0.2)"
   ]
  },
  {
   "cell_type": "markdown",
   "id": "80556a86",
   "metadata": {},
   "source": [
    "### Evalutation Metric"
   ]
  },
  {
   "cell_type": "markdown",
   "id": "e89088ea",
   "metadata": {},
   "source": [
    "The reason why I am creating the evaluation metric before training is while training, there will be a evaluation step on the validation dataset. Thus, to carry out that step to get an idea about validation loss. I create the evaluation metrics before training.\n",
    "\n",
    "I will be using the following metrics for evaluation:\n",
    "- F1\n",
    "- MAP (Mean Average Precision)\n",
    "- NN (Nearest Neighbor)\n",
    "- Recall\n",
    "- First Tier\n",
    "- Second Tier"
   ]
  },
  {
   "cell_type": "code",
   "execution_count": 129,
   "id": "b86f536f",
   "metadata": {},
   "outputs": [],
   "source": [
    "class F1Metric:\n",
    "  \"\"\"\n",
    "  F1 score at K\n",
    "  \"\"\"\n",
    "  def __init__(self, k, decimals = 4):\n",
    "    self.k = k\n",
    "    self.decimals = decimals\n",
    "    self.scores = []\n",
    "\n",
    "  def compute(self):\n",
    "    mean_score = np.mean(self.scores)\n",
    "    mean_score = np.round(float(mean_score), decimals=self.decimals)\n",
    "    return mean_score\n",
    "\n",
    "  def update(self, output, target):\n",
    "    output = output[:self.k]\n",
    "    n = len(np.intersect1d(target,output)) # Number of corrects\n",
    "    score = 2*n / (len(target)+len(output))\n",
    "    self.scores.append(score)\n",
    "\n",
    "  def reset(self):\n",
    "    self.scores = []\n",
    "\n",
    "  def value(self):\n",
    "    score = self.compute()\n",
    "    return {f\"F1@{self.k}\" : score}\n",
    "\n",
    "  def __str__(self):\n",
    "    return f'{self.value()}'\n",
    "\n",
    "  def __len__(self):\n",
    "    return len(self.scores)"
   ]
  },
  {
   "cell_type": "code",
   "execution_count": 130,
   "id": "5bf618e9",
   "metadata": {},
   "outputs": [],
   "source": [
    "class MAPMetric:\n",
    "  \"\"\"\n",
    "  Mean average precision at K\n",
    "  \"\"\"\n",
    "  def __init__(self, k, decimals = 4):\n",
    "    self.k = k\n",
    "    self.decimals = decimals\n",
    "    self.scores = []\n",
    "\n",
    "  def compute(self):\n",
    "    mean_score = np.mean(self.scores)\n",
    "    mean_score = np.round(float(mean_score), decimals=self.decimals)\n",
    "    return mean_score\n",
    "\n",
    "  def update(self, output, target):\n",
    "    output = output[:self.k]\n",
    "    score = 0.0\n",
    "    num_hits = 0.0\n",
    "\n",
    "    for i, p in enumerate(output):\n",
    "      if p in target and p not in output[:i]:\n",
    "        num_hits += 1.0\n",
    "        score += num_hits / (i+1.0)\n",
    "    self.scores.append(score)\n",
    "\n",
    "  def reset(self):\n",
    "    self.scores = []\n",
    "\n",
    "  def value(self):\n",
    "    score = self.compute()\n",
    "    return {f\"MAP@{self.k}\" : score}\n",
    "\n",
    "  def __str__(self):\n",
    "    return f'{self.value()}'\n",
    "\n",
    "  def __len__(self):\n",
    "    return len(self.scores)"
   ]
  },
  {
   "cell_type": "code",
   "execution_count": 131,
   "id": "d7a1acde",
   "metadata": {},
   "outputs": [],
   "source": [
    "class NearestNeighborMetric:\n",
    "  \"\"\"\n",
    "  Nearest neighbor\n",
    "  \"\"\"\n",
    "  def __init__(self, decimals = 4):\n",
    "    self.decimals = decimals\n",
    "    self.scores = []\n",
    "\n",
    "  def compute(self):\n",
    "    mean_score = np.mean(self.scores)\n",
    "    mean_score = np.round(float(mean_score), decimals=self.decimals)\n",
    "    return mean_score\n",
    "\n",
    "  def update(self, output, target):\n",
    "    score = int(output[0] in target)\n",
    "    self.scores.append(score)\n",
    "\n",
    "  def reset(self):\n",
    "    self.scores = []\n",
    "\n",
    "  def value(self):\n",
    "    score = self.compute()\n",
    "    return {\"NN\" : score}\n",
    "\n",
    "  def __str__(self):\n",
    "    return f'{self.value()}'\n",
    "\n",
    "  def __len__(self):\n",
    "    return len(self.scores)"
   ]
  },
  {
   "cell_type": "code",
   "execution_count": 132,
   "id": "d91bd0a3",
   "metadata": {},
   "outputs": [],
   "source": [
    "class RecallMetric:\n",
    "  \"\"\"\n",
    "  Nearest neighbor\n",
    "  \"\"\"\n",
    "  def __init__(self, k, decimals = 4):\n",
    "    self.k = k\n",
    "    self.decimals = decimals\n",
    "    self.scores = []\n",
    "\n",
    "  def compute(self):\n",
    "    mean_score = np.mean(self.scores)\n",
    "    mean_score = np.round(float(mean_score), decimals=self.decimals)\n",
    "    return mean_score\n",
    "\n",
    "  def update(self, output, target):\n",
    "    retrieved_labels = output[:self.k]\n",
    "    n_targets = len(target)                                        # Number of targets\n",
    "    n_relevant_objs = len(np.intersect1d(target,retrieved_labels)) # Number of corrects\n",
    "    score = n_relevant_objs*1.0 / n_targets\n",
    "    self.scores.append(score)\n",
    "\n",
    "  def reset(self):\n",
    "    self.scores = []\n",
    "\n",
    "  def value(self):\n",
    "    score = self.compute()\n",
    "    return {f\"R@{self.k}\" : score}\n",
    "\n",
    "  def __str__(self):\n",
    "    return f'{self.value()}'\n",
    "\n",
    "  def __len__(self):\n",
    "    return len(self.scores)"
   ]
  },
  {
   "cell_type": "code",
   "execution_count": 133,
   "id": "75da9c6a",
   "metadata": {},
   "outputs": [],
   "source": [
    "class FirstTierMetric:\n",
    "  \"\"\"\n",
    "  First Tier\n",
    "  \"\"\"\n",
    "  def __init__(self, decimals = 4):\n",
    "    self.decimals = decimals\n",
    "    self.scores = []\n",
    "\n",
    "  def compute(self):\n",
    "    mean_score = np.mean(self.scores)\n",
    "    mean_score = np.round(float(mean_score), decimals=self.decimals)\n",
    "    return mean_score\n",
    "\n",
    "  def update(self, output, target):\n",
    "    n_relevant_objs = sum([1 if i in target else 0 for i in output])\n",
    "    retrieved_1st_tier = output[:n_relevant_objs+1]\n",
    "    score = np.mean([1 if i in target else 0 for i in retrieved_1st_tier])\n",
    "    self.scores.append(score)\n",
    "\n",
    "  def reset(self):\n",
    "    self.scores = []\n",
    "\n",
    "  def value(self):\n",
    "    score = self.compute()\n",
    "    return {\"FT\" : score}\n",
    "\n",
    "  def __str__(self):\n",
    "    return f'{self.value()}'\n",
    "\n",
    "  def __len__(self):\n",
    "    return len(self.scores)"
   ]
  },
  {
   "cell_type": "code",
   "execution_count": 134,
   "id": "77999f52",
   "metadata": {},
   "outputs": [],
   "source": [
    "class SecondTierMetric:\n",
    "  \"\"\"\n",
    "  Second Tier\n",
    "  \"\"\"\n",
    "  def __init__(self, decimals = 4):\n",
    "    self.decimals = decimals\n",
    "    self.scores = []\n",
    "\n",
    "  def compute(self):\n",
    "    mean_score = np.mean(self.scores)\n",
    "    mean_score = np.round(float(mean_score), decimals=self.decimals)\n",
    "    return mean_score\n",
    "\n",
    "  def update(self, output, target):\n",
    "    n_relevant_objs = sum([1 if i in target else 0 for i in output])\n",
    "    retrieved_2nd_tier = output[:2*n_relevant_objs+1]\n",
    "    score = np.mean([1 if i in target else 0 for i in retrieved_2nd_tier])\n",
    "    self.scores.append(score)\n",
    "\n",
    "  def reset(self):\n",
    "    self.scores = []\n",
    "\n",
    "  def value(self):\n",
    "    score = self.compute()\n",
    "    return {\"ST\" : score}\n",
    "\n",
    "  def __str__(self):\n",
    "    return f'{self.value()}'\n",
    "\n",
    "  def __len__(self):\n",
    "    return len(self.scores)"
   ]
  },
  {
   "cell_type": "markdown",
   "id": "3681ff9f",
   "metadata": {},
   "source": [
    "Based on all the above metrics, I define a single `RetrievalScore` class that will load the evaluation dataloaders on instantiation and will help us readily evaluate the model"
   ]
  },
  {
   "cell_type": "code",
   "execution_count": 135,
   "id": "a04fcf6c",
   "metadata": {},
   "outputs": [],
   "source": [
    "# Some utility functions\n",
    "def get_dist_func(name):\n",
    "  if name == 'cosine':\n",
    "    return cosine_distances # 1 - similarity\n",
    "  elif name == 'euclide':\n",
    "    return euclidean_distances\n",
    "  else:\n",
    "    raise NotImplementedError\n",
    "\n",
    "def save_results(query_results, outname):\n",
    "  if not os.path.exists('./results/'):\n",
    "    os.mkdir('./results/')\n",
    "  np.save(f'./results/{outname}.npy', query_results, allow_pickle=True)\n",
    "\n",
    "def get_top_k(object_dist_score, top_k=5, max_distance=2.0):\n",
    "  \"\"\"\n",
    "  Input: Array of distance of each item in the gallery to the query\n",
    "  Return: top k objects's indexes and scores\n",
    "  \"\"\"\n",
    "  top_k_indexes = object_dist_score.argsort()[:top_k] # Sort item by distance and get top-k\n",
    "  top_k_scores = object_dist_score[top_k_indexes]\n",
    "\n",
    "  if max_distance is not None: # Keep only item with near distance\n",
    "    keep_indexes = top_k_scores <= max_distance\n",
    "    top_k_indexes = top_k_indexes[keep_indexes]\n",
    "    top_k_scores = top_k_scores[keep_indexes]\n",
    "\n",
    "  return top_k_indexes, top_k_scores\n",
    "\n",
    "metrics_mapping = { # All the metrics to keep track of during evaluation\n",
    "  'FT': FirstTierMetric(),\n",
    "  'ST': SecondTierMetric(),\n",
    "  'NN': NearestNeighborMetric(),\n",
    "  'MAP@10': MAPMetric(k=10),\n",
    "  'F1@10': F1Metric(k=10),\n",
    "  'R@1': RecallMetric(k=1),\n",
    "  'R@5': RecallMetric(k=5),\n",
    "  'R@10': RecallMetric(k=10),\n",
    "}"
   ]
  },
  {
   "cell_type": "markdown",
   "id": "575da358",
   "metadata": {},
   "source": [
    "The `RetrievalScore` calculates the value of each of the above metric when called.\n",
    "It saves the prediction for each batch:\n",
    "- `./results/i2t_results.npy` for image-to-text retrieval\n",
    "- `./results/t2i_results.npy` for text-to-image retrieval.\n",
    "\n",
    "Set `eval_batch_size` for the evaluation batch size."
   ]
  },
  {
   "cell_type": "code",
   "execution_count": 136,
   "id": "a433cefb",
   "metadata": {},
   "outputs": [],
   "source": [
    "eval_batch_size = 128 # Set the evaluation batch size\n",
    "eval_num_workers = 0"
   ]
  },
  {
   "cell_type": "code",
   "execution_count": 137,
   "id": "8a6b366b",
   "metadata": {},
   "outputs": [],
   "source": [
    "class RetrievalScore:    \n",
    "  def __init__(self, \n",
    "        image_set, \n",
    "        text_set, \n",
    "        dimension=1024,\n",
    "        metric_names=['FT', \"ST\", \"MAP@10\", \"NN\", \"F1@10\", \"R@10\"],\n",
    "        max_distance = None,\n",
    "        top_k=10,\n",
    "        save_results=True):\n",
    "\n",
    "    self.metric_names = metric_names\n",
    "    self.image_loader = data.DataLoader(\n",
    "      image_set,\n",
    "      batch_size=eval_batch_size,\n",
    "      shuffle = False, \n",
    "      collate_fn=image_set.collate_fn, \n",
    "      num_workers= eval_num_workers,\n",
    "      pin_memory=True\n",
    "    )\n",
    "\n",
    "    self.text_loader = data.DataLoader(\n",
    "      text_set,\n",
    "      batch_size=eval_batch_size,\n",
    "      shuffle = False, \n",
    "      collate_fn=text_set.collate_fn, \n",
    "      num_workers= eval_num_workers,\n",
    "      pin_memory=True\n",
    "    )\n",
    "\n",
    "    self.top_k = top_k                  # Query top k candidates\n",
    "    self.max_distance = max_distance    # Query candidates with distances lower than threshold\n",
    "    self.save_results = save_results    # Save for vizualization\n",
    "\n",
    "    self.image_embedding = [] \n",
    "    self.text_embedding = []\n",
    "\n",
    "    # For image-to-text retrieval\n",
    "    self.image_ids = []\n",
    "    self.text_target_ids = []\n",
    "\n",
    "    # For text-to-image retrieval\n",
    "    self.text_ids = []\n",
    "    self.image_target_ids = []\n",
    "\n",
    "    if self.save_results:\n",
    "      self.results_dict = {}\n",
    "\n",
    "    self.dist_func = get_dist_func('cosine') # Distance function\n",
    "\n",
    "  def reset(self):\n",
    "    self.image_embedding = [] \n",
    "    self.text_embedding = []\n",
    "\n",
    "    # For image-to-text retrieval\n",
    "    self.image_ids = []\n",
    "    self.text_target_ids = []\n",
    "\n",
    "    # For text-to-image retrieval\n",
    "    self.text_ids = []\n",
    "    self.image_target_ids = []\n",
    "\n",
    "    if self.save_results:\n",
    "      self.results_dict = {}\n",
    "\n",
    "    for metric_name in self.metric_names:\n",
    "      metric_fn = metrics_mapping[metric_name]\n",
    "      metric_fn.reset()        \n",
    "\n",
    "  def update(self, model):\n",
    "    self.model = model\n",
    "    self.model.model.eval()\n",
    "\n",
    "  def compute_images(self):\n",
    "    for idx, batch in enumerate(tqdm(self.image_loader)):\n",
    "      image_ids = batch['ids']\n",
    "      text_target_ids = batch['text_ids']\n",
    "      feats = self.model.get_visual_embeddings(batch)\n",
    "\n",
    "      # Get embedding of each item in batch\n",
    "      batch_size = feats.shape[0]\n",
    "      for i in range(batch_size):\n",
    "        feat = feats[i]\n",
    "        self.image_embedding.append(feat)\n",
    "        self.image_ids.append(image_ids[i])\n",
    "        self.text_target_ids.append(text_target_ids[i])\n",
    "\n",
    "    self.image_embedding = np.array(self.image_embedding)\n",
    "    self.text_target_ids = np.array(self.text_target_ids)\n",
    "    self.image_ids = np.array(self.image_ids)\n",
    "\n",
    "  def compute_texts(self):\n",
    "    for idx, batch in enumerate(tqdm(self.text_loader)):\n",
    "      text_ids = batch['ids']\n",
    "      image_target_ids = batch['image_ids']\n",
    "      feats = self.model.get_lang_embeddings(batch)\n",
    "\n",
    "      # Get embedding of each item in batch\n",
    "      batch_size = feats.shape[0]\n",
    "      for i in range(batch_size):\n",
    "        feat = feats[i]\n",
    "        self.text_embedding.append(feat)\n",
    "        self.text_ids.append(text_ids[i])\n",
    "        self.image_target_ids.append(image_target_ids[i])\n",
    "\n",
    "    self.text_embedding = np.array(self.text_embedding)\n",
    "    self.image_target_ids = np.array(self.image_target_ids)\n",
    "    self.text_ids = np.array(self.text_ids)\n",
    "\n",
    "  def compute_default(self, queries_embedding, gallery_embedding, queries_ids, targets_ids, gallery_ids):\n",
    "    \"\"\"\n",
    "    Compute score for each metric and return \n",
    "    \"\"\"\n",
    "\n",
    "    # Compute distance matrice for queries and gallery\n",
    "    print(\"Calculating distance matrice...\")\n",
    "    dist_mat = self.dist_func(queries_embedding, gallery_embedding)\n",
    "\n",
    "    # np.savetxt(\"./results/dist_mat.txt\",dist_mat)\n",
    "    for idx, row in enumerate(dist_mat):\n",
    "      object_dist_score = dist_mat[idx]\n",
    "      top_k_indexes, top_k_scores = get_top_k(\n",
    "        object_dist_score,\n",
    "        top_k=self.top_k,\n",
    "        max_distance=self.max_distance\n",
    "      )\n",
    "\n",
    "      current_id = queries_ids[idx] # query id\n",
    "      target_ids = targets_ids[idx] if not isinstance(targets_ids[idx], np.int64) else np.array([targets_ids[idx]]) # target id \n",
    "\n",
    "      pred_ids = gallery_ids[top_k_indexes] # gallery id\n",
    "      pred_ids = pred_ids.tolist() if not isinstance(pred_ids.tolist(), int) else [pred_ids.tolist()]\n",
    "\n",
    "      if self.save_results:\n",
    "          self.results_dict[current_id] = {\n",
    "            'pred_ids': pred_ids,\n",
    "            'target_ids': target_ids,\n",
    "            'scores': top_k_scores \n",
    "          }\n",
    "\n",
    "      for metric_name in self.metric_names:\n",
    "        metric_fn = metrics_mapping[metric_name]\n",
    "        metric_fn.update(pred_ids, target_ids)\n",
    "\n",
    "  def _compute_score(\n",
    "    self, \n",
    "    queries_embedding, \n",
    "    gallery_embedding, \n",
    "    queries_ids, \n",
    "    targets_ids, \n",
    "    gallery_ids,\n",
    "    outname):\n",
    "\n",
    "    self.results_dict = {}\n",
    "\n",
    "    self.compute_default(\n",
    "      queries_embedding, \n",
    "      gallery_embedding, \n",
    "      queries_ids, \n",
    "      targets_ids, \n",
    "      gallery_ids)\n",
    "\n",
    "    # Save results for visualization later\n",
    "    if self.save_results:\n",
    "      print(\"Saving retrieval results...\")\n",
    "      save_results(self.results_dict, outname)\n",
    "\n",
    "    result_dict = {}\n",
    "    for metric_name in self.metric_names:\n",
    "      metric_fn = metrics_mapping[metric_name]\n",
    "      result_dict.update(metric_fn.value())\n",
    "\n",
    "    return result_dict\n",
    "\n",
    "  def compute(self):\n",
    "    print(\"Extracting features...\")\n",
    "    self.reset()\n",
    "    with torch.no_grad():\n",
    "      self.compute_images()\n",
    "      self.compute_texts()\n",
    "\n",
    "    i2t_dict = self._compute_score(\n",
    "      self.image_embedding, self.text_embedding, \n",
    "      self.image_ids, self.text_target_ids, self.text_ids, outname='i2t_results')\n",
    "\n",
    "    t2i_dict = self._compute_score(\n",
    "      self.text_embedding, self.image_embedding, \n",
    "      self.text_ids , self.image_target_ids, self.image_ids, outname='t2i_results')\n",
    "\n",
    "    result_dict = {\"i2t/\" + k : v for k,v in i2t_dict.items()}\n",
    "    result_dict.update({\"t2i/\" + k : v for k,v in t2i_dict.items()})\n",
    "\n",
    "    return result_dict\n",
    "\n",
    "  def value(self):\n",
    "    result_dict = self.compute()\n",
    "    return result_dict\n",
    "\n",
    "  def __str__(self):\n",
    "    return str(self.value())"
   ]
  },
  {
   "cell_type": "code",
   "execution_count": 138,
   "id": "5ff6cc92",
   "metadata": {},
   "outputs": [],
   "source": [
    "top_k = 10 # How many top k elements to select when computing distance/similary based metrics above?\n",
    "max_distance = 2.0 # Within how much distance should I consider the top_k elements?\n",
    "metric_names = [\"R@1\", \"R@5\", \"R@10\"] # Metrics to compute select from FT, ST, NN, MAP@10, F1@10, R@1, R@5, R@10"
   ]
  },
  {
   "cell_type": "code",
   "execution_count": 139,
   "id": "80c40d05",
   "metadata": {},
   "outputs": [],
   "source": [
    "metric = RetrievalScore( # Instantiation metric class\n",
    "          valset1, valset2, \n",
    "          max_distance = max_distance,\n",
    "          top_k=top_k,\n",
    "          metric_names=metric_names,\n",
    "          dimension=d_embed,\n",
    "          save_results=True)"
   ]
  },
  {
   "cell_type": "markdown",
   "id": "707cf783",
   "metadata": {},
   "source": [
    "### Optimizer"
   ]
  },
  {
   "cell_type": "markdown",
   "id": "8cff1a4a",
   "metadata": {},
   "source": [
    "I choose to go with the `Adam` optimizer."
   ]
  },
  {
   "cell_type": "code",
   "execution_count": 140,
   "id": "982f6fce",
   "metadata": {},
   "outputs": [],
   "source": [
    "lr = 0.01 # Learning Rate"
   ]
  },
  {
   "cell_type": "code",
   "execution_count": 141,
   "id": "062ac98b",
   "metadata": {},
   "outputs": [],
   "source": [
    "optimizer = torch.optim.Adam(tern.parameters(), lr=lr)"
   ]
  },
  {
   "cell_type": "markdown",
   "id": "10a53456",
   "metadata": {},
   "source": [
    "### Training"
   ]
  },
  {
   "cell_type": "markdown",
   "id": "23a2cfa8",
   "metadata": {},
   "source": [
    "I define a model class `Retriver` that will make handling of the `tern` model easier in terms:\n",
    "- evaluation (`evaluate_step`)\n",
    "- training (`training_step`)\n",
    "- inference (`inference_step`)\n",
    "- extracting feature (`get_visual_embeddings`, `get_lang_embeddings`)"
   ]
  },
  {
   "cell_type": "code",
   "execution_count": 142,
   "id": "e1a25076",
   "metadata": {},
   "outputs": [],
   "source": [
    "class Retriever:\n",
    "  def __init__(self, model, optimizer, criterion, metrics, freeze=False):\n",
    "    super().__init__()\n",
    "    self.model = model\n",
    "    self.model_name = self.model.name\n",
    "    self.optimizer = optimizer\n",
    "    self.criterion = criterion\n",
    "    self.freeze = freeze\n",
    "    self.metrics = metrics # Metrics to evaluate the model on\n",
    "    if not isinstance(metrics, list):\n",
    "      self.metrics = [metrics,]\n",
    "    if self.freeze: # Freezing the model parameters\n",
    "      for params in self.model.parameters():\n",
    "          params.requires_grad = False\n",
    "\n",
    "  def forward(self, x):\n",
    "    return self.model(x)\n",
    "\n",
    "  def training_step(self, batch):\n",
    "    outputs_1, outputs_2 = self.model.forward(batch)\n",
    "    loss = self.criterion(outputs_1, outputs_2)\n",
    "    return loss\n",
    "\n",
    "  def inference_step(self, batch):\n",
    "    outputs_1, outputs_2 = self.model.forward(batch)\n",
    "    return outputs_1.cpu().detach().numpy(), outputs_2.cpu().detach().numpy()\n",
    "\n",
    "  def evaluate_step(self, batch):\n",
    "    outputs_1, outputs_2 = self.model.forward(batch)\n",
    "    loss = self.criterion(outputs_1, outputs_2)\n",
    "    self.update_metrics(model=self)\n",
    "    return loss\n",
    "\n",
    "  def get_visual_embeddings(self, batch): # Get Visual features for a batch\n",
    "    outputs_v = self.model.visual_forward(batch)\n",
    "    return outputs_v.cpu().detach().numpy().astype(np.float32)\n",
    "\n",
    "  def get_lang_embeddings(self, batch): # Get Language features for a batch\n",
    "    outputs_l = self.model.lang_forward(batch)\n",
    "    return outputs_l.cpu().detach().numpy().astype(np.float32)\n",
    "  \n",
    "  def trainable_parameters(self):\n",
    "    return sum(p.numel() for p in self.model.parameters() if p.requires_grad)\n",
    "\n",
    "  def unfreeze(self):\n",
    "    for params in self.parameters():\n",
    "      params.requires_grad = True\n",
    "\n",
    "  def update_metrics(self, **kwargs):\n",
    "    for metric in self.metrics:\n",
    "      metric.update(**kwargs)\n",
    "\n",
    "  def get_metric_values(self):\n",
    "    metric_dict = {}\n",
    "    for metric in self.metrics:\n",
    "      metric_dict.update(metric.value())\n",
    "    return metric_dict\n",
    "\n",
    "  def reset_metrics(self):\n",
    "    for metric in self.metrics:\n",
    "      metric.reset()"
   ]
  },
  {
   "cell_type": "code",
   "execution_count": 143,
   "id": "4579ce8a",
   "metadata": {},
   "outputs": [],
   "source": [
    "model = Retriever( # Instantiating the model\n",
    "  model=tern,\n",
    "  optimizer=optimizer,\n",
    "  criterion=criterion,\n",
    "  metrics=metric\n",
    ")"
   ]
  },
  {
   "cell_type": "markdown",
   "id": "a376b15a",
   "metadata": {},
   "source": [
    "#### Checkpoint"
   ]
  },
  {
   "cell_type": "markdown",
   "id": "7079f024",
   "metadata": {},
   "source": [
    "The following `Checkpoint` class helps in saving the following things while training:\n",
    "- `model`: model weights\n",
    "- `optimizer`: optimizer state\n",
    "- `epoch`: number of epochs trained for\n",
    "- `iters`: number of iterations trained for"
   ]
  },
  {
   "cell_type": "code",
   "execution_count": 144,
   "id": "fa510357",
   "metadata": {},
   "outputs": [],
   "source": [
    "class Checkpoint():\n",
    "  \"\"\"\n",
    "  Checkpoint for saving model state\n",
    "  :param save_per_epoch: (int)\n",
    "  :param path: (string)\n",
    "  \"\"\"\n",
    "  def __init__(self, save_per_epoch = 2, path = None):\n",
    "    self.path = path\n",
    "    self.save_per_epoch = save_per_epoch\n",
    "    # Create folder\n",
    "    if self.path is None:\n",
    "      self.path = os.path.join('weights',datetime.now().strftime('%Y-%m-%d_%H-%M-%S'))\n",
    "\n",
    "  def save(self, model, epoch, iters, save_mode='last'):\n",
    "    \"\"\"\n",
    "    Save model and optimizer weights\n",
    "    :param model: Pytorch model with state dict\n",
    "    \"\"\"\n",
    "    if not os.path.exists(self.path):\n",
    "        os.makedirs(self.path)\n",
    "\n",
    "    model_path = \"_\".join([model.model_name,save_mode])\n",
    "\n",
    "    epoch = epoch\n",
    "    iters = iters\n",
    "\n",
    "    weights = {\n",
    "      'model': model.model.state_dict(),\n",
    "      'optimizer': model.optimizer.state_dict(),\n",
    "      'epoch': epoch,\n",
    "      'iters': iters,\n",
    "    }\n",
    "\n",
    "    torch.save(weights, os.path.join(self.path,model_path)+\".pth\")"
   ]
  },
  {
   "cell_type": "markdown",
   "id": "3915a323",
   "metadata": {},
   "source": [
    "Loading the model's and optimizer's `state_dict` can be done using the following `load_checkpoint`."
   ]
  },
  {
   "cell_type": "code",
   "execution_count": 145,
   "id": "67606d0e",
   "metadata": {},
   "outputs": [],
   "source": [
    "def load_checkpoint(model, path):\n",
    "  \"\"\"\n",
    "  Load trained model checkpoint\n",
    "  :param model: (nn.Module)\n",
    "  :param path: (string) checkpoint path\n",
    "  \"\"\"\n",
    "  state = torch.load(path)\n",
    "  model.model.load_state_dict(state[\"model\"])\n",
    "  if model.optimizer is not None:\n",
    "    model.optimizer.load_state_dict(state[\"optimizer\"])\n",
    "  else:\n",
    "    print('Failed to load optimizer state')\n",
    "  print(\"Loaded Successfully!\")\n",
    "  print('Epochs Trained:', state[\"epoch\"])\n",
    "  print('Iterations Trained:', state[\"iters\"])"
   ]
  },
  {
   "cell_type": "markdown",
   "id": "e83f838a",
   "metadata": {},
   "source": [
    "#### Training"
   ]
  },
  {
   "cell_type": "markdown",
   "id": "26fa9061",
   "metadata": {},
   "source": [
    "Now, set the training configurations:\n",
    "- `num_epochs`: Number of epochs to train the model.\n",
    "- `checkpoint`: An object of the `Checkpoint` class with appropriate `save_per_iter` value which is after how many iterations, the model will be saved\n",
    "- `evaluate_per_epoch`: After how many epochs the model will be evaluated\n",
    "- `save_per_epoch`: After how many epochs the model will be checkpointed"
   ]
  },
  {
   "cell_type": "code",
   "execution_count": 146,
   "id": "34295e4e",
   "metadata": {},
   "outputs": [],
   "source": [
    "num_epochs = 100 # set number of epochs to train the model for\n",
    "save_per_iter = 1000 # set the number of iterations after which the model will be saved while training\n",
    "evaluate_per_epoch = 2 # set the number of epochs after which the model will be evaluated\n",
    "save_per_epoch = 1 # set the number of epochs after which the model will be saved"
   ]
  },
  {
   "cell_type": "code",
   "execution_count": 147,
   "id": "307f8a12",
   "metadata": {},
   "outputs": [],
   "source": [
    "num_iters = (num_epochs+1) * len(trainloader)\n",
    "checkpoint = Checkpoint(save_per_epoch= save_per_epoch)\n",
    "loss_list_train = [] # A list of training loss\n",
    "loss_list_eval = [] # A list of evaluation loss\n",
    "best_value = 0\n",
    "iters = 0"
   ]
  },
  {
   "cell_type": "markdown",
   "id": "937b6d5a",
   "metadata": {},
   "source": [
    "`training_epoch` decides what will be done in every epoch of training."
   ]
  },
  {
   "cell_type": "code",
   "execution_count": 148,
   "id": "4ac6006b",
   "metadata": {},
   "outputs": [],
   "source": [
    "def training_epoch(epoch):\n",
    "  running_loss = 0 # calculates the loss for overall one training epoch\n",
    "  model.model.train() # set the model in training mode\n",
    "\n",
    "  model.optimizer.zero_grad() # zeroes out the grad for the optimizer\n",
    "\n",
    "  start_time = time.time() # tracks the time taken to complete one batch procesing\n",
    "  \n",
    "  for batch in tqdm(trainloader):\n",
    "    \n",
    "    train_loss = model.training_step(batch) # makes one forward pass through the model\n",
    "    running_loss += train_loss # Adds the batch loss to the running loss\n",
    "    loss_list_train.append(train_loss) # appends the loss to the list maintaining training loss\n",
    "    train_loss.backward() # compute the gradients\n",
    "    model.optimizer.step() # update model parameters\n",
    "\n",
    "  end_time = time.time()\n",
    "  running_time = end_time - start_time # Time taken for one epoch\n",
    "  running_loss /= (len(trainloader)*trainloader_args['batch_size'])\n",
    "  iters = len(trainloader)*(epoch+1) # Number of iters covered in one epoch\n",
    "  print(\"Epochs: [{}|{}] || Iterations: [{}|{}] || Loss: {:10.4f} || Time: {:10.4f}s\".format(epoch, num_epochs, iters, num_iters, running_loss, running_time))\n",
    "\n",
    "  if (epoch % checkpoint.save_per_epoch == 0 or epoch == num_epochs - 1):\n",
    "    print(f'Save model at [{epoch}|{num_epochs}] to last.pth')\n",
    "    checkpoint.save(model, epoch = epoch, iters = iters)"
   ]
  },
  {
   "cell_type": "code",
   "execution_count": 153,
   "id": "85f24fb9",
   "metadata": {},
   "outputs": [],
   "source": [
    "def evaluate_epoch(epoch, best_value):\n",
    "  model.model.eval() # setting model to evaluate mode\n",
    "  running_loss = 0\n",
    "  metric_dict = {} # stores the values of the metric\n",
    "  print('=============================EVALUATION===================================')\n",
    "  start_time = time.time()\n",
    "  with torch.no_grad():\n",
    "    for batch in tqdm(valloader):\n",
    "      eval_loss = model.evaluate_step(batch) # does one forward pass through the model\n",
    "      running_loss += eval_loss\n",
    "      loss_list_eval.append(eval_loss) # appends the evaluation loss to the list of evaluation loss\n",
    "\n",
    "  end_time = time.time()\n",
    "  running_time = end_time - start_time\n",
    "  running_loss /= (len(valloader)*valloader_args['batch_size'])\n",
    "  metric_dict = model.get_metric_values() # gets the metric values based on updated model parameters\n",
    "  model.reset_metrics() # resets the metric values\n",
    "\n",
    "  print()\n",
    "  print(\"Epochs: [{}|{}] || Loss: {} || Time: {:10.4f} s\".format(epoch, num_epochs, running_loss, running_time))\n",
    "\n",
    "  for metric, score in metric_dict.items():\n",
    "    print(metric +': ' + str(score), end = ' | ')\n",
    "  print()\n",
    "  print('==========================================================================')\n",
    "\n",
    "  # Save model gives best average R@10 score\n",
    "  if metric_dict['t2i/R@10'] > best_value:\n",
    "    best_value = metric_dict['t2i/R@10']\n",
    "    checkpoint.save(model, save_mode = 'best', epoch = epoch, iters = iters)\n",
    "    return best_value\n",
    "  return best_value\n"
   ]
  },
  {
   "cell_type": "markdown",
   "id": "b89f7f11",
   "metadata": {},
   "source": [
    "Start Training"
   ]
  },
  {
   "cell_type": "code",
   "execution_count": 150,
   "id": "681ecf52",
   "metadata": {},
   "outputs": [
    {
     "name": "stdout",
     "output_type": "stream",
     "text": [
      "##########   MODEL INFO   ##########\n",
      "Model name: TERN\n",
      "Number of trainable parameters:  60113152\n",
      "Training iterations per epoch: 227\n",
      "Validating iterations per epoch: 8\n"
     ]
    }
   ],
   "source": [
    "s0 =  \"##########   MODEL INFO   ##########\"\n",
    "s1 = \"Model name: \" + model.model_name\n",
    "s2 = f\"Number of trainable parameters:  {model.trainable_parameters()}\"\n",
    "s5 = \"Training iterations per epoch: \" + str(len(trainloader))\n",
    "s6 = \"Validating iterations per epoch: \" + str(len(valloader))\n",
    "print(\"\\n\".join([s0,s1,s2,s5,s6]))"
   ]
  },
  {
   "cell_type": "code",
   "execution_count": 151,
   "id": "a3b045ab",
   "metadata": {},
   "outputs": [
    {
     "name": "stdout",
     "output_type": "stream",
     "text": [
      "===========================START TRAINING=================================\n"
     ]
    },
    {
     "name": "stderr",
     "output_type": "stream",
     "text": [
      "100%|█████████████████████████████████████████| 227/227 [06:39<00:00,  1.76s/it]\n"
     ]
    },
    {
     "name": "stdout",
     "output_type": "stream",
     "text": [
      "Epochs: [0|100] || Iterations: [227|22927] || Train Loss:  6482.8369 || Time:   399.0075s\n",
      "Save model at [0|100] to last.pth\n"
     ]
    },
    {
     "name": "stderr",
     "output_type": "stream",
     "text": [
      "100%|█████████████████████████████████████████| 227/227 [07:07<00:00,  1.89s/it]\n"
     ]
    },
    {
     "name": "stdout",
     "output_type": "stream",
     "text": [
      "Epochs: [1|100] || Iterations: [454|22927] || Train Loss:  6482.7217 || Time:   427.9486s\n",
      "Save model at [1|100] to last.pth\n"
     ]
    },
    {
     "name": "stderr",
     "output_type": "stream",
     "text": [
      "100%|█████████████████████████████████████████| 227/227 [06:57<00:00,  1.84s/it]\n"
     ]
    },
    {
     "name": "stdout",
     "output_type": "stream",
     "text": [
      "Epochs: [2|100] || Iterations: [681|22927] || Train Loss:  6482.9136 || Time:   417.2634s\n",
      "Save model at [2|100] to last.pth\n",
      "=============================EVALUATION===================================\n"
     ]
    },
    {
     "name": "stderr",
     "output_type": "stream",
     "text": [
      "100%|█████████████████████████████████████████████| 8/8 [00:08<00:00,  1.07s/it]\n"
     ]
    },
    {
     "name": "stdout",
     "output_type": "stream",
     "text": [
      "Extracting features...\n"
     ]
    },
    {
     "name": "stderr",
     "output_type": "stream",
     "text": [
      "100%|█████████████████████████████████████████████| 8/8 [00:02<00:00,  2.88it/s]\n",
      "100%|███████████████████████████████████████████| 40/40 [00:10<00:00,  3.73it/s]\n"
     ]
    },
    {
     "name": "stdout",
     "output_type": "stream",
     "text": [
      "Calculating distance matrice...\n",
      "Saving retrieval results...\n",
      "Calculating distance matrice...\n",
      "Saving retrieval results...\n",
      "\n",
      "Epochs: [2|100] || Loss: 6379.8994140625 || Time:     8.5731 s\n",
      "i2t/R@1: 0.0002 | i2t/R@5: 0.001 | i2t/R@10: 0.002 | t2i/R@1: 0.0009 | t2i/R@5: 0.0043 | t2i/R@10: 0.0085 | \n",
      "==========================================================================\n"
     ]
    },
    {
     "name": "stderr",
     "output_type": "stream",
     "text": [
      "100%|█████████████████████████████████████████| 227/227 [06:53<00:00,  1.82s/it]\n"
     ]
    },
    {
     "name": "stdout",
     "output_type": "stream",
     "text": [
      "Epochs: [3|100] || Iterations: [908|22927] || Train Loss:  6482.6694 || Time:   413.7360s\n",
      "Save model at [3|100] to last.pth\n"
     ]
    },
    {
     "name": "stderr",
     "output_type": "stream",
     "text": [
      "100%|█████████████████████████████████████████| 227/227 [08:10<00:00,  2.16s/it]\n"
     ]
    },
    {
     "name": "stdout",
     "output_type": "stream",
     "text": [
      "Epochs: [4|100] || Iterations: [1135|22927] || Train Loss:  6483.1230 || Time:   490.8924s\n",
      "Save model at [4|100] to last.pth\n",
      "=============================EVALUATION===================================\n"
     ]
    },
    {
     "name": "stderr",
     "output_type": "stream",
     "text": [
      "100%|█████████████████████████████████████████████| 8/8 [00:08<00:00,  1.05s/it]\n"
     ]
    },
    {
     "name": "stdout",
     "output_type": "stream",
     "text": [
      "Extracting features...\n"
     ]
    },
    {
     "name": "stderr",
     "output_type": "stream",
     "text": [
      "100%|█████████████████████████████████████████████| 8/8 [00:02<00:00,  2.82it/s]\n",
      "100%|███████████████████████████████████████████| 40/40 [00:11<00:00,  3.62it/s]\n"
     ]
    },
    {
     "name": "stdout",
     "output_type": "stream",
     "text": [
      "Calculating distance matrice...\n",
      "Saving retrieval results...\n",
      "Calculating distance matrice...\n",
      "Saving retrieval results...\n",
      "\n",
      "Epochs: [4|100] || Loss: 6379.89990234375 || Time:     8.4347 s\n",
      "i2t/R@1: 0.0002 | i2t/R@5: 0.001 | i2t/R@10: 0.002 | t2i/R@1: 0.001 | t2i/R@5: 0.0041 | t2i/R@10: 0.0081 | \n",
      "==========================================================================\n"
     ]
    },
    {
     "name": "stderr",
     "output_type": "stream",
     "text": [
      "100%|█████████████████████████████████████████| 227/227 [07:45<00:00,  2.05s/it]\n"
     ]
    },
    {
     "name": "stdout",
     "output_type": "stream",
     "text": [
      "Epochs: [5|100] || Iterations: [1362|22927] || Train Loss:  6482.5869 || Time:   465.6964s\n",
      "Save model at [5|100] to last.pth\n"
     ]
    },
    {
     "name": "stderr",
     "output_type": "stream",
     "text": [
      "100%|█████████████████████████████████████████| 227/227 [07:42<00:00,  2.04s/it]\n"
     ]
    },
    {
     "name": "stdout",
     "output_type": "stream",
     "text": [
      "Epochs: [6|100] || Iterations: [1589|22927] || Train Loss:  6482.7632 || Time:   462.1946s\n",
      "Save model at [6|100] to last.pth\n",
      "=============================EVALUATION===================================\n"
     ]
    },
    {
     "name": "stderr",
     "output_type": "stream",
     "text": [
      "100%|█████████████████████████████████████████████| 8/8 [00:09<00:00,  1.15s/it]\n"
     ]
    },
    {
     "name": "stdout",
     "output_type": "stream",
     "text": [
      "Extracting features...\n"
     ]
    },
    {
     "name": "stderr",
     "output_type": "stream",
     "text": [
      "100%|█████████████████████████████████████████████| 8/8 [00:02<00:00,  2.76it/s]\n",
      "100%|███████████████████████████████████████████| 40/40 [00:11<00:00,  3.55it/s]\n"
     ]
    },
    {
     "name": "stdout",
     "output_type": "stream",
     "text": [
      "Calculating distance matrice...\n",
      "Saving retrieval results...\n",
      "Calculating distance matrice...\n",
      "Saving retrieval results...\n",
      "\n",
      "Epochs: [6|100] || Loss: 6379.900390625 || Time:     9.2186 s\n",
      "i2t/R@1: 0.0002 | i2t/R@5: 0.0008 | i2t/R@10: 0.002 | t2i/R@1: 0.0005 | t2i/R@5: 0.0049 | t2i/R@10: 0.0087 | \n",
      "==========================================================================\n"
     ]
    },
    {
     "name": "stderr",
     "output_type": "stream",
     "text": [
      "100%|█████████████████████████████████████████| 227/227 [07:50<00:00,  2.07s/it]\n"
     ]
    },
    {
     "name": "stdout",
     "output_type": "stream",
     "text": [
      "Epochs: [7|100] || Iterations: [1816|22927] || Train Loss:  6482.7695 || Time:   470.4972s\n",
      "Save model at [7|100] to last.pth\n"
     ]
    },
    {
     "name": "stderr",
     "output_type": "stream",
     "text": [
      "100%|█████████████████████████████████████████| 227/227 [08:28<00:00,  2.24s/it]\n"
     ]
    },
    {
     "name": "stdout",
     "output_type": "stream",
     "text": [
      "Epochs: [8|100] || Iterations: [2043|22927] || Train Loss:  6482.7671 || Time:   508.8815s\n",
      "Save model at [8|100] to last.pth\n",
      "=============================EVALUATION===================================\n"
     ]
    },
    {
     "name": "stderr",
     "output_type": "stream",
     "text": [
      "100%|█████████████████████████████████████████████| 8/8 [00:08<00:00,  1.12s/it]\n"
     ]
    },
    {
     "name": "stdout",
     "output_type": "stream",
     "text": [
      "Extracting features...\n"
     ]
    },
    {
     "name": "stderr",
     "output_type": "stream",
     "text": [
      "100%|█████████████████████████████████████████████| 8/8 [00:02<00:00,  2.84it/s]\n",
      "100%|███████████████████████████████████████████| 40/40 [00:11<00:00,  3.43it/s]\n"
     ]
    },
    {
     "name": "stdout",
     "output_type": "stream",
     "text": [
      "Calculating distance matrice...\n",
      "Saving retrieval results...\n",
      "Calculating distance matrice...\n",
      "Saving retrieval results...\n",
      "\n",
      "Epochs: [8|100] || Loss: 6379.900390625 || Time:     8.9702 s\n",
      "i2t/R@1: 0.0002 | i2t/R@5: 0.0012 | i2t/R@10: 0.0018 | t2i/R@1: 0.001 | t2i/R@5: 0.004 | t2i/R@10: 0.0083 | \n",
      "==========================================================================\n"
     ]
    },
    {
     "name": "stderr",
     "output_type": "stream",
     "text": [
      "  4%|█▋                                         | 9/227 [00:17<06:51,  1.89s/it]\n"
     ]
    },
    {
     "name": "stdout",
     "output_type": "stream",
     "text": [
      "Stop training, checkpoint saved...\n",
      "Training Completed!\n"
     ]
    }
   ],
   "source": [
    "print(f'===========================START TRAINING=================================')\n",
    "for epoch in range(num_epochs):\n",
    "  try:\n",
    "    training_epoch(epoch) # training epoch\n",
    "\n",
    "    if evaluate_per_epoch != 0: # evaluation epoch\n",
    "      if epoch % evaluate_per_epoch == 0 and epoch+1 >= evaluate_per_epoch:\n",
    "        best_value = evaluate_epoch(epoch, best_value)\n",
    "\n",
    "  except KeyboardInterrupt:   \n",
    "    checkpoint.save(model, epoch = epoch, iters = iters)\n",
    "    print(\"Stop training, checkpoint saved...\")\n",
    "    break\n",
    "\n",
    "print(\"Training Completed!\")"
   ]
  },
  {
   "cell_type": "code",
   "execution_count": null,
   "id": "aa275b8d",
   "metadata": {},
   "outputs": [],
   "source": []
  }
 ],
 "metadata": {
  "kernelspec": {
   "display_name": "Python 3 (ipykernel)",
   "language": "python",
   "name": "python3"
  },
  "language_info": {
   "codemirror_mode": {
    "name": "ipython",
    "version": 3
   },
   "file_extension": ".py",
   "mimetype": "text/x-python",
   "name": "python",
   "nbconvert_exporter": "python",
   "pygments_lexer": "ipython3",
   "version": "3.8.13"
  }
 },
 "nbformat": 4,
 "nbformat_minor": 5
}
